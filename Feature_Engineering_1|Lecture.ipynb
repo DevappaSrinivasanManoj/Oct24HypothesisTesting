{
  "nbformat": 4,
  "nbformat_minor": 0,
  "metadata": {
    "colab": {
      "provenance": [],
      "authorship_tag": "ABX9TyPzrrc8nz479SSlJT6MatMd",
      "include_colab_link": true
    },
    "kernelspec": {
      "name": "python3",
      "display_name": "Python 3"
    },
    "language_info": {
      "name": "python"
    }
  },
  "cells": [
    {
      "cell_type": "markdown",
      "metadata": {
        "id": "view-in-github",
        "colab_type": "text"
      },
      "source": [
        "<a href=\"https://colab.research.google.com/github/SachinScaler/Oct24HypothesisTesting/blob/main/Feature_Engineering_1%7CLecture.ipynb\" target=\"_parent\"><img src=\"https://colab.research.google.com/assets/colab-badge.svg\" alt=\"Open In Colab\"/></a>"
      ]
    },
    {
      "cell_type": "markdown",
      "source": [
        "## Loan Status Example:\n",
        "\n",
        "**GOAL:** Given a set of attributes of a person, Build a Model to predict if the Loan Request should be Accepted or Rejected"
      ],
      "metadata": {
        "id": "aUqCvRrxp8T8"
      }
    },
    {
      "cell_type": "code",
      "execution_count": 1,
      "metadata": {
        "id": "CpxydGhAgRss"
      },
      "outputs": [],
      "source": [
        "import numpy as np\n",
        "import pandas as pd\n",
        "import matplotlib.pyplot as plt\n",
        "import seaborn as sns\n",
        "\n",
        "import warnings\n",
        "warnings.filterwarnings('ignore')"
      ]
    },
    {
      "cell_type": "code",
      "source": [
        "# read dataset\n",
        "#!gdown 15B0YXLJhx41faA2rVyifWMjlmpuFqAxc # manually download\n",
        "\n",
        "# from git\n",
        "data = pd.read_csv('https://raw.githubusercontent.com/SachinScaler/Oct24HypothesisTesting/refs/heads/main/loan.csv')\n",
        "data.head()"
      ],
      "metadata": {
        "colab": {
          "base_uri": "https://localhost:8080/",
          "height": 240
        },
        "id": "Nspeb6fip1d2",
        "outputId": "0036e4a7-8fa0-4fb7-f497-eb87d2db5606"
      },
      "execution_count": 8,
      "outputs": [
        {
          "output_type": "execute_result",
          "data": {
            "text/plain": [
              "    Loan_ID Gender Married Dependents     Education Self_Employed  \\\n",
              "0  LP001002   Male      No          0      Graduate            No   \n",
              "1  LP001003   Male     Yes          1      Graduate            No   \n",
              "2  LP001005   Male     Yes          0      Graduate           Yes   \n",
              "3  LP001006   Male     Yes          0  Not Graduate            No   \n",
              "4  LP001008   Male      No          0      Graduate            No   \n",
              "\n",
              "   ApplicantIncome  CoapplicantIncome  LoanAmount  Loan_Amount_Term  \\\n",
              "0             5849                0.0         NaN             360.0   \n",
              "1             4583             1508.0       128.0             360.0   \n",
              "2             3000                0.0        66.0             360.0   \n",
              "3             2583             2358.0       120.0             360.0   \n",
              "4             6000                0.0       141.0             360.0   \n",
              "\n",
              "   Credit_History Property_Area Loan_Status  \n",
              "0             1.0         Urban           Y  \n",
              "1             1.0         Rural           N  \n",
              "2             1.0         Urban           Y  \n",
              "3             1.0         Urban           Y  \n",
              "4             1.0         Urban           Y  "
            ],
            "text/html": [
              "\n",
              "  <div id=\"df-841a8533-e051-48aa-93d9-eecd8e573fd6\" class=\"colab-df-container\">\n",
              "    <div>\n",
              "<style scoped>\n",
              "    .dataframe tbody tr th:only-of-type {\n",
              "        vertical-align: middle;\n",
              "    }\n",
              "\n",
              "    .dataframe tbody tr th {\n",
              "        vertical-align: top;\n",
              "    }\n",
              "\n",
              "    .dataframe thead th {\n",
              "        text-align: right;\n",
              "    }\n",
              "</style>\n",
              "<table border=\"1\" class=\"dataframe\">\n",
              "  <thead>\n",
              "    <tr style=\"text-align: right;\">\n",
              "      <th></th>\n",
              "      <th>Loan_ID</th>\n",
              "      <th>Gender</th>\n",
              "      <th>Married</th>\n",
              "      <th>Dependents</th>\n",
              "      <th>Education</th>\n",
              "      <th>Self_Employed</th>\n",
              "      <th>ApplicantIncome</th>\n",
              "      <th>CoapplicantIncome</th>\n",
              "      <th>LoanAmount</th>\n",
              "      <th>Loan_Amount_Term</th>\n",
              "      <th>Credit_History</th>\n",
              "      <th>Property_Area</th>\n",
              "      <th>Loan_Status</th>\n",
              "    </tr>\n",
              "  </thead>\n",
              "  <tbody>\n",
              "    <tr>\n",
              "      <th>0</th>\n",
              "      <td>LP001002</td>\n",
              "      <td>Male</td>\n",
              "      <td>No</td>\n",
              "      <td>0</td>\n",
              "      <td>Graduate</td>\n",
              "      <td>No</td>\n",
              "      <td>5849</td>\n",
              "      <td>0.0</td>\n",
              "      <td>NaN</td>\n",
              "      <td>360.0</td>\n",
              "      <td>1.0</td>\n",
              "      <td>Urban</td>\n",
              "      <td>Y</td>\n",
              "    </tr>\n",
              "    <tr>\n",
              "      <th>1</th>\n",
              "      <td>LP001003</td>\n",
              "      <td>Male</td>\n",
              "      <td>Yes</td>\n",
              "      <td>1</td>\n",
              "      <td>Graduate</td>\n",
              "      <td>No</td>\n",
              "      <td>4583</td>\n",
              "      <td>1508.0</td>\n",
              "      <td>128.0</td>\n",
              "      <td>360.0</td>\n",
              "      <td>1.0</td>\n",
              "      <td>Rural</td>\n",
              "      <td>N</td>\n",
              "    </tr>\n",
              "    <tr>\n",
              "      <th>2</th>\n",
              "      <td>LP001005</td>\n",
              "      <td>Male</td>\n",
              "      <td>Yes</td>\n",
              "      <td>0</td>\n",
              "      <td>Graduate</td>\n",
              "      <td>Yes</td>\n",
              "      <td>3000</td>\n",
              "      <td>0.0</td>\n",
              "      <td>66.0</td>\n",
              "      <td>360.0</td>\n",
              "      <td>1.0</td>\n",
              "      <td>Urban</td>\n",
              "      <td>Y</td>\n",
              "    </tr>\n",
              "    <tr>\n",
              "      <th>3</th>\n",
              "      <td>LP001006</td>\n",
              "      <td>Male</td>\n",
              "      <td>Yes</td>\n",
              "      <td>0</td>\n",
              "      <td>Not Graduate</td>\n",
              "      <td>No</td>\n",
              "      <td>2583</td>\n",
              "      <td>2358.0</td>\n",
              "      <td>120.0</td>\n",
              "      <td>360.0</td>\n",
              "      <td>1.0</td>\n",
              "      <td>Urban</td>\n",
              "      <td>Y</td>\n",
              "    </tr>\n",
              "    <tr>\n",
              "      <th>4</th>\n",
              "      <td>LP001008</td>\n",
              "      <td>Male</td>\n",
              "      <td>No</td>\n",
              "      <td>0</td>\n",
              "      <td>Graduate</td>\n",
              "      <td>No</td>\n",
              "      <td>6000</td>\n",
              "      <td>0.0</td>\n",
              "      <td>141.0</td>\n",
              "      <td>360.0</td>\n",
              "      <td>1.0</td>\n",
              "      <td>Urban</td>\n",
              "      <td>Y</td>\n",
              "    </tr>\n",
              "  </tbody>\n",
              "</table>\n",
              "</div>\n",
              "    <div class=\"colab-df-buttons\">\n",
              "\n",
              "  <div class=\"colab-df-container\">\n",
              "    <button class=\"colab-df-convert\" onclick=\"convertToInteractive('df-841a8533-e051-48aa-93d9-eecd8e573fd6')\"\n",
              "            title=\"Convert this dataframe to an interactive table.\"\n",
              "            style=\"display:none;\">\n",
              "\n",
              "  <svg xmlns=\"http://www.w3.org/2000/svg\" height=\"24px\" viewBox=\"0 -960 960 960\">\n",
              "    <path d=\"M120-120v-720h720v720H120Zm60-500h600v-160H180v160Zm220 220h160v-160H400v160Zm0 220h160v-160H400v160ZM180-400h160v-160H180v160Zm440 0h160v-160H620v160ZM180-180h160v-160H180v160Zm440 0h160v-160H620v160Z\"/>\n",
              "  </svg>\n",
              "    </button>\n",
              "\n",
              "  <style>\n",
              "    .colab-df-container {\n",
              "      display:flex;\n",
              "      gap: 12px;\n",
              "    }\n",
              "\n",
              "    .colab-df-convert {\n",
              "      background-color: #E8F0FE;\n",
              "      border: none;\n",
              "      border-radius: 50%;\n",
              "      cursor: pointer;\n",
              "      display: none;\n",
              "      fill: #1967D2;\n",
              "      height: 32px;\n",
              "      padding: 0 0 0 0;\n",
              "      width: 32px;\n",
              "    }\n",
              "\n",
              "    .colab-df-convert:hover {\n",
              "      background-color: #E2EBFA;\n",
              "      box-shadow: 0px 1px 2px rgba(60, 64, 67, 0.3), 0px 1px 3px 1px rgba(60, 64, 67, 0.15);\n",
              "      fill: #174EA6;\n",
              "    }\n",
              "\n",
              "    .colab-df-buttons div {\n",
              "      margin-bottom: 4px;\n",
              "    }\n",
              "\n",
              "    [theme=dark] .colab-df-convert {\n",
              "      background-color: #3B4455;\n",
              "      fill: #D2E3FC;\n",
              "    }\n",
              "\n",
              "    [theme=dark] .colab-df-convert:hover {\n",
              "      background-color: #434B5C;\n",
              "      box-shadow: 0px 1px 3px 1px rgba(0, 0, 0, 0.15);\n",
              "      filter: drop-shadow(0px 1px 2px rgba(0, 0, 0, 0.3));\n",
              "      fill: #FFFFFF;\n",
              "    }\n",
              "  </style>\n",
              "\n",
              "    <script>\n",
              "      const buttonEl =\n",
              "        document.querySelector('#df-841a8533-e051-48aa-93d9-eecd8e573fd6 button.colab-df-convert');\n",
              "      buttonEl.style.display =\n",
              "        google.colab.kernel.accessAllowed ? 'block' : 'none';\n",
              "\n",
              "      async function convertToInteractive(key) {\n",
              "        const element = document.querySelector('#df-841a8533-e051-48aa-93d9-eecd8e573fd6');\n",
              "        const dataTable =\n",
              "          await google.colab.kernel.invokeFunction('convertToInteractive',\n",
              "                                                    [key], {});\n",
              "        if (!dataTable) return;\n",
              "\n",
              "        const docLinkHtml = 'Like what you see? Visit the ' +\n",
              "          '<a target=\"_blank\" href=https://colab.research.google.com/notebooks/data_table.ipynb>data table notebook</a>'\n",
              "          + ' to learn more about interactive tables.';\n",
              "        element.innerHTML = '';\n",
              "        dataTable['output_type'] = 'display_data';\n",
              "        await google.colab.output.renderOutput(dataTable, element);\n",
              "        const docLink = document.createElement('div');\n",
              "        docLink.innerHTML = docLinkHtml;\n",
              "        element.appendChild(docLink);\n",
              "      }\n",
              "    </script>\n",
              "  </div>\n",
              "\n",
              "\n",
              "<div id=\"df-d15dcf5a-f742-4d66-b7a8-3e9dd30272af\">\n",
              "  <button class=\"colab-df-quickchart\" onclick=\"quickchart('df-d15dcf5a-f742-4d66-b7a8-3e9dd30272af')\"\n",
              "            title=\"Suggest charts\"\n",
              "            style=\"display:none;\">\n",
              "\n",
              "<svg xmlns=\"http://www.w3.org/2000/svg\" height=\"24px\"viewBox=\"0 0 24 24\"\n",
              "     width=\"24px\">\n",
              "    <g>\n",
              "        <path d=\"M19 3H5c-1.1 0-2 .9-2 2v14c0 1.1.9 2 2 2h14c1.1 0 2-.9 2-2V5c0-1.1-.9-2-2-2zM9 17H7v-7h2v7zm4 0h-2V7h2v10zm4 0h-2v-4h2v4z\"/>\n",
              "    </g>\n",
              "</svg>\n",
              "  </button>\n",
              "\n",
              "<style>\n",
              "  .colab-df-quickchart {\n",
              "      --bg-color: #E8F0FE;\n",
              "      --fill-color: #1967D2;\n",
              "      --hover-bg-color: #E2EBFA;\n",
              "      --hover-fill-color: #174EA6;\n",
              "      --disabled-fill-color: #AAA;\n",
              "      --disabled-bg-color: #DDD;\n",
              "  }\n",
              "\n",
              "  [theme=dark] .colab-df-quickchart {\n",
              "      --bg-color: #3B4455;\n",
              "      --fill-color: #D2E3FC;\n",
              "      --hover-bg-color: #434B5C;\n",
              "      --hover-fill-color: #FFFFFF;\n",
              "      --disabled-bg-color: #3B4455;\n",
              "      --disabled-fill-color: #666;\n",
              "  }\n",
              "\n",
              "  .colab-df-quickchart {\n",
              "    background-color: var(--bg-color);\n",
              "    border: none;\n",
              "    border-radius: 50%;\n",
              "    cursor: pointer;\n",
              "    display: none;\n",
              "    fill: var(--fill-color);\n",
              "    height: 32px;\n",
              "    padding: 0;\n",
              "    width: 32px;\n",
              "  }\n",
              "\n",
              "  .colab-df-quickchart:hover {\n",
              "    background-color: var(--hover-bg-color);\n",
              "    box-shadow: 0 1px 2px rgba(60, 64, 67, 0.3), 0 1px 3px 1px rgba(60, 64, 67, 0.15);\n",
              "    fill: var(--button-hover-fill-color);\n",
              "  }\n",
              "\n",
              "  .colab-df-quickchart-complete:disabled,\n",
              "  .colab-df-quickchart-complete:disabled:hover {\n",
              "    background-color: var(--disabled-bg-color);\n",
              "    fill: var(--disabled-fill-color);\n",
              "    box-shadow: none;\n",
              "  }\n",
              "\n",
              "  .colab-df-spinner {\n",
              "    border: 2px solid var(--fill-color);\n",
              "    border-color: transparent;\n",
              "    border-bottom-color: var(--fill-color);\n",
              "    animation:\n",
              "      spin 1s steps(1) infinite;\n",
              "  }\n",
              "\n",
              "  @keyframes spin {\n",
              "    0% {\n",
              "      border-color: transparent;\n",
              "      border-bottom-color: var(--fill-color);\n",
              "      border-left-color: var(--fill-color);\n",
              "    }\n",
              "    20% {\n",
              "      border-color: transparent;\n",
              "      border-left-color: var(--fill-color);\n",
              "      border-top-color: var(--fill-color);\n",
              "    }\n",
              "    30% {\n",
              "      border-color: transparent;\n",
              "      border-left-color: var(--fill-color);\n",
              "      border-top-color: var(--fill-color);\n",
              "      border-right-color: var(--fill-color);\n",
              "    }\n",
              "    40% {\n",
              "      border-color: transparent;\n",
              "      border-right-color: var(--fill-color);\n",
              "      border-top-color: var(--fill-color);\n",
              "    }\n",
              "    60% {\n",
              "      border-color: transparent;\n",
              "      border-right-color: var(--fill-color);\n",
              "    }\n",
              "    80% {\n",
              "      border-color: transparent;\n",
              "      border-right-color: var(--fill-color);\n",
              "      border-bottom-color: var(--fill-color);\n",
              "    }\n",
              "    90% {\n",
              "      border-color: transparent;\n",
              "      border-bottom-color: var(--fill-color);\n",
              "    }\n",
              "  }\n",
              "</style>\n",
              "\n",
              "  <script>\n",
              "    async function quickchart(key) {\n",
              "      const quickchartButtonEl =\n",
              "        document.querySelector('#' + key + ' button');\n",
              "      quickchartButtonEl.disabled = true;  // To prevent multiple clicks.\n",
              "      quickchartButtonEl.classList.add('colab-df-spinner');\n",
              "      try {\n",
              "        const charts = await google.colab.kernel.invokeFunction(\n",
              "            'suggestCharts', [key], {});\n",
              "      } catch (error) {\n",
              "        console.error('Error during call to suggestCharts:', error);\n",
              "      }\n",
              "      quickchartButtonEl.classList.remove('colab-df-spinner');\n",
              "      quickchartButtonEl.classList.add('colab-df-quickchart-complete');\n",
              "    }\n",
              "    (() => {\n",
              "      let quickchartButtonEl =\n",
              "        document.querySelector('#df-d15dcf5a-f742-4d66-b7a8-3e9dd30272af button');\n",
              "      quickchartButtonEl.style.display =\n",
              "        google.colab.kernel.accessAllowed ? 'block' : 'none';\n",
              "    })();\n",
              "  </script>\n",
              "</div>\n",
              "\n",
              "    </div>\n",
              "  </div>\n"
            ],
            "application/vnd.google.colaboratory.intrinsic+json": {
              "type": "dataframe",
              "variable_name": "data",
              "summary": "{\n  \"name\": \"data\",\n  \"rows\": 614,\n  \"fields\": [\n    {\n      \"column\": \"Loan_ID\",\n      \"properties\": {\n        \"dtype\": \"string\",\n        \"num_unique_values\": 614,\n        \"samples\": [\n          \"LP002139\",\n          \"LP002223\",\n          \"LP001570\"\n        ],\n        \"semantic_type\": \"\",\n        \"description\": \"\"\n      }\n    },\n    {\n      \"column\": \"Gender\",\n      \"properties\": {\n        \"dtype\": \"category\",\n        \"num_unique_values\": 2,\n        \"samples\": [\n          \"Female\",\n          \"Male\"\n        ],\n        \"semantic_type\": \"\",\n        \"description\": \"\"\n      }\n    },\n    {\n      \"column\": \"Married\",\n      \"properties\": {\n        \"dtype\": \"category\",\n        \"num_unique_values\": 2,\n        \"samples\": [\n          \"Yes\",\n          \"No\"\n        ],\n        \"semantic_type\": \"\",\n        \"description\": \"\"\n      }\n    },\n    {\n      \"column\": \"Dependents\",\n      \"properties\": {\n        \"dtype\": \"category\",\n        \"num_unique_values\": 4,\n        \"samples\": [\n          \"1\",\n          \"3+\"\n        ],\n        \"semantic_type\": \"\",\n        \"description\": \"\"\n      }\n    },\n    {\n      \"column\": \"Education\",\n      \"properties\": {\n        \"dtype\": \"category\",\n        \"num_unique_values\": 2,\n        \"samples\": [\n          \"Not Graduate\",\n          \"Graduate\"\n        ],\n        \"semantic_type\": \"\",\n        \"description\": \"\"\n      }\n    },\n    {\n      \"column\": \"Self_Employed\",\n      \"properties\": {\n        \"dtype\": \"category\",\n        \"num_unique_values\": 2,\n        \"samples\": [\n          \"Yes\",\n          \"No\"\n        ],\n        \"semantic_type\": \"\",\n        \"description\": \"\"\n      }\n    },\n    {\n      \"column\": \"ApplicantIncome\",\n      \"properties\": {\n        \"dtype\": \"number\",\n        \"std\": 6109,\n        \"min\": 150,\n        \"max\": 81000,\n        \"num_unique_values\": 505,\n        \"samples\": [\n          8333,\n          4342\n        ],\n        \"semantic_type\": \"\",\n        \"description\": \"\"\n      }\n    },\n    {\n      \"column\": \"CoapplicantIncome\",\n      \"properties\": {\n        \"dtype\": \"number\",\n        \"std\": 2926.2483692241917,\n        \"min\": 0.0,\n        \"max\": 41667.0,\n        \"num_unique_values\": 287,\n        \"samples\": [\n          1840.0,\n          2042.0\n        ],\n        \"semantic_type\": \"\",\n        \"description\": \"\"\n      }\n    },\n    {\n      \"column\": \"LoanAmount\",\n      \"properties\": {\n        \"dtype\": \"number\",\n        \"std\": 85.58732523570545,\n        \"min\": 9.0,\n        \"max\": 700.0,\n        \"num_unique_values\": 203,\n        \"samples\": [\n          100.0,\n          70.0\n        ],\n        \"semantic_type\": \"\",\n        \"description\": \"\"\n      }\n    },\n    {\n      \"column\": \"Loan_Amount_Term\",\n      \"properties\": {\n        \"dtype\": \"number\",\n        \"std\": 65.12040985461256,\n        \"min\": 12.0,\n        \"max\": 480.0,\n        \"num_unique_values\": 10,\n        \"samples\": [\n          84.0,\n          120.0\n        ],\n        \"semantic_type\": \"\",\n        \"description\": \"\"\n      }\n    },\n    {\n      \"column\": \"Credit_History\",\n      \"properties\": {\n        \"dtype\": \"number\",\n        \"std\": 0.3648783192364049,\n        \"min\": 0.0,\n        \"max\": 1.0,\n        \"num_unique_values\": 2,\n        \"samples\": [\n          0.0,\n          1.0\n        ],\n        \"semantic_type\": \"\",\n        \"description\": \"\"\n      }\n    },\n    {\n      \"column\": \"Property_Area\",\n      \"properties\": {\n        \"dtype\": \"category\",\n        \"num_unique_values\": 3,\n        \"samples\": [\n          \"Urban\",\n          \"Rural\"\n        ],\n        \"semantic_type\": \"\",\n        \"description\": \"\"\n      }\n    },\n    {\n      \"column\": \"Loan_Status\",\n      \"properties\": {\n        \"dtype\": \"category\",\n        \"num_unique_values\": 2,\n        \"samples\": [\n          \"N\",\n          \"Y\"\n        ],\n        \"semantic_type\": \"\",\n        \"description\": \"\"\n      }\n    }\n  ]\n}"
            }
          },
          "metadata": {},
          "execution_count": 8
        }
      ]
    },
    {
      "cell_type": "code",
      "source": [
        "data.shape"
      ],
      "metadata": {
        "colab": {
          "base_uri": "https://localhost:8080/"
        },
        "id": "U5PfXWjBIxw_",
        "outputId": "db16b3f8-b5be-4be1-8dfa-5bd5ac7deee4"
      },
      "execution_count": 9,
      "outputs": [
        {
          "output_type": "execute_result",
          "data": {
            "text/plain": [
              "(614, 13)"
            ]
          },
          "metadata": {},
          "execution_count": 9
        }
      ]
    },
    {
      "cell_type": "markdown",
      "source": [
        "data dictionary:"
      ],
      "metadata": {
        "id": "tmEm44OHJxe3"
      }
    },
    {
      "cell_type": "markdown",
      "source": [
        "![image.png](data:image/png;base64,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)"
      ],
      "metadata": {
        "id": "oF5RKXVLqnZg"
      }
    },
    {
      "cell_type": "markdown",
      "source": [
        "### Features(Gender, Salary ....) ---> MLModel ---> Target(loan_status)"
      ],
      "metadata": {
        "id": "Ywf8jnJVKAUA"
      }
    },
    {
      "cell_type": "code",
      "source": [
        "data.columns"
      ],
      "metadata": {
        "colab": {
          "base_uri": "https://localhost:8080/"
        },
        "id": "SEojjKn4rP5r",
        "outputId": "6ff991cd-0019-44a2-c58f-1d90e25c6d48"
      },
      "execution_count": 10,
      "outputs": [
        {
          "output_type": "execute_result",
          "data": {
            "text/plain": [
              "Index(['Loan_ID', 'Gender', 'Married', 'Dependents', 'Education',\n",
              "       'Self_Employed', 'ApplicantIncome', 'CoapplicantIncome', 'LoanAmount',\n",
              "       'Loan_Amount_Term', 'Credit_History', 'Property_Area', 'Loan_Status'],\n",
              "      dtype='object')"
            ]
          },
          "metadata": {},
          "execution_count": 10
        }
      ]
    },
    {
      "cell_type": "markdown",
      "source": [
        "**Features:** 'Gender', 'Married', 'Dependents', 'Education',\n",
        "       'Self_Employed', 'ApplicantIncome', 'CoapplicantIncome', 'LoanAmount',\n",
        "       'Loan_Amount_Term', 'Credit_History', 'Property_Area'\n",
        "\n",
        "**Target:** Loan_Status"
      ],
      "metadata": {
        "id": "A382_UuyrNxP"
      }
    },
    {
      "cell_type": "markdown",
      "source": [
        "#### Let's quickly check dtypes"
      ],
      "metadata": {
        "id": "_IoO3VxFrzSm"
      }
    },
    {
      "cell_type": "code",
      "source": [
        "data.dtypes"
      ],
      "metadata": {
        "id": "ghzpgUkzr3bM",
        "colab": {
          "base_uri": "https://localhost:8080/",
          "height": 503
        },
        "outputId": "8e8cbb33-7f97-47d7-ab48-5d5ae3c184c3"
      },
      "execution_count": 11,
      "outputs": [
        {
          "output_type": "execute_result",
          "data": {
            "text/plain": [
              "Loan_ID               object\n",
              "Gender                object\n",
              "Married               object\n",
              "Dependents            object\n",
              "Education             object\n",
              "Self_Employed         object\n",
              "ApplicantIncome        int64\n",
              "CoapplicantIncome    float64\n",
              "LoanAmount           float64\n",
              "Loan_Amount_Term     float64\n",
              "Credit_History       float64\n",
              "Property_Area         object\n",
              "Loan_Status           object\n",
              "dtype: object"
            ],
            "text/html": [
              "<div>\n",
              "<style scoped>\n",
              "    .dataframe tbody tr th:only-of-type {\n",
              "        vertical-align: middle;\n",
              "    }\n",
              "\n",
              "    .dataframe tbody tr th {\n",
              "        vertical-align: top;\n",
              "    }\n",
              "\n",
              "    .dataframe thead th {\n",
              "        text-align: right;\n",
              "    }\n",
              "</style>\n",
              "<table border=\"1\" class=\"dataframe\">\n",
              "  <thead>\n",
              "    <tr style=\"text-align: right;\">\n",
              "      <th></th>\n",
              "      <th>0</th>\n",
              "    </tr>\n",
              "  </thead>\n",
              "  <tbody>\n",
              "    <tr>\n",
              "      <th>Loan_ID</th>\n",
              "      <td>object</td>\n",
              "    </tr>\n",
              "    <tr>\n",
              "      <th>Gender</th>\n",
              "      <td>object</td>\n",
              "    </tr>\n",
              "    <tr>\n",
              "      <th>Married</th>\n",
              "      <td>object</td>\n",
              "    </tr>\n",
              "    <tr>\n",
              "      <th>Dependents</th>\n",
              "      <td>object</td>\n",
              "    </tr>\n",
              "    <tr>\n",
              "      <th>Education</th>\n",
              "      <td>object</td>\n",
              "    </tr>\n",
              "    <tr>\n",
              "      <th>Self_Employed</th>\n",
              "      <td>object</td>\n",
              "    </tr>\n",
              "    <tr>\n",
              "      <th>ApplicantIncome</th>\n",
              "      <td>int64</td>\n",
              "    </tr>\n",
              "    <tr>\n",
              "      <th>CoapplicantIncome</th>\n",
              "      <td>float64</td>\n",
              "    </tr>\n",
              "    <tr>\n",
              "      <th>LoanAmount</th>\n",
              "      <td>float64</td>\n",
              "    </tr>\n",
              "    <tr>\n",
              "      <th>Loan_Amount_Term</th>\n",
              "      <td>float64</td>\n",
              "    </tr>\n",
              "    <tr>\n",
              "      <th>Credit_History</th>\n",
              "      <td>float64</td>\n",
              "    </tr>\n",
              "    <tr>\n",
              "      <th>Property_Area</th>\n",
              "      <td>object</td>\n",
              "    </tr>\n",
              "    <tr>\n",
              "      <th>Loan_Status</th>\n",
              "      <td>object</td>\n",
              "    </tr>\n",
              "  </tbody>\n",
              "</table>\n",
              "</div><br><label><b>dtype:</b> object</label>"
            ]
          },
          "metadata": {},
          "execution_count": 11
        }
      ]
    },
    {
      "cell_type": "markdown",
      "source": [
        "Let's check info of dataset"
      ],
      "metadata": {
        "id": "zHbMy87brlOR"
      }
    },
    {
      "cell_type": "code",
      "source": [
        "data.info()"
      ],
      "metadata": {
        "id": "Sje3BKXdqXnX",
        "colab": {
          "base_uri": "https://localhost:8080/"
        },
        "outputId": "48f741d0-2365-4848-dfb1-f99dc86e3cd4"
      },
      "execution_count": 12,
      "outputs": [
        {
          "output_type": "stream",
          "name": "stdout",
          "text": [
            "<class 'pandas.core.frame.DataFrame'>\n",
            "RangeIndex: 614 entries, 0 to 613\n",
            "Data columns (total 13 columns):\n",
            " #   Column             Non-Null Count  Dtype  \n",
            "---  ------             --------------  -----  \n",
            " 0   Loan_ID            614 non-null    object \n",
            " 1   Gender             601 non-null    object \n",
            " 2   Married            611 non-null    object \n",
            " 3   Dependents         599 non-null    object \n",
            " 4   Education          614 non-null    object \n",
            " 5   Self_Employed      582 non-null    object \n",
            " 6   ApplicantIncome    614 non-null    int64  \n",
            " 7   CoapplicantIncome  614 non-null    float64\n",
            " 8   LoanAmount         592 non-null    float64\n",
            " 9   Loan_Amount_Term   600 non-null    float64\n",
            " 10  Credit_History     564 non-null    float64\n",
            " 11  Property_Area      614 non-null    object \n",
            " 12  Loan_Status        614 non-null    object \n",
            "dtypes: float64(4), int64(1), object(8)\n",
            "memory usage: 62.5+ KB\n"
          ]
        }
      ]
    },
    {
      "cell_type": "markdown",
      "source": [
        "The \"Dependents\" feature should ideally be an integer, as it represents counts such as 0, 1, 2, etc.\n",
        "\n",
        "However, it is currently labelled as an \"Object\" datatype.\n",
        "\n",
        "\n",
        "Let's explore what is wrong here"
      ],
      "metadata": {
        "id": "ycV5yGsXrdWt"
      }
    },
    {
      "cell_type": "code",
      "source": [
        "data[\"Dependents\"].value_counts()"
      ],
      "metadata": {
        "id": "DPOrdMPdrc3-",
        "colab": {
          "base_uri": "https://localhost:8080/",
          "height": 256
        },
        "outputId": "24f47497-e09f-4277-d3b5-e6c6ba9b00da"
      },
      "execution_count": 13,
      "outputs": [
        {
          "output_type": "execute_result",
          "data": {
            "text/plain": [
              "Dependents\n",
              "0     345\n",
              "1     102\n",
              "2     101\n",
              "3+     51\n",
              "Name: count, dtype: int64"
            ],
            "text/html": [
              "<div>\n",
              "<style scoped>\n",
              "    .dataframe tbody tr th:only-of-type {\n",
              "        vertical-align: middle;\n",
              "    }\n",
              "\n",
              "    .dataframe tbody tr th {\n",
              "        vertical-align: top;\n",
              "    }\n",
              "\n",
              "    .dataframe thead th {\n",
              "        text-align: right;\n",
              "    }\n",
              "</style>\n",
              "<table border=\"1\" class=\"dataframe\">\n",
              "  <thead>\n",
              "    <tr style=\"text-align: right;\">\n",
              "      <th></th>\n",
              "      <th>count</th>\n",
              "    </tr>\n",
              "    <tr>\n",
              "      <th>Dependents</th>\n",
              "      <th></th>\n",
              "    </tr>\n",
              "  </thead>\n",
              "  <tbody>\n",
              "    <tr>\n",
              "      <th>0</th>\n",
              "      <td>345</td>\n",
              "    </tr>\n",
              "    <tr>\n",
              "      <th>1</th>\n",
              "      <td>102</td>\n",
              "    </tr>\n",
              "    <tr>\n",
              "      <th>2</th>\n",
              "      <td>101</td>\n",
              "    </tr>\n",
              "    <tr>\n",
              "      <th>3+</th>\n",
              "      <td>51</td>\n",
              "    </tr>\n",
              "  </tbody>\n",
              "</table>\n",
              "</div><br><label><b>dtype:</b> int64</label>"
            ]
          },
          "metadata": {},
          "execution_count": 13
        }
      ]
    },
    {
      "cell_type": "code",
      "source": [],
      "metadata": {
        "id": "t4P8kxoRsGfw"
      },
      "execution_count": null,
      "outputs": []
    },
    {
      "cell_type": "markdown",
      "source": [
        "**Q:** Will loanID be useful in predicting the loan_status?"
      ],
      "metadata": {
        "id": "FYstZdqtreBK"
      }
    },
    {
      "cell_type": "code",
      "source": [
        "data = data.drop('Loan_ID', axis=1)\n",
        "data.shape"
      ],
      "metadata": {
        "id": "o1xYhBX_sFru",
        "colab": {
          "base_uri": "https://localhost:8080/"
        },
        "outputId": "edcc586e-6381-4c08-f29c-af96874097d5"
      },
      "execution_count": 14,
      "outputs": [
        {
          "output_type": "execute_result",
          "data": {
            "text/plain": [
              "(614, 12)"
            ]
          },
          "metadata": {},
          "execution_count": 14
        }
      ]
    },
    {
      "cell_type": "markdown",
      "source": [
        "Let's continue EDA and Describe the data"
      ],
      "metadata": {
        "id": "tM7Ous6rsHf4"
      }
    },
    {
      "cell_type": "code",
      "source": [
        "data.describe()"
      ],
      "metadata": {
        "id": "HnOdQmfjsLrY",
        "colab": {
          "base_uri": "https://localhost:8080/",
          "height": 316
        },
        "outputId": "b907fd7e-2345-4040-f211-44a5042b837c"
      },
      "execution_count": 16,
      "outputs": [
        {
          "output_type": "execute_result",
          "data": {
            "text/plain": [
              "       ApplicantIncome  CoapplicantIncome  LoanAmount  Loan_Amount_Term  \\\n",
              "count       614.000000         614.000000  592.000000         600.00000   \n",
              "mean       5403.459283        1621.245798  146.412162         342.00000   \n",
              "std        6109.041673        2926.248369   85.587325          65.12041   \n",
              "min         150.000000           0.000000    9.000000          12.00000   \n",
              "25%        2877.500000           0.000000  100.000000         360.00000   \n",
              "50%        3812.500000        1188.500000  128.000000         360.00000   \n",
              "75%        5795.000000        2297.250000  168.000000         360.00000   \n",
              "max       81000.000000       41667.000000  700.000000         480.00000   \n",
              "\n",
              "       Credit_History  \n",
              "count      564.000000  \n",
              "mean         0.842199  \n",
              "std          0.364878  \n",
              "min          0.000000  \n",
              "25%          1.000000  \n",
              "50%          1.000000  \n",
              "75%          1.000000  \n",
              "max          1.000000  "
            ],
            "text/html": [
              "\n",
              "  <div id=\"df-9a2d902a-08e5-408c-8089-bc3acc21fa98\" class=\"colab-df-container\">\n",
              "    <div>\n",
              "<style scoped>\n",
              "    .dataframe tbody tr th:only-of-type {\n",
              "        vertical-align: middle;\n",
              "    }\n",
              "\n",
              "    .dataframe tbody tr th {\n",
              "        vertical-align: top;\n",
              "    }\n",
              "\n",
              "    .dataframe thead th {\n",
              "        text-align: right;\n",
              "    }\n",
              "</style>\n",
              "<table border=\"1\" class=\"dataframe\">\n",
              "  <thead>\n",
              "    <tr style=\"text-align: right;\">\n",
              "      <th></th>\n",
              "      <th>ApplicantIncome</th>\n",
              "      <th>CoapplicantIncome</th>\n",
              "      <th>LoanAmount</th>\n",
              "      <th>Loan_Amount_Term</th>\n",
              "      <th>Credit_History</th>\n",
              "    </tr>\n",
              "  </thead>\n",
              "  <tbody>\n",
              "    <tr>\n",
              "      <th>count</th>\n",
              "      <td>614.000000</td>\n",
              "      <td>614.000000</td>\n",
              "      <td>592.000000</td>\n",
              "      <td>600.00000</td>\n",
              "      <td>564.000000</td>\n",
              "    </tr>\n",
              "    <tr>\n",
              "      <th>mean</th>\n",
              "      <td>5403.459283</td>\n",
              "      <td>1621.245798</td>\n",
              "      <td>146.412162</td>\n",
              "      <td>342.00000</td>\n",
              "      <td>0.842199</td>\n",
              "    </tr>\n",
              "    <tr>\n",
              "      <th>std</th>\n",
              "      <td>6109.041673</td>\n",
              "      <td>2926.248369</td>\n",
              "      <td>85.587325</td>\n",
              "      <td>65.12041</td>\n",
              "      <td>0.364878</td>\n",
              "    </tr>\n",
              "    <tr>\n",
              "      <th>min</th>\n",
              "      <td>150.000000</td>\n",
              "      <td>0.000000</td>\n",
              "      <td>9.000000</td>\n",
              "      <td>12.00000</td>\n",
              "      <td>0.000000</td>\n",
              "    </tr>\n",
              "    <tr>\n",
              "      <th>25%</th>\n",
              "      <td>2877.500000</td>\n",
              "      <td>0.000000</td>\n",
              "      <td>100.000000</td>\n",
              "      <td>360.00000</td>\n",
              "      <td>1.000000</td>\n",
              "    </tr>\n",
              "    <tr>\n",
              "      <th>50%</th>\n",
              "      <td>3812.500000</td>\n",
              "      <td>1188.500000</td>\n",
              "      <td>128.000000</td>\n",
              "      <td>360.00000</td>\n",
              "      <td>1.000000</td>\n",
              "    </tr>\n",
              "    <tr>\n",
              "      <th>75%</th>\n",
              "      <td>5795.000000</td>\n",
              "      <td>2297.250000</td>\n",
              "      <td>168.000000</td>\n",
              "      <td>360.00000</td>\n",
              "      <td>1.000000</td>\n",
              "    </tr>\n",
              "    <tr>\n",
              "      <th>max</th>\n",
              "      <td>81000.000000</td>\n",
              "      <td>41667.000000</td>\n",
              "      <td>700.000000</td>\n",
              "      <td>480.00000</td>\n",
              "      <td>1.000000</td>\n",
              "    </tr>\n",
              "  </tbody>\n",
              "</table>\n",
              "</div>\n",
              "    <div class=\"colab-df-buttons\">\n",
              "\n",
              "  <div class=\"colab-df-container\">\n",
              "    <button class=\"colab-df-convert\" onclick=\"convertToInteractive('df-9a2d902a-08e5-408c-8089-bc3acc21fa98')\"\n",
              "            title=\"Convert this dataframe to an interactive table.\"\n",
              "            style=\"display:none;\">\n",
              "\n",
              "  <svg xmlns=\"http://www.w3.org/2000/svg\" height=\"24px\" viewBox=\"0 -960 960 960\">\n",
              "    <path d=\"M120-120v-720h720v720H120Zm60-500h600v-160H180v160Zm220 220h160v-160H400v160Zm0 220h160v-160H400v160ZM180-400h160v-160H180v160Zm440 0h160v-160H620v160ZM180-180h160v-160H180v160Zm440 0h160v-160H620v160Z\"/>\n",
              "  </svg>\n",
              "    </button>\n",
              "\n",
              "  <style>\n",
              "    .colab-df-container {\n",
              "      display:flex;\n",
              "      gap: 12px;\n",
              "    }\n",
              "\n",
              "    .colab-df-convert {\n",
              "      background-color: #E8F0FE;\n",
              "      border: none;\n",
              "      border-radius: 50%;\n",
              "      cursor: pointer;\n",
              "      display: none;\n",
              "      fill: #1967D2;\n",
              "      height: 32px;\n",
              "      padding: 0 0 0 0;\n",
              "      width: 32px;\n",
              "    }\n",
              "\n",
              "    .colab-df-convert:hover {\n",
              "      background-color: #E2EBFA;\n",
              "      box-shadow: 0px 1px 2px rgba(60, 64, 67, 0.3), 0px 1px 3px 1px rgba(60, 64, 67, 0.15);\n",
              "      fill: #174EA6;\n",
              "    }\n",
              "\n",
              "    .colab-df-buttons div {\n",
              "      margin-bottom: 4px;\n",
              "    }\n",
              "\n",
              "    [theme=dark] .colab-df-convert {\n",
              "      background-color: #3B4455;\n",
              "      fill: #D2E3FC;\n",
              "    }\n",
              "\n",
              "    [theme=dark] .colab-df-convert:hover {\n",
              "      background-color: #434B5C;\n",
              "      box-shadow: 0px 1px 3px 1px rgba(0, 0, 0, 0.15);\n",
              "      filter: drop-shadow(0px 1px 2px rgba(0, 0, 0, 0.3));\n",
              "      fill: #FFFFFF;\n",
              "    }\n",
              "  </style>\n",
              "\n",
              "    <script>\n",
              "      const buttonEl =\n",
              "        document.querySelector('#df-9a2d902a-08e5-408c-8089-bc3acc21fa98 button.colab-df-convert');\n",
              "      buttonEl.style.display =\n",
              "        google.colab.kernel.accessAllowed ? 'block' : 'none';\n",
              "\n",
              "      async function convertToInteractive(key) {\n",
              "        const element = document.querySelector('#df-9a2d902a-08e5-408c-8089-bc3acc21fa98');\n",
              "        const dataTable =\n",
              "          await google.colab.kernel.invokeFunction('convertToInteractive',\n",
              "                                                    [key], {});\n",
              "        if (!dataTable) return;\n",
              "\n",
              "        const docLinkHtml = 'Like what you see? Visit the ' +\n",
              "          '<a target=\"_blank\" href=https://colab.research.google.com/notebooks/data_table.ipynb>data table notebook</a>'\n",
              "          + ' to learn more about interactive tables.';\n",
              "        element.innerHTML = '';\n",
              "        dataTable['output_type'] = 'display_data';\n",
              "        await google.colab.output.renderOutput(dataTable, element);\n",
              "        const docLink = document.createElement('div');\n",
              "        docLink.innerHTML = docLinkHtml;\n",
              "        element.appendChild(docLink);\n",
              "      }\n",
              "    </script>\n",
              "  </div>\n",
              "\n",
              "\n",
              "<div id=\"df-16d0faa7-56b2-4cf1-baac-ee5a2ece5f89\">\n",
              "  <button class=\"colab-df-quickchart\" onclick=\"quickchart('df-16d0faa7-56b2-4cf1-baac-ee5a2ece5f89')\"\n",
              "            title=\"Suggest charts\"\n",
              "            style=\"display:none;\">\n",
              "\n",
              "<svg xmlns=\"http://www.w3.org/2000/svg\" height=\"24px\"viewBox=\"0 0 24 24\"\n",
              "     width=\"24px\">\n",
              "    <g>\n",
              "        <path d=\"M19 3H5c-1.1 0-2 .9-2 2v14c0 1.1.9 2 2 2h14c1.1 0 2-.9 2-2V5c0-1.1-.9-2-2-2zM9 17H7v-7h2v7zm4 0h-2V7h2v10zm4 0h-2v-4h2v4z\"/>\n",
              "    </g>\n",
              "</svg>\n",
              "  </button>\n",
              "\n",
              "<style>\n",
              "  .colab-df-quickchart {\n",
              "      --bg-color: #E8F0FE;\n",
              "      --fill-color: #1967D2;\n",
              "      --hover-bg-color: #E2EBFA;\n",
              "      --hover-fill-color: #174EA6;\n",
              "      --disabled-fill-color: #AAA;\n",
              "      --disabled-bg-color: #DDD;\n",
              "  }\n",
              "\n",
              "  [theme=dark] .colab-df-quickchart {\n",
              "      --bg-color: #3B4455;\n",
              "      --fill-color: #D2E3FC;\n",
              "      --hover-bg-color: #434B5C;\n",
              "      --hover-fill-color: #FFFFFF;\n",
              "      --disabled-bg-color: #3B4455;\n",
              "      --disabled-fill-color: #666;\n",
              "  }\n",
              "\n",
              "  .colab-df-quickchart {\n",
              "    background-color: var(--bg-color);\n",
              "    border: none;\n",
              "    border-radius: 50%;\n",
              "    cursor: pointer;\n",
              "    display: none;\n",
              "    fill: var(--fill-color);\n",
              "    height: 32px;\n",
              "    padding: 0;\n",
              "    width: 32px;\n",
              "  }\n",
              "\n",
              "  .colab-df-quickchart:hover {\n",
              "    background-color: var(--hover-bg-color);\n",
              "    box-shadow: 0 1px 2px rgba(60, 64, 67, 0.3), 0 1px 3px 1px rgba(60, 64, 67, 0.15);\n",
              "    fill: var(--button-hover-fill-color);\n",
              "  }\n",
              "\n",
              "  .colab-df-quickchart-complete:disabled,\n",
              "  .colab-df-quickchart-complete:disabled:hover {\n",
              "    background-color: var(--disabled-bg-color);\n",
              "    fill: var(--disabled-fill-color);\n",
              "    box-shadow: none;\n",
              "  }\n",
              "\n",
              "  .colab-df-spinner {\n",
              "    border: 2px solid var(--fill-color);\n",
              "    border-color: transparent;\n",
              "    border-bottom-color: var(--fill-color);\n",
              "    animation:\n",
              "      spin 1s steps(1) infinite;\n",
              "  }\n",
              "\n",
              "  @keyframes spin {\n",
              "    0% {\n",
              "      border-color: transparent;\n",
              "      border-bottom-color: var(--fill-color);\n",
              "      border-left-color: var(--fill-color);\n",
              "    }\n",
              "    20% {\n",
              "      border-color: transparent;\n",
              "      border-left-color: var(--fill-color);\n",
              "      border-top-color: var(--fill-color);\n",
              "    }\n",
              "    30% {\n",
              "      border-color: transparent;\n",
              "      border-left-color: var(--fill-color);\n",
              "      border-top-color: var(--fill-color);\n",
              "      border-right-color: var(--fill-color);\n",
              "    }\n",
              "    40% {\n",
              "      border-color: transparent;\n",
              "      border-right-color: var(--fill-color);\n",
              "      border-top-color: var(--fill-color);\n",
              "    }\n",
              "    60% {\n",
              "      border-color: transparent;\n",
              "      border-right-color: var(--fill-color);\n",
              "    }\n",
              "    80% {\n",
              "      border-color: transparent;\n",
              "      border-right-color: var(--fill-color);\n",
              "      border-bottom-color: var(--fill-color);\n",
              "    }\n",
              "    90% {\n",
              "      border-color: transparent;\n",
              "      border-bottom-color: var(--fill-color);\n",
              "    }\n",
              "  }\n",
              "</style>\n",
              "\n",
              "  <script>\n",
              "    async function quickchart(key) {\n",
              "      const quickchartButtonEl =\n",
              "        document.querySelector('#' + key + ' button');\n",
              "      quickchartButtonEl.disabled = true;  // To prevent multiple clicks.\n",
              "      quickchartButtonEl.classList.add('colab-df-spinner');\n",
              "      try {\n",
              "        const charts = await google.colab.kernel.invokeFunction(\n",
              "            'suggestCharts', [key], {});\n",
              "      } catch (error) {\n",
              "        console.error('Error during call to suggestCharts:', error);\n",
              "      }\n",
              "      quickchartButtonEl.classList.remove('colab-df-spinner');\n",
              "      quickchartButtonEl.classList.add('colab-df-quickchart-complete');\n",
              "    }\n",
              "    (() => {\n",
              "      let quickchartButtonEl =\n",
              "        document.querySelector('#df-16d0faa7-56b2-4cf1-baac-ee5a2ece5f89 button');\n",
              "      quickchartButtonEl.style.display =\n",
              "        google.colab.kernel.accessAllowed ? 'block' : 'none';\n",
              "    })();\n",
              "  </script>\n",
              "</div>\n",
              "\n",
              "    </div>\n",
              "  </div>\n"
            ],
            "application/vnd.google.colaboratory.intrinsic+json": {
              "type": "dataframe",
              "summary": "{\n  \"name\": \"data\",\n  \"rows\": 8,\n  \"fields\": [\n    {\n      \"column\": \"ApplicantIncome\",\n      \"properties\": {\n        \"dtype\": \"number\",\n        \"std\": 27480.19432327756,\n        \"min\": 150.0,\n        \"max\": 81000.0,\n        \"num_unique_values\": 8,\n        \"samples\": [\n          5403.459283387622,\n          3812.5,\n          614.0\n        ],\n        \"semantic_type\": \"\",\n        \"description\": \"\"\n      }\n    },\n    {\n      \"column\": \"CoapplicantIncome\",\n      \"properties\": {\n        \"dtype\": \"number\",\n        \"std\": 14332.564053846478,\n        \"min\": 0.0,\n        \"max\": 41667.0,\n        \"num_unique_values\": 7,\n        \"samples\": [\n          614.0,\n          1621.2457980271008,\n          2297.25\n        ],\n        \"semantic_type\": \"\",\n        \"description\": \"\"\n      }\n    },\n    {\n      \"column\": \"LoanAmount\",\n      \"properties\": {\n        \"dtype\": \"number\",\n        \"std\": 256.0091610169859,\n        \"min\": 9.0,\n        \"max\": 700.0,\n        \"num_unique_values\": 8,\n        \"samples\": [\n          146.41216216216216,\n          128.0,\n          592.0\n        ],\n        \"semantic_type\": \"\",\n        \"description\": \"\"\n      }\n    },\n    {\n      \"column\": \"Loan_Amount_Term\",\n      \"properties\": {\n        \"dtype\": \"number\",\n        \"std\": 196.05608042946525,\n        \"min\": 12.0,\n        \"max\": 600.0,\n        \"num_unique_values\": 6,\n        \"samples\": [\n          600.0,\n          342.0,\n          480.0\n        ],\n        \"semantic_type\": \"\",\n        \"description\": \"\"\n      }\n    },\n    {\n      \"column\": \"Credit_History\",\n      \"properties\": {\n        \"dtype\": \"number\",\n        \"std\": 199.14146277938596,\n        \"min\": 0.0,\n        \"max\": 564.0,\n        \"num_unique_values\": 5,\n        \"samples\": [\n          0.8421985815602837,\n          1.0,\n          0.3648783192364049\n        ],\n        \"semantic_type\": \"\",\n        \"description\": \"\"\n      }\n    }\n  ]\n}"
            }
          },
          "metadata": {},
          "execution_count": 16
        }
      ]
    },
    {
      "cell_type": "markdown",
      "source": [
        "NOTE: `If we don't pass any special arguments in the describe it'll only return statistics for the numeric features.`\n",
        "\n",
        "Based on the summary statistics for the numerical columns in the dataset we can observe that:\n",
        "\n",
        "- The income varies significantly, with the lowest income being `$150`, and the highest being `$81,000`.\n",
        "The majority of applicants have incomes below `$6,000` (75th percentile).\n",
        "\n",
        "- Co-applicant incomes range from `$0` to `$41,667`.\n",
        "\n",
        "- A significant portion of coapplicants has no income (25th percentile).\n",
        "\n",
        "- The mean loan amount requested is approximately `$146 (Thousands)`, indicating that, on average, applicants seek loans of this amount.\n",
        "\n",
        "- The majority of loan terms are for 360 months (30 years).\n",
        "The minimum loan term is 12 months, and the maximum is 480 months.\n",
        "\n",
        "Now, If you look at \"ApplicantIncome\" the max is 81000 So by looking into this we can say that this data right skewed."
      ],
      "metadata": {
        "id": "-C1ADHzmsUdw"
      }
    },
    {
      "cell_type": "markdown",
      "source": [
        "let's check description of non numerical columns now:"
      ],
      "metadata": {
        "id": "zcLUqUypsz6B"
      }
    },
    {
      "cell_type": "code",
      "source": [
        "data.describe(include = ['object'])"
      ],
      "metadata": {
        "id": "soLX_wWAsUTo",
        "colab": {
          "base_uri": "https://localhost:8080/",
          "height": 192
        },
        "outputId": "ec78b0b3-8f16-4011-ae57-dbf1bf386090"
      },
      "execution_count": 17,
      "outputs": [
        {
          "output_type": "execute_result",
          "data": {
            "text/plain": [
              "       Gender Married Dependents Education Self_Employed Property_Area  \\\n",
              "count     601     611        599       614           582           614   \n",
              "unique      2       2          4         2             2             3   \n",
              "top      Male     Yes          0  Graduate            No     Semiurban   \n",
              "freq      489     398        345       480           500           233   \n",
              "\n",
              "       Loan_Status  \n",
              "count          614  \n",
              "unique           2  \n",
              "top              Y  \n",
              "freq           422  "
            ],
            "text/html": [
              "\n",
              "  <div id=\"df-acd87249-b7e5-4549-a970-ac9c2ae888e5\" class=\"colab-df-container\">\n",
              "    <div>\n",
              "<style scoped>\n",
              "    .dataframe tbody tr th:only-of-type {\n",
              "        vertical-align: middle;\n",
              "    }\n",
              "\n",
              "    .dataframe tbody tr th {\n",
              "        vertical-align: top;\n",
              "    }\n",
              "\n",
              "    .dataframe thead th {\n",
              "        text-align: right;\n",
              "    }\n",
              "</style>\n",
              "<table border=\"1\" class=\"dataframe\">\n",
              "  <thead>\n",
              "    <tr style=\"text-align: right;\">\n",
              "      <th></th>\n",
              "      <th>Gender</th>\n",
              "      <th>Married</th>\n",
              "      <th>Dependents</th>\n",
              "      <th>Education</th>\n",
              "      <th>Self_Employed</th>\n",
              "      <th>Property_Area</th>\n",
              "      <th>Loan_Status</th>\n",
              "    </tr>\n",
              "  </thead>\n",
              "  <tbody>\n",
              "    <tr>\n",
              "      <th>count</th>\n",
              "      <td>601</td>\n",
              "      <td>611</td>\n",
              "      <td>599</td>\n",
              "      <td>614</td>\n",
              "      <td>582</td>\n",
              "      <td>614</td>\n",
              "      <td>614</td>\n",
              "    </tr>\n",
              "    <tr>\n",
              "      <th>unique</th>\n",
              "      <td>2</td>\n",
              "      <td>2</td>\n",
              "      <td>4</td>\n",
              "      <td>2</td>\n",
              "      <td>2</td>\n",
              "      <td>3</td>\n",
              "      <td>2</td>\n",
              "    </tr>\n",
              "    <tr>\n",
              "      <th>top</th>\n",
              "      <td>Male</td>\n",
              "      <td>Yes</td>\n",
              "      <td>0</td>\n",
              "      <td>Graduate</td>\n",
              "      <td>No</td>\n",
              "      <td>Semiurban</td>\n",
              "      <td>Y</td>\n",
              "    </tr>\n",
              "    <tr>\n",
              "      <th>freq</th>\n",
              "      <td>489</td>\n",
              "      <td>398</td>\n",
              "      <td>345</td>\n",
              "      <td>480</td>\n",
              "      <td>500</td>\n",
              "      <td>233</td>\n",
              "      <td>422</td>\n",
              "    </tr>\n",
              "  </tbody>\n",
              "</table>\n",
              "</div>\n",
              "    <div class=\"colab-df-buttons\">\n",
              "\n",
              "  <div class=\"colab-df-container\">\n",
              "    <button class=\"colab-df-convert\" onclick=\"convertToInteractive('df-acd87249-b7e5-4549-a970-ac9c2ae888e5')\"\n",
              "            title=\"Convert this dataframe to an interactive table.\"\n",
              "            style=\"display:none;\">\n",
              "\n",
              "  <svg xmlns=\"http://www.w3.org/2000/svg\" height=\"24px\" viewBox=\"0 -960 960 960\">\n",
              "    <path d=\"M120-120v-720h720v720H120Zm60-500h600v-160H180v160Zm220 220h160v-160H400v160Zm0 220h160v-160H400v160ZM180-400h160v-160H180v160Zm440 0h160v-160H620v160ZM180-180h160v-160H180v160Zm440 0h160v-160H620v160Z\"/>\n",
              "  </svg>\n",
              "    </button>\n",
              "\n",
              "  <style>\n",
              "    .colab-df-container {\n",
              "      display:flex;\n",
              "      gap: 12px;\n",
              "    }\n",
              "\n",
              "    .colab-df-convert {\n",
              "      background-color: #E8F0FE;\n",
              "      border: none;\n",
              "      border-radius: 50%;\n",
              "      cursor: pointer;\n",
              "      display: none;\n",
              "      fill: #1967D2;\n",
              "      height: 32px;\n",
              "      padding: 0 0 0 0;\n",
              "      width: 32px;\n",
              "    }\n",
              "\n",
              "    .colab-df-convert:hover {\n",
              "      background-color: #E2EBFA;\n",
              "      box-shadow: 0px 1px 2px rgba(60, 64, 67, 0.3), 0px 1px 3px 1px rgba(60, 64, 67, 0.15);\n",
              "      fill: #174EA6;\n",
              "    }\n",
              "\n",
              "    .colab-df-buttons div {\n",
              "      margin-bottom: 4px;\n",
              "    }\n",
              "\n",
              "    [theme=dark] .colab-df-convert {\n",
              "      background-color: #3B4455;\n",
              "      fill: #D2E3FC;\n",
              "    }\n",
              "\n",
              "    [theme=dark] .colab-df-convert:hover {\n",
              "      background-color: #434B5C;\n",
              "      box-shadow: 0px 1px 3px 1px rgba(0, 0, 0, 0.15);\n",
              "      filter: drop-shadow(0px 1px 2px rgba(0, 0, 0, 0.3));\n",
              "      fill: #FFFFFF;\n",
              "    }\n",
              "  </style>\n",
              "\n",
              "    <script>\n",
              "      const buttonEl =\n",
              "        document.querySelector('#df-acd87249-b7e5-4549-a970-ac9c2ae888e5 button.colab-df-convert');\n",
              "      buttonEl.style.display =\n",
              "        google.colab.kernel.accessAllowed ? 'block' : 'none';\n",
              "\n",
              "      async function convertToInteractive(key) {\n",
              "        const element = document.querySelector('#df-acd87249-b7e5-4549-a970-ac9c2ae888e5');\n",
              "        const dataTable =\n",
              "          await google.colab.kernel.invokeFunction('convertToInteractive',\n",
              "                                                    [key], {});\n",
              "        if (!dataTable) return;\n",
              "\n",
              "        const docLinkHtml = 'Like what you see? Visit the ' +\n",
              "          '<a target=\"_blank\" href=https://colab.research.google.com/notebooks/data_table.ipynb>data table notebook</a>'\n",
              "          + ' to learn more about interactive tables.';\n",
              "        element.innerHTML = '';\n",
              "        dataTable['output_type'] = 'display_data';\n",
              "        await google.colab.output.renderOutput(dataTable, element);\n",
              "        const docLink = document.createElement('div');\n",
              "        docLink.innerHTML = docLinkHtml;\n",
              "        element.appendChild(docLink);\n",
              "      }\n",
              "    </script>\n",
              "  </div>\n",
              "\n",
              "\n",
              "<div id=\"df-1c41c7d0-d27e-449e-88d3-e61693e3d25b\">\n",
              "  <button class=\"colab-df-quickchart\" onclick=\"quickchart('df-1c41c7d0-d27e-449e-88d3-e61693e3d25b')\"\n",
              "            title=\"Suggest charts\"\n",
              "            style=\"display:none;\">\n",
              "\n",
              "<svg xmlns=\"http://www.w3.org/2000/svg\" height=\"24px\"viewBox=\"0 0 24 24\"\n",
              "     width=\"24px\">\n",
              "    <g>\n",
              "        <path d=\"M19 3H5c-1.1 0-2 .9-2 2v14c0 1.1.9 2 2 2h14c1.1 0 2-.9 2-2V5c0-1.1-.9-2-2-2zM9 17H7v-7h2v7zm4 0h-2V7h2v10zm4 0h-2v-4h2v4z\"/>\n",
              "    </g>\n",
              "</svg>\n",
              "  </button>\n",
              "\n",
              "<style>\n",
              "  .colab-df-quickchart {\n",
              "      --bg-color: #E8F0FE;\n",
              "      --fill-color: #1967D2;\n",
              "      --hover-bg-color: #E2EBFA;\n",
              "      --hover-fill-color: #174EA6;\n",
              "      --disabled-fill-color: #AAA;\n",
              "      --disabled-bg-color: #DDD;\n",
              "  }\n",
              "\n",
              "  [theme=dark] .colab-df-quickchart {\n",
              "      --bg-color: #3B4455;\n",
              "      --fill-color: #D2E3FC;\n",
              "      --hover-bg-color: #434B5C;\n",
              "      --hover-fill-color: #FFFFFF;\n",
              "      --disabled-bg-color: #3B4455;\n",
              "      --disabled-fill-color: #666;\n",
              "  }\n",
              "\n",
              "  .colab-df-quickchart {\n",
              "    background-color: var(--bg-color);\n",
              "    border: none;\n",
              "    border-radius: 50%;\n",
              "    cursor: pointer;\n",
              "    display: none;\n",
              "    fill: var(--fill-color);\n",
              "    height: 32px;\n",
              "    padding: 0;\n",
              "    width: 32px;\n",
              "  }\n",
              "\n",
              "  .colab-df-quickchart:hover {\n",
              "    background-color: var(--hover-bg-color);\n",
              "    box-shadow: 0 1px 2px rgba(60, 64, 67, 0.3), 0 1px 3px 1px rgba(60, 64, 67, 0.15);\n",
              "    fill: var(--button-hover-fill-color);\n",
              "  }\n",
              "\n",
              "  .colab-df-quickchart-complete:disabled,\n",
              "  .colab-df-quickchart-complete:disabled:hover {\n",
              "    background-color: var(--disabled-bg-color);\n",
              "    fill: var(--disabled-fill-color);\n",
              "    box-shadow: none;\n",
              "  }\n",
              "\n",
              "  .colab-df-spinner {\n",
              "    border: 2px solid var(--fill-color);\n",
              "    border-color: transparent;\n",
              "    border-bottom-color: var(--fill-color);\n",
              "    animation:\n",
              "      spin 1s steps(1) infinite;\n",
              "  }\n",
              "\n",
              "  @keyframes spin {\n",
              "    0% {\n",
              "      border-color: transparent;\n",
              "      border-bottom-color: var(--fill-color);\n",
              "      border-left-color: var(--fill-color);\n",
              "    }\n",
              "    20% {\n",
              "      border-color: transparent;\n",
              "      border-left-color: var(--fill-color);\n",
              "      border-top-color: var(--fill-color);\n",
              "    }\n",
              "    30% {\n",
              "      border-color: transparent;\n",
              "      border-left-color: var(--fill-color);\n",
              "      border-top-color: var(--fill-color);\n",
              "      border-right-color: var(--fill-color);\n",
              "    }\n",
              "    40% {\n",
              "      border-color: transparent;\n",
              "      border-right-color: var(--fill-color);\n",
              "      border-top-color: var(--fill-color);\n",
              "    }\n",
              "    60% {\n",
              "      border-color: transparent;\n",
              "      border-right-color: var(--fill-color);\n",
              "    }\n",
              "    80% {\n",
              "      border-color: transparent;\n",
              "      border-right-color: var(--fill-color);\n",
              "      border-bottom-color: var(--fill-color);\n",
              "    }\n",
              "    90% {\n",
              "      border-color: transparent;\n",
              "      border-bottom-color: var(--fill-color);\n",
              "    }\n",
              "  }\n",
              "</style>\n",
              "\n",
              "  <script>\n",
              "    async function quickchart(key) {\n",
              "      const quickchartButtonEl =\n",
              "        document.querySelector('#' + key + ' button');\n",
              "      quickchartButtonEl.disabled = true;  // To prevent multiple clicks.\n",
              "      quickchartButtonEl.classList.add('colab-df-spinner');\n",
              "      try {\n",
              "        const charts = await google.colab.kernel.invokeFunction(\n",
              "            'suggestCharts', [key], {});\n",
              "      } catch (error) {\n",
              "        console.error('Error during call to suggestCharts:', error);\n",
              "      }\n",
              "      quickchartButtonEl.classList.remove('colab-df-spinner');\n",
              "      quickchartButtonEl.classList.add('colab-df-quickchart-complete');\n",
              "    }\n",
              "    (() => {\n",
              "      let quickchartButtonEl =\n",
              "        document.querySelector('#df-1c41c7d0-d27e-449e-88d3-e61693e3d25b button');\n",
              "      quickchartButtonEl.style.display =\n",
              "        google.colab.kernel.accessAllowed ? 'block' : 'none';\n",
              "    })();\n",
              "  </script>\n",
              "</div>\n",
              "\n",
              "    </div>\n",
              "  </div>\n"
            ],
            "application/vnd.google.colaboratory.intrinsic+json": {
              "type": "dataframe",
              "summary": "{\n  \"name\": \"data\",\n  \"rows\": 4,\n  \"fields\": [\n    {\n      \"column\": \"Gender\",\n      \"properties\": {\n        \"dtype\": \"string\",\n        \"num_unique_values\": 4,\n        \"samples\": [\n          2,\n          \"489\",\n          \"601\"\n        ],\n        \"semantic_type\": \"\",\n        \"description\": \"\"\n      }\n    },\n    {\n      \"column\": \"Married\",\n      \"properties\": {\n        \"dtype\": \"string\",\n        \"num_unique_values\": 4,\n        \"samples\": [\n          2,\n          \"398\",\n          \"611\"\n        ],\n        \"semantic_type\": \"\",\n        \"description\": \"\"\n      }\n    },\n    {\n      \"column\": \"Dependents\",\n      \"properties\": {\n        \"dtype\": \"string\",\n        \"num_unique_values\": 4,\n        \"samples\": [\n          4,\n          \"345\",\n          \"599\"\n        ],\n        \"semantic_type\": \"\",\n        \"description\": \"\"\n      }\n    },\n    {\n      \"column\": \"Education\",\n      \"properties\": {\n        \"dtype\": \"string\",\n        \"num_unique_values\": 4,\n        \"samples\": [\n          2,\n          \"480\",\n          \"614\"\n        ],\n        \"semantic_type\": \"\",\n        \"description\": \"\"\n      }\n    },\n    {\n      \"column\": \"Self_Employed\",\n      \"properties\": {\n        \"dtype\": \"string\",\n        \"num_unique_values\": 4,\n        \"samples\": [\n          2,\n          \"500\",\n          \"582\"\n        ],\n        \"semantic_type\": \"\",\n        \"description\": \"\"\n      }\n    },\n    {\n      \"column\": \"Property_Area\",\n      \"properties\": {\n        \"dtype\": \"string\",\n        \"num_unique_values\": 4,\n        \"samples\": [\n          3,\n          \"233\",\n          \"614\"\n        ],\n        \"semantic_type\": \"\",\n        \"description\": \"\"\n      }\n    },\n    {\n      \"column\": \"Loan_Status\",\n      \"properties\": {\n        \"dtype\": \"string\",\n        \"num_unique_values\": 4,\n        \"samples\": [\n          2,\n          \"422\",\n          \"614\"\n        ],\n        \"semantic_type\": \"\",\n        \"description\": \"\"\n      }\n    }\n  ]\n}"
            }
          },
          "metadata": {},
          "execution_count": 17
        }
      ]
    },
    {
      "cell_type": "markdown",
      "source": [
        "Based on the above summary statistics we can observe that:\n",
        "\n",
        "- Male applicants significantly outnumber female applicants in the dataset.\n",
        "- A significant proportion of applicants are married (398 out of 611).\n",
        "- Married applicants are prevalent in the dataset.\n",
        "- A substantial portion of applicants has no dependents.\n",
        "- Graduates make up a significant portion of the applicant pool.\n",
        "- Non-self-employed individuals dominate the dataset.\n",
        "- A significant number of applicants are from semiurban areas.\n",
        "- The majority of applicants have their loans approved."
      ],
      "metadata": {
        "id": "ryObpZMjs8lf"
      }
    },
    {
      "cell_type": "markdown",
      "source": [
        "Let's check for any null values present\n"
      ],
      "metadata": {
        "id": "_xrxdFogtH1B"
      }
    },
    {
      "cell_type": "code",
      "source": [
        "data.isna().sum()/data.shape[0]*100"
      ],
      "metadata": {
        "id": "v8gEq44Vs8VC",
        "colab": {
          "base_uri": "https://localhost:8080/",
          "height": 472
        },
        "outputId": "9531b3d8-1150-4fbf-d517-9437ba622ca9"
      },
      "execution_count": 20,
      "outputs": [
        {
          "output_type": "execute_result",
          "data": {
            "text/plain": [
              "Gender               2.117264\n",
              "Married              0.488599\n",
              "Dependents           2.442997\n",
              "Education            0.000000\n",
              "Self_Employed        5.211726\n",
              "ApplicantIncome      0.000000\n",
              "CoapplicantIncome    0.000000\n",
              "LoanAmount           3.583062\n",
              "Loan_Amount_Term     2.280130\n",
              "Credit_History       8.143322\n",
              "Property_Area        0.000000\n",
              "Loan_Status          0.000000\n",
              "dtype: float64"
            ],
            "text/html": [
              "<div>\n",
              "<style scoped>\n",
              "    .dataframe tbody tr th:only-of-type {\n",
              "        vertical-align: middle;\n",
              "    }\n",
              "\n",
              "    .dataframe tbody tr th {\n",
              "        vertical-align: top;\n",
              "    }\n",
              "\n",
              "    .dataframe thead th {\n",
              "        text-align: right;\n",
              "    }\n",
              "</style>\n",
              "<table border=\"1\" class=\"dataframe\">\n",
              "  <thead>\n",
              "    <tr style=\"text-align: right;\">\n",
              "      <th></th>\n",
              "      <th>0</th>\n",
              "    </tr>\n",
              "  </thead>\n",
              "  <tbody>\n",
              "    <tr>\n",
              "      <th>Gender</th>\n",
              "      <td>2.117264</td>\n",
              "    </tr>\n",
              "    <tr>\n",
              "      <th>Married</th>\n",
              "      <td>0.488599</td>\n",
              "    </tr>\n",
              "    <tr>\n",
              "      <th>Dependents</th>\n",
              "      <td>2.442997</td>\n",
              "    </tr>\n",
              "    <tr>\n",
              "      <th>Education</th>\n",
              "      <td>0.000000</td>\n",
              "    </tr>\n",
              "    <tr>\n",
              "      <th>Self_Employed</th>\n",
              "      <td>5.211726</td>\n",
              "    </tr>\n",
              "    <tr>\n",
              "      <th>ApplicantIncome</th>\n",
              "      <td>0.000000</td>\n",
              "    </tr>\n",
              "    <tr>\n",
              "      <th>CoapplicantIncome</th>\n",
              "      <td>0.000000</td>\n",
              "    </tr>\n",
              "    <tr>\n",
              "      <th>LoanAmount</th>\n",
              "      <td>3.583062</td>\n",
              "    </tr>\n",
              "    <tr>\n",
              "      <th>Loan_Amount_Term</th>\n",
              "      <td>2.280130</td>\n",
              "    </tr>\n",
              "    <tr>\n",
              "      <th>Credit_History</th>\n",
              "      <td>8.143322</td>\n",
              "    </tr>\n",
              "    <tr>\n",
              "      <th>Property_Area</th>\n",
              "      <td>0.000000</td>\n",
              "    </tr>\n",
              "    <tr>\n",
              "      <th>Loan_Status</th>\n",
              "      <td>0.000000</td>\n",
              "    </tr>\n",
              "  </tbody>\n",
              "</table>\n",
              "</div><br><label><b>dtype:</b> float64</label>"
            ]
          },
          "metadata": {},
          "execution_count": 20
        }
      ]
    },
    {
      "cell_type": "code",
      "source": [
        "data.isna().sum()"
      ],
      "metadata": {
        "colab": {
          "base_uri": "https://localhost:8080/",
          "height": 472
        },
        "id": "5948HLcfOnOQ",
        "outputId": "a16a1960-5e89-48f6-8409-b90e0a9e0a7d"
      },
      "execution_count": 21,
      "outputs": [
        {
          "output_type": "execute_result",
          "data": {
            "text/plain": [
              "Gender               13\n",
              "Married               3\n",
              "Dependents           15\n",
              "Education             0\n",
              "Self_Employed        32\n",
              "ApplicantIncome       0\n",
              "CoapplicantIncome     0\n",
              "LoanAmount           22\n",
              "Loan_Amount_Term     14\n",
              "Credit_History       50\n",
              "Property_Area         0\n",
              "Loan_Status           0\n",
              "dtype: int64"
            ],
            "text/html": [
              "<div>\n",
              "<style scoped>\n",
              "    .dataframe tbody tr th:only-of-type {\n",
              "        vertical-align: middle;\n",
              "    }\n",
              "\n",
              "    .dataframe tbody tr th {\n",
              "        vertical-align: top;\n",
              "    }\n",
              "\n",
              "    .dataframe thead th {\n",
              "        text-align: right;\n",
              "    }\n",
              "</style>\n",
              "<table border=\"1\" class=\"dataframe\">\n",
              "  <thead>\n",
              "    <tr style=\"text-align: right;\">\n",
              "      <th></th>\n",
              "      <th>0</th>\n",
              "    </tr>\n",
              "  </thead>\n",
              "  <tbody>\n",
              "    <tr>\n",
              "      <th>Gender</th>\n",
              "      <td>13</td>\n",
              "    </tr>\n",
              "    <tr>\n",
              "      <th>Married</th>\n",
              "      <td>3</td>\n",
              "    </tr>\n",
              "    <tr>\n",
              "      <th>Dependents</th>\n",
              "      <td>15</td>\n",
              "    </tr>\n",
              "    <tr>\n",
              "      <th>Education</th>\n",
              "      <td>0</td>\n",
              "    </tr>\n",
              "    <tr>\n",
              "      <th>Self_Employed</th>\n",
              "      <td>32</td>\n",
              "    </tr>\n",
              "    <tr>\n",
              "      <th>ApplicantIncome</th>\n",
              "      <td>0</td>\n",
              "    </tr>\n",
              "    <tr>\n",
              "      <th>CoapplicantIncome</th>\n",
              "      <td>0</td>\n",
              "    </tr>\n",
              "    <tr>\n",
              "      <th>LoanAmount</th>\n",
              "      <td>22</td>\n",
              "    </tr>\n",
              "    <tr>\n",
              "      <th>Loan_Amount_Term</th>\n",
              "      <td>14</td>\n",
              "    </tr>\n",
              "    <tr>\n",
              "      <th>Credit_History</th>\n",
              "      <td>50</td>\n",
              "    </tr>\n",
              "    <tr>\n",
              "      <th>Property_Area</th>\n",
              "      <td>0</td>\n",
              "    </tr>\n",
              "    <tr>\n",
              "      <th>Loan_Status</th>\n",
              "      <td>0</td>\n",
              "    </tr>\n",
              "  </tbody>\n",
              "</table>\n",
              "</div><br><label><b>dtype:</b> int64</label>"
            ]
          },
          "metadata": {},
          "execution_count": 21
        }
      ]
    },
    {
      "cell_type": "markdown",
      "source": [
        "Few Null Values"
      ],
      "metadata": {
        "id": "TUGM3eljtOew"
      }
    },
    {
      "cell_type": "markdown",
      "source": [
        "For simplicity, let's store Categorical and Numerical Features seperately:"
      ],
      "metadata": {
        "id": "rsShPwJWtMPk"
      }
    },
    {
      "cell_type": "code",
      "source": [
        "num_cols = data.dtypes != 'object'\n",
        "num_cols"
      ],
      "metadata": {
        "id": "euosmS0dtddb",
        "colab": {
          "base_uri": "https://localhost:8080/",
          "height": 472
        },
        "outputId": "5a4a02b8-dcd6-4316-82b8-f812549323ac"
      },
      "execution_count": 22,
      "outputs": [
        {
          "output_type": "execute_result",
          "data": {
            "text/plain": [
              "Gender               False\n",
              "Married              False\n",
              "Dependents           False\n",
              "Education            False\n",
              "Self_Employed        False\n",
              "ApplicantIncome       True\n",
              "CoapplicantIncome     True\n",
              "LoanAmount            True\n",
              "Loan_Amount_Term      True\n",
              "Credit_History        True\n",
              "Property_Area        False\n",
              "Loan_Status          False\n",
              "dtype: bool"
            ],
            "text/html": [
              "<div>\n",
              "<style scoped>\n",
              "    .dataframe tbody tr th:only-of-type {\n",
              "        vertical-align: middle;\n",
              "    }\n",
              "\n",
              "    .dataframe tbody tr th {\n",
              "        vertical-align: top;\n",
              "    }\n",
              "\n",
              "    .dataframe thead th {\n",
              "        text-align: right;\n",
              "    }\n",
              "</style>\n",
              "<table border=\"1\" class=\"dataframe\">\n",
              "  <thead>\n",
              "    <tr style=\"text-align: right;\">\n",
              "      <th></th>\n",
              "      <th>0</th>\n",
              "    </tr>\n",
              "  </thead>\n",
              "  <tbody>\n",
              "    <tr>\n",
              "      <th>Gender</th>\n",
              "      <td>False</td>\n",
              "    </tr>\n",
              "    <tr>\n",
              "      <th>Married</th>\n",
              "      <td>False</td>\n",
              "    </tr>\n",
              "    <tr>\n",
              "      <th>Dependents</th>\n",
              "      <td>False</td>\n",
              "    </tr>\n",
              "    <tr>\n",
              "      <th>Education</th>\n",
              "      <td>False</td>\n",
              "    </tr>\n",
              "    <tr>\n",
              "      <th>Self_Employed</th>\n",
              "      <td>False</td>\n",
              "    </tr>\n",
              "    <tr>\n",
              "      <th>ApplicantIncome</th>\n",
              "      <td>True</td>\n",
              "    </tr>\n",
              "    <tr>\n",
              "      <th>CoapplicantIncome</th>\n",
              "      <td>True</td>\n",
              "    </tr>\n",
              "    <tr>\n",
              "      <th>LoanAmount</th>\n",
              "      <td>True</td>\n",
              "    </tr>\n",
              "    <tr>\n",
              "      <th>Loan_Amount_Term</th>\n",
              "      <td>True</td>\n",
              "    </tr>\n",
              "    <tr>\n",
              "      <th>Credit_History</th>\n",
              "      <td>True</td>\n",
              "    </tr>\n",
              "    <tr>\n",
              "      <th>Property_Area</th>\n",
              "      <td>False</td>\n",
              "    </tr>\n",
              "    <tr>\n",
              "      <th>Loan_Status</th>\n",
              "      <td>False</td>\n",
              "    </tr>\n",
              "  </tbody>\n",
              "</table>\n",
              "</div><br><label><b>dtype:</b> bool</label>"
            ]
          },
          "metadata": {},
          "execution_count": 22
        }
      ]
    },
    {
      "cell_type": "code",
      "source": [
        "nums_cols = list(num_cols[num_cols].index)\n",
        "nums_cols"
      ],
      "metadata": {
        "id": "Pbc3NLHgtom8",
        "colab": {
          "base_uri": "https://localhost:8080/"
        },
        "outputId": "05282394-f296-4900-cc89-49b4cbd4bd92"
      },
      "execution_count": 31,
      "outputs": [
        {
          "output_type": "execute_result",
          "data": {
            "text/plain": [
              "['ApplicantIncome',\n",
              " 'CoapplicantIncome',\n",
              " 'LoanAmount',\n",
              " 'Loan_Amount_Term',\n",
              " 'Credit_History']"
            ]
          },
          "metadata": {},
          "execution_count": 31
        }
      ]
    },
    {
      "cell_type": "code",
      "source": [
        "cat_cols = data.dtypes == 'object'\n",
        "cat_cols\n",
        "cat_cols = list(cat_cols[cat_cols].index)\n",
        "cat_cols"
      ],
      "metadata": {
        "colab": {
          "base_uri": "https://localhost:8080/"
        },
        "id": "VzcTcVIaPawi",
        "outputId": "4fa38e27-5c66-4988-80a3-b2e9e3d00247"
      },
      "execution_count": 26,
      "outputs": [
        {
          "output_type": "execute_result",
          "data": {
            "text/plain": [
              "['Gender',\n",
              " 'Married',\n",
              " 'Dependents',\n",
              " 'Education',\n",
              " 'Self_Employed',\n",
              " 'Property_Area',\n",
              " 'Loan_Status']"
            ]
          },
          "metadata": {},
          "execution_count": 26
        }
      ]
    },
    {
      "cell_type": "markdown",
      "source": [
        "Now in \"cat_cols\" you can see 'Loan_Status' is also there but as we know 'Loan_Status' is a Target so let's remove it from features.\n",
        "\n"
      ],
      "metadata": {
        "id": "rB0O6fe1tpBM"
      }
    },
    {
      "cell_type": "code",
      "source": [
        "cat_cols.remove('Loan_Status')\n",
        "cat_cols"
      ],
      "metadata": {
        "id": "pq5KtelJuMTP",
        "colab": {
          "base_uri": "https://localhost:8080/"
        },
        "outputId": "ff69d14b-1c88-4a6a-bc95-a1cfcd678580"
      },
      "execution_count": 27,
      "outputs": [
        {
          "output_type": "execute_result",
          "data": {
            "text/plain": [
              "['Gender',\n",
              " 'Married',\n",
              " 'Dependents',\n",
              " 'Education',\n",
              " 'Self_Employed',\n",
              " 'Property_Area']"
            ]
          },
          "metadata": {},
          "execution_count": 27
        }
      ]
    },
    {
      "cell_type": "markdown",
      "source": [
        "### Let's Deep Dive into Skewness of Numerical Cols"
      ],
      "metadata": {
        "id": "ZHT-Mla6uOXX"
      }
    },
    {
      "cell_type": "code",
      "source": [
        "import matplotlib.pyplot as plt\n",
        "plt.rcParams[\"figure.figsize\"] = [15,10]\n",
        "data.plot(kind = 'density', subplots = True, layout = (3,3), sharex = False)\n",
        "plt.show()"
      ],
      "metadata": {
        "id": "Vi_8P8EHuRee",
        "colab": {
          "base_uri": "https://localhost:8080/",
          "height": 582
        },
        "outputId": "3e0312e5-62ac-42c1-b6ca-624668c8bbaf"
      },
      "execution_count": 28,
      "outputs": [
        {
          "output_type": "display_data",
          "data": {
            "text/plain": [
              "<Figure size 1500x1000 with 9 Axes>"
            ],
            "image/png": "[encoded data removed]"
          },
          "metadata": {}
        }
      ]
    },
    {
      "cell_type": "markdown",
      "source": [
        "reference: https://pandas.pydata.org/pandas-docs/stable/reference/api/pandas.DataFrame.plot.html"
      ],
      "metadata": {
        "id": "WjOrXPyWvaUZ"
      }
    },
    {
      "cell_type": "code",
      "source": [
        "data.head()"
      ],
      "metadata": {
        "id": "ovJUMkGVvem2",
        "colab": {
          "base_uri": "https://localhost:8080/",
          "height": 240
        },
        "outputId": "39812294-7cd9-4425-f899-7ddc05159482"
      },
      "execution_count": 29,
      "outputs": [
        {
          "output_type": "execute_result",
          "data": {
            "text/plain": [
              "  Gender Married Dependents     Education Self_Employed  ApplicantIncome  \\\n",
              "0   Male      No          0      Graduate            No             5849   \n",
              "1   Male     Yes          1      Graduate            No             4583   \n",
              "2   Male     Yes          0      Graduate           Yes             3000   \n",
              "3   Male     Yes          0  Not Graduate            No             2583   \n",
              "4   Male      No          0      Graduate            No             6000   \n",
              "\n",
              "   CoapplicantIncome  LoanAmount  Loan_Amount_Term  Credit_History  \\\n",
              "0                0.0         NaN             360.0             1.0   \n",
              "1             1508.0       128.0             360.0             1.0   \n",
              "2                0.0        66.0             360.0             1.0   \n",
              "3             2358.0       120.0             360.0             1.0   \n",
              "4                0.0       141.0             360.0             1.0   \n",
              "\n",
              "  Property_Area Loan_Status  \n",
              "0         Urban           Y  \n",
              "1         Rural           N  \n",
              "2         Urban           Y  \n",
              "3         Urban           Y  \n",
              "4         Urban           Y  "
            ],
            "text/html": [
              "\n",
              "  <div id=\"df-e596cb2f-131e-4f20-8a71-3aef105170e1\" class=\"colab-df-container\">\n",
              "    <div>\n",
              "<style scoped>\n",
              "    .dataframe tbody tr th:only-of-type {\n",
              "        vertical-align: middle;\n",
              "    }\n",
              "\n",
              "    .dataframe tbody tr th {\n",
              "        vertical-align: top;\n",
              "    }\n",
              "\n",
              "    .dataframe thead th {\n",
              "        text-align: right;\n",
              "    }\n",
              "</style>\n",
              "<table border=\"1\" class=\"dataframe\">\n",
              "  <thead>\n",
              "    <tr style=\"text-align: right;\">\n",
              "      <th></th>\n",
              "      <th>Gender</th>\n",
              "      <th>Married</th>\n",
              "      <th>Dependents</th>\n",
              "      <th>Education</th>\n",
              "      <th>Self_Employed</th>\n",
              "      <th>ApplicantIncome</th>\n",
              "      <th>CoapplicantIncome</th>\n",
              "      <th>LoanAmount</th>\n",
              "      <th>Loan_Amount_Term</th>\n",
              "      <th>Credit_History</th>\n",
              "      <th>Property_Area</th>\n",
              "      <th>Loan_Status</th>\n",
              "    </tr>\n",
              "  </thead>\n",
              "  <tbody>\n",
              "    <tr>\n",
              "      <th>0</th>\n",
              "      <td>Male</td>\n",
              "      <td>No</td>\n",
              "      <td>0</td>\n",
              "      <td>Graduate</td>\n",
              "      <td>No</td>\n",
              "      <td>5849</td>\n",
              "      <td>0.0</td>\n",
              "      <td>NaN</td>\n",
              "      <td>360.0</td>\n",
              "      <td>1.0</td>\n",
              "      <td>Urban</td>\n",
              "      <td>Y</td>\n",
              "    </tr>\n",
              "    <tr>\n",
              "      <th>1</th>\n",
              "      <td>Male</td>\n",
              "      <td>Yes</td>\n",
              "      <td>1</td>\n",
              "      <td>Graduate</td>\n",
              "      <td>No</td>\n",
              "      <td>4583</td>\n",
              "      <td>1508.0</td>\n",
              "      <td>128.0</td>\n",
              "      <td>360.0</td>\n",
              "      <td>1.0</td>\n",
              "      <td>Rural</td>\n",
              "      <td>N</td>\n",
              "    </tr>\n",
              "    <tr>\n",
              "      <th>2</th>\n",
              "      <td>Male</td>\n",
              "      <td>Yes</td>\n",
              "      <td>0</td>\n",
              "      <td>Graduate</td>\n",
              "      <td>Yes</td>\n",
              "      <td>3000</td>\n",
              "      <td>0.0</td>\n",
              "      <td>66.0</td>\n",
              "      <td>360.0</td>\n",
              "      <td>1.0</td>\n",
              "      <td>Urban</td>\n",
              "      <td>Y</td>\n",
              "    </tr>\n",
              "    <tr>\n",
              "      <th>3</th>\n",
              "      <td>Male</td>\n",
              "      <td>Yes</td>\n",
              "      <td>0</td>\n",
              "      <td>Not Graduate</td>\n",
              "      <td>No</td>\n",
              "      <td>2583</td>\n",
              "      <td>2358.0</td>\n",
              "      <td>120.0</td>\n",
              "      <td>360.0</td>\n",
              "      <td>1.0</td>\n",
              "      <td>Urban</td>\n",
              "      <td>Y</td>\n",
              "    </tr>\n",
              "    <tr>\n",
              "      <th>4</th>\n",
              "      <td>Male</td>\n",
              "      <td>No</td>\n",
              "      <td>0</td>\n",
              "      <td>Graduate</td>\n",
              "      <td>No</td>\n",
              "      <td>6000</td>\n",
              "      <td>0.0</td>\n",
              "      <td>141.0</td>\n",
              "      <td>360.0</td>\n",
              "      <td>1.0</td>\n",
              "      <td>Urban</td>\n",
              "      <td>Y</td>\n",
              "    </tr>\n",
              "  </tbody>\n",
              "</table>\n",
              "</div>\n",
              "    <div class=\"colab-df-buttons\">\n",
              "\n",
              "  <div class=\"colab-df-container\">\n",
              "    <button class=\"colab-df-convert\" onclick=\"convertToInteractive('df-e596cb2f-131e-4f20-8a71-3aef105170e1')\"\n",
              "            title=\"Convert this dataframe to an interactive table.\"\n",
              "            style=\"display:none;\">\n",
              "\n",
              "  <svg xmlns=\"http://www.w3.org/2000/svg\" height=\"24px\" viewBox=\"0 -960 960 960\">\n",
              "    <path d=\"M120-120v-720h720v720H120Zm60-500h600v-160H180v160Zm220 220h160v-160H400v160Zm0 220h160v-160H400v160ZM180-400h160v-160H180v160Zm440 0h160v-160H620v160ZM180-180h160v-160H180v160Zm440 0h160v-160H620v160Z\"/>\n",
              "  </svg>\n",
              "    </button>\n",
              "\n",
              "  <style>\n",
              "    .colab-df-container {\n",
              "      display:flex;\n",
              "      gap: 12px;\n",
              "    }\n",
              "\n",
              "    .colab-df-convert {\n",
              "      background-color: #E8F0FE;\n",
              "      border: none;\n",
              "      border-radius: 50%;\n",
              "      cursor: pointer;\n",
              "      display: none;\n",
              "      fill: #1967D2;\n",
              "      height: 32px;\n",
              "      padding: 0 0 0 0;\n",
              "      width: 32px;\n",
              "    }\n",
              "\n",
              "    .colab-df-convert:hover {\n",
              "      background-color: #E2EBFA;\n",
              "      box-shadow: 0px 1px 2px rgba(60, 64, 67, 0.3), 0px 1px 3px 1px rgba(60, 64, 67, 0.15);\n",
              "      fill: #174EA6;\n",
              "    }\n",
              "\n",
              "    .colab-df-buttons div {\n",
              "      margin-bottom: 4px;\n",
              "    }\n",
              "\n",
              "    [theme=dark] .colab-df-convert {\n",
              "      background-color: #3B4455;\n",
              "      fill: #D2E3FC;\n",
              "    }\n",
              "\n",
              "    [theme=dark] .colab-df-convert:hover {\n",
              "      background-color: #434B5C;\n",
              "      box-shadow: 0px 1px 3px 1px rgba(0, 0, 0, 0.15);\n",
              "      filter: drop-shadow(0px 1px 2px rgba(0, 0, 0, 0.3));\n",
              "      fill: #FFFFFF;\n",
              "    }\n",
              "  </style>\n",
              "\n",
              "    <script>\n",
              "      const buttonEl =\n",
              "        document.querySelector('#df-e596cb2f-131e-4f20-8a71-3aef105170e1 button.colab-df-convert');\n",
              "      buttonEl.style.display =\n",
              "        google.colab.kernel.accessAllowed ? 'block' : 'none';\n",
              "\n",
              "      async function convertToInteractive(key) {\n",
              "        const element = document.querySelector('#df-e596cb2f-131e-4f20-8a71-3aef105170e1');\n",
              "        const dataTable =\n",
              "          await google.colab.kernel.invokeFunction('convertToInteractive',\n",
              "                                                    [key], {});\n",
              "        if (!dataTable) return;\n",
              "\n",
              "        const docLinkHtml = 'Like what you see? Visit the ' +\n",
              "          '<a target=\"_blank\" href=https://colab.research.google.com/notebooks/data_table.ipynb>data table notebook</a>'\n",
              "          + ' to learn more about interactive tables.';\n",
              "        element.innerHTML = '';\n",
              "        dataTable['output_type'] = 'display_data';\n",
              "        await google.colab.output.renderOutput(dataTable, element);\n",
              "        const docLink = document.createElement('div');\n",
              "        docLink.innerHTML = docLinkHtml;\n",
              "        element.appendChild(docLink);\n",
              "      }\n",
              "    </script>\n",
              "  </div>\n",
              "\n",
              "\n",
              "<div id=\"df-cef16a44-57c3-40b4-b5ef-d390555075bb\">\n",
              "  <button class=\"colab-df-quickchart\" onclick=\"quickchart('df-cef16a44-57c3-40b4-b5ef-d390555075bb')\"\n",
              "            title=\"Suggest charts\"\n",
              "            style=\"display:none;\">\n",
              "\n",
              "<svg xmlns=\"http://www.w3.org/2000/svg\" height=\"24px\"viewBox=\"0 0 24 24\"\n",
              "     width=\"24px\">\n",
              "    <g>\n",
              "        <path d=\"M19 3H5c-1.1 0-2 .9-2 2v14c0 1.1.9 2 2 2h14c1.1 0 2-.9 2-2V5c0-1.1-.9-2-2-2zM9 17H7v-7h2v7zm4 0h-2V7h2v10zm4 0h-2v-4h2v4z\"/>\n",
              "    </g>\n",
              "</svg>\n",
              "  </button>\n",
              "\n",
              "<style>\n",
              "  .colab-df-quickchart {\n",
              "      --bg-color: #E8F0FE;\n",
              "      --fill-color: #1967D2;\n",
              "      --hover-bg-color: #E2EBFA;\n",
              "      --hover-fill-color: #174EA6;\n",
              "      --disabled-fill-color: #AAA;\n",
              "      --disabled-bg-color: #DDD;\n",
              "  }\n",
              "\n",
              "  [theme=dark] .colab-df-quickchart {\n",
              "      --bg-color: #3B4455;\n",
              "      --fill-color: #D2E3FC;\n",
              "      --hover-bg-color: #434B5C;\n",
              "      --hover-fill-color: #FFFFFF;\n",
              "      --disabled-bg-color: #3B4455;\n",
              "      --disabled-fill-color: #666;\n",
              "  }\n",
              "\n",
              "  .colab-df-quickchart {\n",
              "    background-color: var(--bg-color);\n",
              "    border: none;\n",
              "    border-radius: 50%;\n",
              "    cursor: pointer;\n",
              "    display: none;\n",
              "    fill: var(--fill-color);\n",
              "    height: 32px;\n",
              "    padding: 0;\n",
              "    width: 32px;\n",
              "  }\n",
              "\n",
              "  .colab-df-quickchart:hover {\n",
              "    background-color: var(--hover-bg-color);\n",
              "    box-shadow: 0 1px 2px rgba(60, 64, 67, 0.3), 0 1px 3px 1px rgba(60, 64, 67, 0.15);\n",
              "    fill: var(--button-hover-fill-color);\n",
              "  }\n",
              "\n",
              "  .colab-df-quickchart-complete:disabled,\n",
              "  .colab-df-quickchart-complete:disabled:hover {\n",
              "    background-color: var(--disabled-bg-color);\n",
              "    fill: var(--disabled-fill-color);\n",
              "    box-shadow: none;\n",
              "  }\n",
              "\n",
              "  .colab-df-spinner {\n",
              "    border: 2px solid var(--fill-color);\n",
              "    border-color: transparent;\n",
              "    border-bottom-color: var(--fill-color);\n",
              "    animation:\n",
              "      spin 1s steps(1) infinite;\n",
              "  }\n",
              "\n",
              "  @keyframes spin {\n",
              "    0% {\n",
              "      border-color: transparent;\n",
              "      border-bottom-color: var(--fill-color);\n",
              "      border-left-color: var(--fill-color);\n",
              "    }\n",
              "    20% {\n",
              "      border-color: transparent;\n",
              "      border-left-color: var(--fill-color);\n",
              "      border-top-color: var(--fill-color);\n",
              "    }\n",
              "    30% {\n",
              "      border-color: transparent;\n",
              "      border-left-color: var(--fill-color);\n",
              "      border-top-color: var(--fill-color);\n",
              "      border-right-color: var(--fill-color);\n",
              "    }\n",
              "    40% {\n",
              "      border-color: transparent;\n",
              "      border-right-color: var(--fill-color);\n",
              "      border-top-color: var(--fill-color);\n",
              "    }\n",
              "    60% {\n",
              "      border-color: transparent;\n",
              "      border-right-color: var(--fill-color);\n",
              "    }\n",
              "    80% {\n",
              "      border-color: transparent;\n",
              "      border-right-color: var(--fill-color);\n",
              "      border-bottom-color: var(--fill-color);\n",
              "    }\n",
              "    90% {\n",
              "      border-color: transparent;\n",
              "      border-bottom-color: var(--fill-color);\n",
              "    }\n",
              "  }\n",
              "</style>\n",
              "\n",
              "  <script>\n",
              "    async function quickchart(key) {\n",
              "      const quickchartButtonEl =\n",
              "        document.querySelector('#' + key + ' button');\n",
              "      quickchartButtonEl.disabled = true;  // To prevent multiple clicks.\n",
              "      quickchartButtonEl.classList.add('colab-df-spinner');\n",
              "      try {\n",
              "        const charts = await google.colab.kernel.invokeFunction(\n",
              "            'suggestCharts', [key], {});\n",
              "      } catch (error) {\n",
              "        console.error('Error during call to suggestCharts:', error);\n",
              "      }\n",
              "      quickchartButtonEl.classList.remove('colab-df-spinner');\n",
              "      quickchartButtonEl.classList.add('colab-df-quickchart-complete');\n",
              "    }\n",
              "    (() => {\n",
              "      let quickchartButtonEl =\n",
              "        document.querySelector('#df-cef16a44-57c3-40b4-b5ef-d390555075bb button');\n",
              "      quickchartButtonEl.style.display =\n",
              "        google.colab.kernel.accessAllowed ? 'block' : 'none';\n",
              "    })();\n",
              "  </script>\n",
              "</div>\n",
              "\n",
              "    </div>\n",
              "  </div>\n"
            ],
            "application/vnd.google.colaboratory.intrinsic+json": {
              "type": "dataframe",
              "variable_name": "data",
              "summary": "{\n  \"name\": \"data\",\n  \"rows\": 614,\n  \"fields\": [\n    {\n      \"column\": \"Gender\",\n      \"properties\": {\n        \"dtype\": \"category\",\n        \"num_unique_values\": 2,\n        \"samples\": [\n          \"Female\",\n          \"Male\"\n        ],\n        \"semantic_type\": \"\",\n        \"description\": \"\"\n      }\n    },\n    {\n      \"column\": \"Married\",\n      \"properties\": {\n        \"dtype\": \"category\",\n        \"num_unique_values\": 2,\n        \"samples\": [\n          \"Yes\",\n          \"No\"\n        ],\n        \"semantic_type\": \"\",\n        \"description\": \"\"\n      }\n    },\n    {\n      \"column\": \"Dependents\",\n      \"properties\": {\n        \"dtype\": \"category\",\n        \"num_unique_values\": 4,\n        \"samples\": [\n          \"1\",\n          \"3+\"\n        ],\n        \"semantic_type\": \"\",\n        \"description\": \"\"\n      }\n    },\n    {\n      \"column\": \"Education\",\n      \"properties\": {\n        \"dtype\": \"category\",\n        \"num_unique_values\": 2,\n        \"samples\": [\n          \"Not Graduate\",\n          \"Graduate\"\n        ],\n        \"semantic_type\": \"\",\n        \"description\": \"\"\n      }\n    },\n    {\n      \"column\": \"Self_Employed\",\n      \"properties\": {\n        \"dtype\": \"category\",\n        \"num_unique_values\": 2,\n        \"samples\": [\n          \"Yes\",\n          \"No\"\n        ],\n        \"semantic_type\": \"\",\n        \"description\": \"\"\n      }\n    },\n    {\n      \"column\": \"ApplicantIncome\",\n      \"properties\": {\n        \"dtype\": \"number\",\n        \"std\": 6109,\n        \"min\": 150,\n        \"max\": 81000,\n        \"num_unique_values\": 505,\n        \"samples\": [\n          8333,\n          4342\n        ],\n        \"semantic_type\": \"\",\n        \"description\": \"\"\n      }\n    },\n    {\n      \"column\": \"CoapplicantIncome\",\n      \"properties\": {\n        \"dtype\": \"number\",\n        \"std\": 2926.2483692241917,\n        \"min\": 0.0,\n        \"max\": 41667.0,\n        \"num_unique_values\": 287,\n        \"samples\": [\n          1840.0,\n          2042.0\n        ],\n        \"semantic_type\": \"\",\n        \"description\": \"\"\n      }\n    },\n    {\n      \"column\": \"LoanAmount\",\n      \"properties\": {\n        \"dtype\": \"number\",\n        \"std\": 85.58732523570545,\n        \"min\": 9.0,\n        \"max\": 700.0,\n        \"num_unique_values\": 203,\n        \"samples\": [\n          100.0,\n          70.0\n        ],\n        \"semantic_type\": \"\",\n        \"description\": \"\"\n      }\n    },\n    {\n      \"column\": \"Loan_Amount_Term\",\n      \"properties\": {\n        \"dtype\": \"number\",\n        \"std\": 65.12040985461256,\n        \"min\": 12.0,\n        \"max\": 480.0,\n        \"num_unique_values\": 10,\n        \"samples\": [\n          84.0,\n          120.0\n        ],\n        \"semantic_type\": \"\",\n        \"description\": \"\"\n      }\n    },\n    {\n      \"column\": \"Credit_History\",\n      \"properties\": {\n        \"dtype\": \"number\",\n        \"std\": 0.3648783192364049,\n        \"min\": 0.0,\n        \"max\": 1.0,\n        \"num_unique_values\": 2,\n        \"samples\": [\n          0.0,\n          1.0\n        ],\n        \"semantic_type\": \"\",\n        \"description\": \"\"\n      }\n    },\n    {\n      \"column\": \"Property_Area\",\n      \"properties\": {\n        \"dtype\": \"category\",\n        \"num_unique_values\": 3,\n        \"samples\": [\n          \"Urban\",\n          \"Rural\"\n        ],\n        \"semantic_type\": \"\",\n        \"description\": \"\"\n      }\n    },\n    {\n      \"column\": \"Loan_Status\",\n      \"properties\": {\n        \"dtype\": \"category\",\n        \"num_unique_values\": 2,\n        \"samples\": [\n          \"N\",\n          \"Y\"\n        ],\n        \"semantic_type\": \"\",\n        \"description\": \"\"\n      }\n    }\n  ]\n}"
            }
          },
          "metadata": {},
          "execution_count": 29
        }
      ]
    },
    {
      "cell_type": "code",
      "source": [
        "data[nums_cols].skew()"
      ],
      "metadata": {
        "id": "YznalZYVy9L6",
        "colab": {
          "base_uri": "https://localhost:8080/",
          "height": 256
        },
        "outputId": "7f2c5464-db7b-446a-f43c-e03474694805"
      },
      "execution_count": 33,
      "outputs": [
        {
          "output_type": "execute_result",
          "data": {
            "text/plain": [
              "ApplicantIncome      6.539513\n",
              "CoapplicantIncome    7.491531\n",
              "LoanAmount           2.677552\n",
              "Loan_Amount_Term    -2.362414\n",
              "Credit_History      -1.882361\n",
              "dtype: float64"
            ],
            "text/html": [
              "<div>\n",
              "<style scoped>\n",
              "    .dataframe tbody tr th:only-of-type {\n",
              "        vertical-align: middle;\n",
              "    }\n",
              "\n",
              "    .dataframe tbody tr th {\n",
              "        vertical-align: top;\n",
              "    }\n",
              "\n",
              "    .dataframe thead th {\n",
              "        text-align: right;\n",
              "    }\n",
              "</style>\n",
              "<table border=\"1\" class=\"dataframe\">\n",
              "  <thead>\n",
              "    <tr style=\"text-align: right;\">\n",
              "      <th></th>\n",
              "      <th>0</th>\n",
              "    </tr>\n",
              "  </thead>\n",
              "  <tbody>\n",
              "    <tr>\n",
              "      <th>ApplicantIncome</th>\n",
              "      <td>6.539513</td>\n",
              "    </tr>\n",
              "    <tr>\n",
              "      <th>CoapplicantIncome</th>\n",
              "      <td>7.491531</td>\n",
              "    </tr>\n",
              "    <tr>\n",
              "      <th>LoanAmount</th>\n",
              "      <td>2.677552</td>\n",
              "    </tr>\n",
              "    <tr>\n",
              "      <th>Loan_Amount_Term</th>\n",
              "      <td>-2.362414</td>\n",
              "    </tr>\n",
              "    <tr>\n",
              "      <th>Credit_History</th>\n",
              "      <td>-1.882361</td>\n",
              "    </tr>\n",
              "  </tbody>\n",
              "</table>\n",
              "</div><br><label><b>dtype:</b> float64</label>"
            ]
          },
          "metadata": {},
          "execution_count": 33
        }
      ]
    },
    {
      "cell_type": "markdown",
      "source": [
        "Positive\n",
        "1. **Applicant Income and Coapplicant Income:** Positive skewness indicates lower incomes for many applicants and co-applicants, with a few having exceptionally high incomes.\n",
        "2. **Loan Amount:** Loan amount also has positive skewness. Most loans are smaller, but there are a few that are much larger.\n",
        "\n",
        "Negative\n",
        "\n",
        "3. **Loan Amount Term:** This feature has negative skewness. It indicates that most loan terms are longer (possibly a standard term), but there might be a few shorter-term loans.\n",
        "4. **Credit History:** Credit history has negative skewness, suggesting that most applicants have a positive credit history (1), but there might be a few with a negative credit history (0)."
      ],
      "metadata": {
        "id": "z_qp-q77y9p-"
      }
    },
    {
      "cell_type": "code",
      "source": [],
      "metadata": {
        "id": "MXXXCPUty9Fs"
      },
      "execution_count": null,
      "outputs": []
    },
    {
      "cell_type": "markdown",
      "source": [
        "### Kurtosis"
      ],
      "metadata": {
        "id": "0byH6DQT23wK"
      }
    },
    {
      "cell_type": "code",
      "source": [
        "data[nums_cols].kurt()"
      ],
      "metadata": {
        "id": "G_iEeklP24pC",
        "colab": {
          "base_uri": "https://localhost:8080/",
          "height": 256
        },
        "outputId": "51814849-2b9f-463b-fdf3-b7e760be8ca9"
      },
      "execution_count": 34,
      "outputs": [
        {
          "output_type": "execute_result",
          "data": {
            "text/plain": [
              "ApplicantIncome      60.540676\n",
              "CoapplicantIncome    84.956384\n",
              "LoanAmount           10.401533\n",
              "Loan_Amount_Term      6.673474\n",
              "Credit_History        1.548763\n",
              "dtype: float64"
            ],
            "text/html": [
              "<div>\n",
              "<style scoped>\n",
              "    .dataframe tbody tr th:only-of-type {\n",
              "        vertical-align: middle;\n",
              "    }\n",
              "\n",
              "    .dataframe tbody tr th {\n",
              "        vertical-align: top;\n",
              "    }\n",
              "\n",
              "    .dataframe thead th {\n",
              "        text-align: right;\n",
              "    }\n",
              "</style>\n",
              "<table border=\"1\" class=\"dataframe\">\n",
              "  <thead>\n",
              "    <tr style=\"text-align: right;\">\n",
              "      <th></th>\n",
              "      <th>0</th>\n",
              "    </tr>\n",
              "  </thead>\n",
              "  <tbody>\n",
              "    <tr>\n",
              "      <th>ApplicantIncome</th>\n",
              "      <td>60.540676</td>\n",
              "    </tr>\n",
              "    <tr>\n",
              "      <th>CoapplicantIncome</th>\n",
              "      <td>84.956384</td>\n",
              "    </tr>\n",
              "    <tr>\n",
              "      <th>LoanAmount</th>\n",
              "      <td>10.401533</td>\n",
              "    </tr>\n",
              "    <tr>\n",
              "      <th>Loan_Amount_Term</th>\n",
              "      <td>6.673474</td>\n",
              "    </tr>\n",
              "    <tr>\n",
              "      <th>Credit_History</th>\n",
              "      <td>1.548763</td>\n",
              "    </tr>\n",
              "  </tbody>\n",
              "</table>\n",
              "</div><br><label><b>dtype:</b> float64</label>"
            ]
          },
          "metadata": {},
          "execution_count": 34
        }
      ]
    },
    {
      "cell_type": "markdown",
      "source": [
        "1. **Applicant and Coapplicant:** Very high positive kurtosis means these distributions have heavy tails with some extreme values—indicating a few individuals with much higher incomes than the rest.\n",
        "2. **Loan Amount and Total Income:** Positive kurtosis suggests heavy tails with some significantly higher values than the center.\n",
        "3. **Loan Amount Term and Able to Pay EMI:** Positive kurtosis implies a concentration of data around the mean but with some values noticeably different.\n",
        "4. **Credit History:** Positive kurtosis suggests a distribution with heavy tails, indicating a few applicants with a very different credit history.\n",
        "5. **Loan Amount per Year and EMI** Extremely high positive kurtosis means their distributions have extremely heavy tails with values much higher than the center."
      ],
      "metadata": {
        "id": "g3m1edwe25Jg"
      }
    },
    {
      "cell_type": "code",
      "source": [],
      "metadata": {
        "id": "zD-vvRLS3IiN"
      },
      "execution_count": null,
      "outputs": []
    },
    {
      "cell_type": "markdown",
      "source": [
        "### Let's do some Univariate Analyis now"
      ],
      "metadata": {
        "id": "extBbJOD3ezM"
      }
    },
    {
      "cell_type": "code",
      "source": [
        "### start with loan status\n",
        "target = 'Loan_Status'\n",
        "data[target].value_counts()"
      ],
      "metadata": {
        "id": "wMKuiNlo3jdd",
        "colab": {
          "base_uri": "https://localhost:8080/",
          "height": 195
        },
        "outputId": "cd9d54f8-7292-4057-fc78-41a24ba733e6"
      },
      "execution_count": 35,
      "outputs": [
        {
          "output_type": "execute_result",
          "data": {
            "text/plain": [
              "Loan_Status\n",
              "Y    422\n",
              "N    192\n",
              "Name: count, dtype: int64"
            ],
            "text/html": [
              "<div>\n",
              "<style scoped>\n",
              "    .dataframe tbody tr th:only-of-type {\n",
              "        vertical-align: middle;\n",
              "    }\n",
              "\n",
              "    .dataframe tbody tr th {\n",
              "        vertical-align: top;\n",
              "    }\n",
              "\n",
              "    .dataframe thead th {\n",
              "        text-align: right;\n",
              "    }\n",
              "</style>\n",
              "<table border=\"1\" class=\"dataframe\">\n",
              "  <thead>\n",
              "    <tr style=\"text-align: right;\">\n",
              "      <th></th>\n",
              "      <th>count</th>\n",
              "    </tr>\n",
              "    <tr>\n",
              "      <th>Loan_Status</th>\n",
              "      <th></th>\n",
              "    </tr>\n",
              "  </thead>\n",
              "  <tbody>\n",
              "    <tr>\n",
              "      <th>Y</th>\n",
              "      <td>422</td>\n",
              "    </tr>\n",
              "    <tr>\n",
              "      <th>N</th>\n",
              "      <td>192</td>\n",
              "    </tr>\n",
              "  </tbody>\n",
              "</table>\n",
              "</div><br><label><b>dtype:</b> int64</label>"
            ]
          },
          "metadata": {},
          "execution_count": 35
        }
      ]
    },
    {
      "cell_type": "markdown",
      "source": [
        "The above plot indicates that a majority of loan applicants have been approved for loans (\"Y\") in the dataset, with 422 instances.\n",
        "\n"
      ],
      "metadata": {
        "id": "0v4L6gOa3tju"
      }
    },
    {
      "cell_type": "code",
      "source": [
        "plt.rcParams[\"figure.figsize\"] = [6,4]\n",
        "sns.countplot(data=data, x='Loan_Status')\n",
        "plt.show()"
      ],
      "metadata": {
        "id": "F5dgL2bl3t4d",
        "colab": {
          "base_uri": "https://localhost:8080/",
          "height": 408
        },
        "outputId": "5641b5a4-f7e5-49a3-c731-af38e65eb441"
      },
      "execution_count": 36,
      "outputs": [
        {
          "output_type": "display_data",
          "data": {
            "text/plain": [
              "<Figure size 600x400 with 1 Axes>"
            ],
            "image/png": "[encoded data removed]"
          },
          "metadata": {}
        }
      ]
    },
    {
      "cell_type": "code",
      "source": [
        "plt.subplot(121)\n",
        "sns.histplot(data[\"ApplicantIncome\"], kde=True)\n",
        "\n",
        "plt.subplot(122)\n",
        "data[\"ApplicantIncome\"].plot.box(figsize=(16,5))\n",
        "plt.show()\n"
      ],
      "metadata": {
        "colab": {
          "base_uri": "https://localhost:8080/",
          "height": 488
        },
        "id": "QBOaS3B2adid",
        "outputId": "2972c804-42b9-4010-a7fd-ca17b945ab87"
      },
      "execution_count": 37,
      "outputs": [
        {
          "output_type": "display_data",
          "data": {
            "text/plain": [
              "<Figure size 1600x500 with 2 Axes>"
            ],
            "image/png": "[encoded data removed]"
          },
          "metadata": {}
        }
      ]
    },
    {
      "cell_type": "markdown",
      "source": [
        "- The histogram indicates right skewness, suggesting some individuals earn significantly more than others.\n",
        "- Most of the applicant income data is concentrated on the left side, indicating a non-normal distribution.\n",
        "- The box plot reveals numerous outliers, likely due to income disparity in society.\n",
        "\n",
        "Let's calculate the mean of \"ApplicantIncome\" and group it by the \"Loan_Status\" column."
      ],
      "metadata": {
        "id": "Uuty3IAN3wk9"
      }
    },
    {
      "cell_type": "code",
      "source": [
        "data.groupby(target)['ApplicantIncome'].mean()"
      ],
      "metadata": {
        "id": "r3wO_1tz3zph",
        "colab": {
          "base_uri": "https://localhost:8080/",
          "height": 195
        },
        "outputId": "45c0b13b-fa8b-4f6e-cae1-64400de919c3"
      },
      "execution_count": 38,
      "outputs": [
        {
          "output_type": "execute_result",
          "data": {
            "text/plain": [
              "Loan_Status\n",
              "N    5446.078125\n",
              "Y    5384.068720\n",
              "Name: ApplicantIncome, dtype: float64"
            ],
            "text/html": [
              "<div>\n",
              "<style scoped>\n",
              "    .dataframe tbody tr th:only-of-type {\n",
              "        vertical-align: middle;\n",
              "    }\n",
              "\n",
              "    .dataframe tbody tr th {\n",
              "        vertical-align: top;\n",
              "    }\n",
              "\n",
              "    .dataframe thead th {\n",
              "        text-align: right;\n",
              "    }\n",
              "</style>\n",
              "<table border=\"1\" class=\"dataframe\">\n",
              "  <thead>\n",
              "    <tr style=\"text-align: right;\">\n",
              "      <th></th>\n",
              "      <th>ApplicantIncome</th>\n",
              "    </tr>\n",
              "    <tr>\n",
              "      <th>Loan_Status</th>\n",
              "      <th></th>\n",
              "    </tr>\n",
              "  </thead>\n",
              "  <tbody>\n",
              "    <tr>\n",
              "      <th>N</th>\n",
              "      <td>5446.078125</td>\n",
              "    </tr>\n",
              "    <tr>\n",
              "      <th>Y</th>\n",
              "      <td>5384.068720</td>\n",
              "    </tr>\n",
              "  </tbody>\n",
              "</table>\n",
              "</div><br><label><b>dtype:</b> float64</label>"
            ]
          },
          "metadata": {},
          "execution_count": 38
        }
      ]
    },
    {
      "cell_type": "markdown",
      "source": [
        "**Observations**\n",
        "The average income for applicants whose loans were rejected (N) is higher than for those whose loans were accepted (Y).\n",
        "\n",
        "Isn't it counterintuitive, what went wrong here?\n",
        "\n",
        "`It contradicts the expectation that those with higher incomes would have a higher likelihood of loan approval.`\n",
        "\n",
        "\n",
        "Let's delve into more fundamental aspects of the data:\n",
        "\n",
        "\"Is the mean statistically significant or not\"\n",
        "\n",
        "To assess the significance of the mean income, we can utilize the ttest_ind function to perform **paired t-test**."
      ],
      "metadata": {
        "id": "MxNkfyWV34G_"
      }
    },
    {
      "cell_type": "code",
      "source": [
        "from scipy.stats import ttest_ind\n",
        "\n",
        "a = data[data[\"Loan_Status\"]==\"Y\"][\"ApplicantIncome\"]\n",
        "b = data[data[\"Loan_Status\"]==\"N\"][\"ApplicantIncome\"]\n",
        "\n",
        "# H0: Income and Loan status are independent\n",
        "# Ha: Dependent\n",
        "ttest_ind(a, b)"
      ],
      "metadata": {
        "id": "01DWaTQb4B2-",
        "colab": {
          "base_uri": "https://localhost:8080/"
        },
        "outputId": "8654d7a2-f10b-4122-dfca-badb8d91d258"
      },
      "execution_count": 39,
      "outputs": [
        {
          "output_type": "execute_result",
          "data": {
            "text/plain": [
              "TtestResult(statistic=-0.11650844828724542, pvalue=0.907287812130518, df=612.0)"
            ]
          },
          "metadata": {},
          "execution_count": 39
        }
      ]
    },
    {
      "cell_type": "markdown",
      "source": [
        "Based on the high p-value, we can conclude that there's no significant relationship between loan status and income.\n"
      ],
      "metadata": {
        "id": "pg6VTHlk4Hfk"
      }
    },
    {
      "cell_type": "code",
      "source": [],
      "metadata": {
        "id": "GEbTzlWp4Hxa"
      },
      "execution_count": null,
      "outputs": []
    },
    {
      "cell_type": "markdown",
      "source": [
        "**Remember Binning?**\n",
        "Another approach could involve categorizing numerical data into groups or bins. This can help analyze complex data with various values and categories more effectively."
      ],
      "metadata": {
        "id": "l54mNbS54ULW"
      }
    },
    {
      "cell_type": "markdown",
      "source": [
        "- Binning involves organizing data into groups, which helps simplify complex information, like a wide range of income values.\n",
        "- By grouping incomes into categories or bins, we can identify patterns and trends more easily.\n",
        "    - For example, we can see how many people fall into different income ranges, making the data more interpretable, especially for non-specialists.\n",
        "    - Bins also facilitate comparisons between groups, allowing us to analyze low, medium, and high-income categories without focusing on individual numbers."
      ],
      "metadata": {
        "id": "GxD9_q0u4lZc"
      }
    },
    {
      "cell_type": "code",
      "source": [
        "bins=[0,2500,4000,6000, 8000, 10000, 20000, 40000, 81000]\n",
        "group=['Low', 'Average', 'Medium', 'H1', 'H2', 'H3', 'H4', 'Very High']\n",
        "\n",
        "data['Income_bin']= pd.cut(data['ApplicantIncome'],bins,labels=group)\n",
        "data['Income_bin'].value_counts()"
      ],
      "metadata": {
        "id": "jfr2Qe5p4V9r",
        "colab": {
          "base_uri": "https://localhost:8080/",
          "height": 380
        },
        "outputId": "0e842846-ee82-49aa-be68-2791e632f18d"
      },
      "execution_count": 40,
      "outputs": [
        {
          "output_type": "execute_result",
          "data": {
            "text/plain": [
              "Income_bin\n",
              "Average      226\n",
              "Medium       143\n",
              "Low          108\n",
              "H1            54\n",
              "H3            40\n",
              "H2            31\n",
              "H4             9\n",
              "Very High      3\n",
              "Name: count, dtype: int64"
            ],
            "text/html": [
              "<div>\n",
              "<style scoped>\n",
              "    .dataframe tbody tr th:only-of-type {\n",
              "        vertical-align: middle;\n",
              "    }\n",
              "\n",
              "    .dataframe tbody tr th {\n",
              "        vertical-align: top;\n",
              "    }\n",
              "\n",
              "    .dataframe thead th {\n",
              "        text-align: right;\n",
              "    }\n",
              "</style>\n",
              "<table border=\"1\" class=\"dataframe\">\n",
              "  <thead>\n",
              "    <tr style=\"text-align: right;\">\n",
              "      <th></th>\n",
              "      <th>count</th>\n",
              "    </tr>\n",
              "    <tr>\n",
              "      <th>Income_bin</th>\n",
              "      <th></th>\n",
              "    </tr>\n",
              "  </thead>\n",
              "  <tbody>\n",
              "    <tr>\n",
              "      <th>Average</th>\n",
              "      <td>226</td>\n",
              "    </tr>\n",
              "    <tr>\n",
              "      <th>Medium</th>\n",
              "      <td>143</td>\n",
              "    </tr>\n",
              "    <tr>\n",
              "      <th>Low</th>\n",
              "      <td>108</td>\n",
              "    </tr>\n",
              "    <tr>\n",
              "      <th>H1</th>\n",
              "      <td>54</td>\n",
              "    </tr>\n",
              "    <tr>\n",
              "      <th>H3</th>\n",
              "      <td>40</td>\n",
              "    </tr>\n",
              "    <tr>\n",
              "      <th>H2</th>\n",
              "      <td>31</td>\n",
              "    </tr>\n",
              "    <tr>\n",
              "      <th>H4</th>\n",
              "      <td>9</td>\n",
              "    </tr>\n",
              "    <tr>\n",
              "      <th>Very High</th>\n",
              "      <td>3</td>\n",
              "    </tr>\n",
              "  </tbody>\n",
              "</table>\n",
              "</div><br><label><b>dtype:</b> int64</label>"
            ]
          },
          "metadata": {},
          "execution_count": 40
        }
      ]
    },
    {
      "cell_type": "code",
      "source": [
        "data['Loan_Status'].value_counts()"
      ],
      "metadata": {
        "id": "C7Of-MEJ43DT",
        "colab": {
          "base_uri": "https://localhost:8080/",
          "height": 195
        },
        "outputId": "e846f140-bc0d-47b9-ac02-b10ef6321531"
      },
      "execution_count": 41,
      "outputs": [
        {
          "output_type": "execute_result",
          "data": {
            "text/plain": [
              "Loan_Status\n",
              "Y    422\n",
              "N    192\n",
              "Name: count, dtype: int64"
            ],
            "text/html": [
              "<div>\n",
              "<style scoped>\n",
              "    .dataframe tbody tr th:only-of-type {\n",
              "        vertical-align: middle;\n",
              "    }\n",
              "\n",
              "    .dataframe tbody tr th {\n",
              "        vertical-align: top;\n",
              "    }\n",
              "\n",
              "    .dataframe thead th {\n",
              "        text-align: right;\n",
              "    }\n",
              "</style>\n",
              "<table border=\"1\" class=\"dataframe\">\n",
              "  <thead>\n",
              "    <tr style=\"text-align: right;\">\n",
              "      <th></th>\n",
              "      <th>count</th>\n",
              "    </tr>\n",
              "    <tr>\n",
              "      <th>Loan_Status</th>\n",
              "      <th></th>\n",
              "    </tr>\n",
              "  </thead>\n",
              "  <tbody>\n",
              "    <tr>\n",
              "      <th>Y</th>\n",
              "      <td>422</td>\n",
              "    </tr>\n",
              "    <tr>\n",
              "      <th>N</th>\n",
              "      <td>192</td>\n",
              "    </tr>\n",
              "  </tbody>\n",
              "</table>\n",
              "</div><br><label><b>dtype:</b> int64</label>"
            ]
          },
          "metadata": {},
          "execution_count": 41
        }
      ]
    },
    {
      "cell_type": "markdown",
      "source": [
        "To compare the \"Income_bin\" and \"Loan_Status\" columns, we can utilize the pd.crosstab() function.\n",
        "\n"
      ],
      "metadata": {
        "id": "cWgdN9gw4-hP"
      }
    },
    {
      "cell_type": "code",
      "source": [
        "pd.crosstab(data[\"Income_bin\"],data[\"Loan_Status\"])"
      ],
      "metadata": {
        "id": "ztCq13rI464s",
        "colab": {
          "base_uri": "https://localhost:8080/",
          "height": 346
        },
        "outputId": "771ffd39-bb7e-4681-cfff-0c45bfa2fe25"
      },
      "execution_count": 42,
      "outputs": [
        {
          "output_type": "execute_result",
          "data": {
            "text/plain": [
              "Loan_Status   N    Y\n",
              "Income_bin          \n",
              "Low          34   74\n",
              "Average      67  159\n",
              "Medium       45   98\n",
              "H1           20   34\n",
              "H2            9   22\n",
              "H3           13   27\n",
              "H4            3    6\n",
              "Very High     1    2"
            ],
            "text/html": [
              "\n",
              "  <div id=\"df-9747d823-2d16-4768-a236-370254b16e8c\" class=\"colab-df-container\">\n",
              "    <div>\n",
              "<style scoped>\n",
              "    .dataframe tbody tr th:only-of-type {\n",
              "        vertical-align: middle;\n",
              "    }\n",
              "\n",
              "    .dataframe tbody tr th {\n",
              "        vertical-align: top;\n",
              "    }\n",
              "\n",
              "    .dataframe thead th {\n",
              "        text-align: right;\n",
              "    }\n",
              "</style>\n",
              "<table border=\"1\" class=\"dataframe\">\n",
              "  <thead>\n",
              "    <tr style=\"text-align: right;\">\n",
              "      <th>Loan_Status</th>\n",
              "      <th>N</th>\n",
              "      <th>Y</th>\n",
              "    </tr>\n",
              "    <tr>\n",
              "      <th>Income_bin</th>\n",
              "      <th></th>\n",
              "      <th></th>\n",
              "    </tr>\n",
              "  </thead>\n",
              "  <tbody>\n",
              "    <tr>\n",
              "      <th>Low</th>\n",
              "      <td>34</td>\n",
              "      <td>74</td>\n",
              "    </tr>\n",
              "    <tr>\n",
              "      <th>Average</th>\n",
              "      <td>67</td>\n",
              "      <td>159</td>\n",
              "    </tr>\n",
              "    <tr>\n",
              "      <th>Medium</th>\n",
              "      <td>45</td>\n",
              "      <td>98</td>\n",
              "    </tr>\n",
              "    <tr>\n",
              "      <th>H1</th>\n",
              "      <td>20</td>\n",
              "      <td>34</td>\n",
              "    </tr>\n",
              "    <tr>\n",
              "      <th>H2</th>\n",
              "      <td>9</td>\n",
              "      <td>22</td>\n",
              "    </tr>\n",
              "    <tr>\n",
              "      <th>H3</th>\n",
              "      <td>13</td>\n",
              "      <td>27</td>\n",
              "    </tr>\n",
              "    <tr>\n",
              "      <th>H4</th>\n",
              "      <td>3</td>\n",
              "      <td>6</td>\n",
              "    </tr>\n",
              "    <tr>\n",
              "      <th>Very High</th>\n",
              "      <td>1</td>\n",
              "      <td>2</td>\n",
              "    </tr>\n",
              "  </tbody>\n",
              "</table>\n",
              "</div>\n",
              "    <div class=\"colab-df-buttons\">\n",
              "\n",
              "  <div class=\"colab-df-container\">\n",
              "    <button class=\"colab-df-convert\" onclick=\"convertToInteractive('df-9747d823-2d16-4768-a236-370254b16e8c')\"\n",
              "            title=\"Convert this dataframe to an interactive table.\"\n",
              "            style=\"display:none;\">\n",
              "\n",
              "  <svg xmlns=\"http://www.w3.org/2000/svg\" height=\"24px\" viewBox=\"0 -960 960 960\">\n",
              "    <path d=\"M120-120v-720h720v720H120Zm60-500h600v-160H180v160Zm220 220h160v-160H400v160Zm0 220h160v-160H400v160ZM180-400h160v-160H180v160Zm440 0h160v-160H620v160ZM180-180h160v-160H180v160Zm440 0h160v-160H620v160Z\"/>\n",
              "  </svg>\n",
              "    </button>\n",
              "\n",
              "  <style>\n",
              "    .colab-df-container {\n",
              "      display:flex;\n",
              "      gap: 12px;\n",
              "    }\n",
              "\n",
              "    .colab-df-convert {\n",
              "      background-color: #E8F0FE;\n",
              "      border: none;\n",
              "      border-radius: 50%;\n",
              "      cursor: pointer;\n",
              "      display: none;\n",
              "      fill: #1967D2;\n",
              "      height: 32px;\n",
              "      padding: 0 0 0 0;\n",
              "      width: 32px;\n",
              "    }\n",
              "\n",
              "    .colab-df-convert:hover {\n",
              "      background-color: #E2EBFA;\n",
              "      box-shadow: 0px 1px 2px rgba(60, 64, 67, 0.3), 0px 1px 3px 1px rgba(60, 64, 67, 0.15);\n",
              "      fill: #174EA6;\n",
              "    }\n",
              "\n",
              "    .colab-df-buttons div {\n",
              "      margin-bottom: 4px;\n",
              "    }\n",
              "\n",
              "    [theme=dark] .colab-df-convert {\n",
              "      background-color: #3B4455;\n",
              "      fill: #D2E3FC;\n",
              "    }\n",
              "\n",
              "    [theme=dark] .colab-df-convert:hover {\n",
              "      background-color: #434B5C;\n",
              "      box-shadow: 0px 1px 3px 1px rgba(0, 0, 0, 0.15);\n",
              "      filter: drop-shadow(0px 1px 2px rgba(0, 0, 0, 0.3));\n",
              "      fill: #FFFFFF;\n",
              "    }\n",
              "  </style>\n",
              "\n",
              "    <script>\n",
              "      const buttonEl =\n",
              "        document.querySelector('#df-9747d823-2d16-4768-a236-370254b16e8c button.colab-df-convert');\n",
              "      buttonEl.style.display =\n",
              "        google.colab.kernel.accessAllowed ? 'block' : 'none';\n",
              "\n",
              "      async function convertToInteractive(key) {\n",
              "        const element = document.querySelector('#df-9747d823-2d16-4768-a236-370254b16e8c');\n",
              "        const dataTable =\n",
              "          await google.colab.kernel.invokeFunction('convertToInteractive',\n",
              "                                                    [key], {});\n",
              "        if (!dataTable) return;\n",
              "\n",
              "        const docLinkHtml = 'Like what you see? Visit the ' +\n",
              "          '<a target=\"_blank\" href=https://colab.research.google.com/notebooks/data_table.ipynb>data table notebook</a>'\n",
              "          + ' to learn more about interactive tables.';\n",
              "        element.innerHTML = '';\n",
              "        dataTable['output_type'] = 'display_data';\n",
              "        await google.colab.output.renderOutput(dataTable, element);\n",
              "        const docLink = document.createElement('div');\n",
              "        docLink.innerHTML = docLinkHtml;\n",
              "        element.appendChild(docLink);\n",
              "      }\n",
              "    </script>\n",
              "  </div>\n",
              "\n",
              "\n",
              "<div id=\"df-a6dad3ec-67b2-44ff-afb4-6509e2b8fca1\">\n",
              "  <button class=\"colab-df-quickchart\" onclick=\"quickchart('df-a6dad3ec-67b2-44ff-afb4-6509e2b8fca1')\"\n",
              "            title=\"Suggest charts\"\n",
              "            style=\"display:none;\">\n",
              "\n",
              "<svg xmlns=\"http://www.w3.org/2000/svg\" height=\"24px\"viewBox=\"0 0 24 24\"\n",
              "     width=\"24px\">\n",
              "    <g>\n",
              "        <path d=\"M19 3H5c-1.1 0-2 .9-2 2v14c0 1.1.9 2 2 2h14c1.1 0 2-.9 2-2V5c0-1.1-.9-2-2-2zM9 17H7v-7h2v7zm4 0h-2V7h2v10zm4 0h-2v-4h2v4z\"/>\n",
              "    </g>\n",
              "</svg>\n",
              "  </button>\n",
              "\n",
              "<style>\n",
              "  .colab-df-quickchart {\n",
              "      --bg-color: #E8F0FE;\n",
              "      --fill-color: #1967D2;\n",
              "      --hover-bg-color: #E2EBFA;\n",
              "      --hover-fill-color: #174EA6;\n",
              "      --disabled-fill-color: #AAA;\n",
              "      --disabled-bg-color: #DDD;\n",
              "  }\n",
              "\n",
              "  [theme=dark] .colab-df-quickchart {\n",
              "      --bg-color: #3B4455;\n",
              "      --fill-color: #D2E3FC;\n",
              "      --hover-bg-color: #434B5C;\n",
              "      --hover-fill-color: #FFFFFF;\n",
              "      --disabled-bg-color: #3B4455;\n",
              "      --disabled-fill-color: #666;\n",
              "  }\n",
              "\n",
              "  .colab-df-quickchart {\n",
              "    background-color: var(--bg-color);\n",
              "    border: none;\n",
              "    border-radius: 50%;\n",
              "    cursor: pointer;\n",
              "    display: none;\n",
              "    fill: var(--fill-color);\n",
              "    height: 32px;\n",
              "    padding: 0;\n",
              "    width: 32px;\n",
              "  }\n",
              "\n",
              "  .colab-df-quickchart:hover {\n",
              "    background-color: var(--hover-bg-color);\n",
              "    box-shadow: 0 1px 2px rgba(60, 64, 67, 0.3), 0 1px 3px 1px rgba(60, 64, 67, 0.15);\n",
              "    fill: var(--button-hover-fill-color);\n",
              "  }\n",
              "\n",
              "  .colab-df-quickchart-complete:disabled,\n",
              "  .colab-df-quickchart-complete:disabled:hover {\n",
              "    background-color: var(--disabled-bg-color);\n",
              "    fill: var(--disabled-fill-color);\n",
              "    box-shadow: none;\n",
              "  }\n",
              "\n",
              "  .colab-df-spinner {\n",
              "    border: 2px solid var(--fill-color);\n",
              "    border-color: transparent;\n",
              "    border-bottom-color: var(--fill-color);\n",
              "    animation:\n",
              "      spin 1s steps(1) infinite;\n",
              "  }\n",
              "\n",
              "  @keyframes spin {\n",
              "    0% {\n",
              "      border-color: transparent;\n",
              "      border-bottom-color: var(--fill-color);\n",
              "      border-left-color: var(--fill-color);\n",
              "    }\n",
              "    20% {\n",
              "      border-color: transparent;\n",
              "      border-left-color: var(--fill-color);\n",
              "      border-top-color: var(--fill-color);\n",
              "    }\n",
              "    30% {\n",
              "      border-color: transparent;\n",
              "      border-left-color: var(--fill-color);\n",
              "      border-top-color: var(--fill-color);\n",
              "      border-right-color: var(--fill-color);\n",
              "    }\n",
              "    40% {\n",
              "      border-color: transparent;\n",
              "      border-right-color: var(--fill-color);\n",
              "      border-top-color: var(--fill-color);\n",
              "    }\n",
              "    60% {\n",
              "      border-color: transparent;\n",
              "      border-right-color: var(--fill-color);\n",
              "    }\n",
              "    80% {\n",
              "      border-color: transparent;\n",
              "      border-right-color: var(--fill-color);\n",
              "      border-bottom-color: var(--fill-color);\n",
              "    }\n",
              "    90% {\n",
              "      border-color: transparent;\n",
              "      border-bottom-color: var(--fill-color);\n",
              "    }\n",
              "  }\n",
              "</style>\n",
              "\n",
              "  <script>\n",
              "    async function quickchart(key) {\n",
              "      const quickchartButtonEl =\n",
              "        document.querySelector('#' + key + ' button');\n",
              "      quickchartButtonEl.disabled = true;  // To prevent multiple clicks.\n",
              "      quickchartButtonEl.classList.add('colab-df-spinner');\n",
              "      try {\n",
              "        const charts = await google.colab.kernel.invokeFunction(\n",
              "            'suggestCharts', [key], {});\n",
              "      } catch (error) {\n",
              "        console.error('Error during call to suggestCharts:', error);\n",
              "      }\n",
              "      quickchartButtonEl.classList.remove('colab-df-spinner');\n",
              "      quickchartButtonEl.classList.add('colab-df-quickchart-complete');\n",
              "    }\n",
              "    (() => {\n",
              "      let quickchartButtonEl =\n",
              "        document.querySelector('#df-a6dad3ec-67b2-44ff-afb4-6509e2b8fca1 button');\n",
              "      quickchartButtonEl.style.display =\n",
              "        google.colab.kernel.accessAllowed ? 'block' : 'none';\n",
              "    })();\n",
              "  </script>\n",
              "</div>\n",
              "\n",
              "    </div>\n",
              "  </div>\n"
            ],
            "application/vnd.google.colaboratory.intrinsic+json": {
              "type": "dataframe",
              "summary": "{\n  \"name\": \"pd\",\n  \"rows\": 8,\n  \"fields\": [\n    {\n      \"column\": \"Income_bin\",\n      \"properties\": {\n        \"dtype\": \"category\",\n        \"num_unique_values\": 8,\n        \"samples\": [\n          \"Average\",\n          \"H3\",\n          \"Low\"\n        ],\n        \"semantic_type\": \"\",\n        \"description\": \"\"\n      }\n    },\n    {\n      \"column\": \"N\",\n      \"properties\": {\n        \"dtype\": \"number\",\n        \"std\": 23,\n        \"min\": 1,\n        \"max\": 67,\n        \"num_unique_values\": 8,\n        \"samples\": [\n          67,\n          13,\n          34\n        ],\n        \"semantic_type\": \"\",\n        \"description\": \"\"\n      }\n    },\n    {\n      \"column\": \"Y\",\n      \"properties\": {\n        \"dtype\": \"number\",\n        \"std\": 54,\n        \"min\": 2,\n        \"max\": 159,\n        \"num_unique_values\": 8,\n        \"samples\": [\n          159,\n          27,\n          74\n        ],\n        \"semantic_type\": \"\",\n        \"description\": \"\"\n      }\n    }\n  ]\n}"
            }
          },
          "metadata": {},
          "execution_count": 42
        }
      ]
    },
    {
      "cell_type": "markdown",
      "source": [
        "Let's turn these income groups into a plot to make it even easier to understand."
      ],
      "metadata": {
        "id": "cLj0QWRe47KZ"
      }
    },
    {
      "cell_type": "code",
      "source": [
        "Income_bin = pd.crosstab(data[\"Income_bin\"],data[\"Loan_Status\"], normalize=\"index\")\n",
        "Income_bin.plot(kind=\"bar\",figsize=(4,4))\n",
        "plt.xlabel(\"ApplicantIncome\")\n",
        "plt.ylabel(\"Percentage\")\n",
        "plt.show()"
      ],
      "metadata": {
        "id": "GjJpGN5w48TD",
        "colab": {
          "base_uri": "https://localhost:8080/",
          "height": 461
        },
        "outputId": "7cb201a8-6cda-4b5e-f748-791a1df052ea"
      },
      "execution_count": 43,
      "outputs": [
        {
          "output_type": "display_data",
          "data": {
            "text/plain": [
              "<Figure size 400x400 with 1 Axes>"
            ],
            "image/png": "[encoded data removed]"
          },
          "metadata": {}
        }
      ]
    },
    {
      "cell_type": "markdown",
      "source": [
        "It can be inferred that the Applicant income does not affect the chances of loan approval.\n",
        "\n",
        "We can see that all the bins have almost the same acceptance rate and now we can say that this is more significant.\n",
        "\n",
        "Can we use any test here to check the independence of loan_status vs Income_bins?\n",
        "\n"
      ],
      "metadata": {
        "id": "mzwenYR15F6f"
      }
    },
    {
      "cell_type": "code",
      "source": [
        "from scipy.stats import chi2_contingency"
      ],
      "metadata": {
        "id": "fr-6l2Zq5GQp"
      },
      "execution_count": 44,
      "outputs": []
    },
    {
      "cell_type": "code",
      "source": [
        "Income_bin = pd.crosstab(data[\"Income_bin\"],data[\"Loan_Status\"])\n",
        "Income_bin.values\n"
      ],
      "metadata": {
        "colab": {
          "base_uri": "https://localhost:8080/"
        },
        "id": "7YLFXskqem7i",
        "outputId": "87b6d3f7-a61d-402b-e0ab-a4557bddd42d"
      },
      "execution_count": 46,
      "outputs": [
        {
          "output_type": "execute_result",
          "data": {
            "text/plain": [
              "array([[ 34,  74],\n",
              "       [ 67, 159],\n",
              "       [ 45,  98],\n",
              "       [ 20,  34],\n",
              "       [  9,  22],\n",
              "       [ 13,  27],\n",
              "       [  3,   6],\n",
              "       [  1,   2]])"
            ]
          },
          "metadata": {},
          "execution_count": 46
        }
      ]
    },
    {
      "cell_type": "code",
      "source": [
        "chi2_contingency(Income_bin.values)"
      ],
      "metadata": {
        "colab": {
          "base_uri": "https://localhost:8080/"
        },
        "id": "ulJSFxX2e0T9",
        "outputId": "8238f486-0ac6-499d-c2ee-c9dd18fe41db"
      },
      "execution_count": 47,
      "outputs": [
        {
          "output_type": "execute_result",
          "data": {
            "text/plain": [
              "Chi2ContingencyResult(statistic=1.2420001711303135, pvalue=0.9899274842922701, dof=7, expected_freq=array([[ 33.77198697,  74.22801303],\n",
              "       [ 70.67100977, 155.32899023],\n",
              "       [ 44.71661238,  98.28338762],\n",
              "       [ 16.88599349,  37.11400651],\n",
              "       [  9.69381107,  21.30618893],\n",
              "       [ 12.50814332,  27.49185668],\n",
              "       [  2.81433225,   6.18566775],\n",
              "       [  0.93811075,   2.06188925]]))"
            ]
          },
          "metadata": {},
          "execution_count": 47
        }
      ]
    },
    {
      "cell_type": "markdown",
      "source": [
        "Now, to check the significant association between income and loan status, we will use the chi-square test of Independence.\n",
        "\n",
        "This test is suitable for comparing two categorical variables, such as income categories and loan status."
      ],
      "metadata": {
        "id": "ulbCIYQ_54hh"
      }
    },
    {
      "cell_type": "markdown",
      "source": [
        "The p-value is high so we can conclude that there is no association between income and loan status.\n",
        "\n",
        "Why are we doing this all?\n",
        "\n",
        "- We perform these analyses to identify the feature that has the strongest connection to the target variable.\n",
        "- Identifying irrelevant columns, like \"Loan ID,\" is crucial as they provide no valuable information for prediction purposes."
      ],
      "metadata": {
        "id": "C68DhdX46HvQ"
      }
    },
    {
      "cell_type": "markdown",
      "source": [
        "**HW Task**\n",
        "\n",
        "Perform Chi-Square test of independence on `TotalIncome_bin` vs `loan_status` calculated as following"
      ],
      "metadata": {
        "id": "dDgAINrk6Tcs"
      }
    },
    {
      "cell_type": "code",
      "source": [
        "data[\"TotalIncome\"] = data[\"ApplicantIncome\"] + data[\"CoapplicantIncome\"]\n",
        "\n",
        "bins = [0,3000,5000,8000,81000]\n",
        "group = ['Low','Average','High','Very High']\n",
        "data[\"TotalIncome_bin\"] = pd.cut(data[\"TotalIncome\"],bins,labels=group)\n",
        "\n",
        "vals_n = pd.crosstab(data[\"TotalIncome_bin\"], data[\"Loan_Status\"], normalize=\"index\")\n",
        "vals_n.plot(kind=\"bar\",figsize=(4,4))"
      ],
      "metadata": {
        "id": "ZoDkjauy6KVj",
        "colab": {
          "base_uri": "https://localhost:8080/",
          "height": 478
        },
        "outputId": "0953c590-5b3a-4c9f-e41c-374961f92cb9"
      },
      "execution_count": 49,
      "outputs": [
        {
          "output_type": "execute_result",
          "data": {
            "text/plain": [
              "<Axes: xlabel='TotalIncome_bin'>"
            ]
          },
          "metadata": {},
          "execution_count": 49
        },
        {
          "output_type": "display_data",
          "data": {
            "text/plain": [
              "<Figure size 400x400 with 1 Axes>"
            ],
            "image/png": "[encoded data removed]"
          },
          "metadata": {}
        }
      ]
    },
    {
      "cell_type": "markdown",
      "source": [
        "### Creating new Features:"
      ],
      "metadata": {
        "id": "66IAdzR267aV"
      }
    },
    {
      "cell_type": "code",
      "source": [],
      "metadata": {
        "id": "xdUvjw6t6-DC"
      },
      "execution_count": null,
      "outputs": []
    }
  ]
}