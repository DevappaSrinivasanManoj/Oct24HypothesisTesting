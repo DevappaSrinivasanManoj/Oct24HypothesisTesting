{
  "nbformat": 4,
  "nbformat_minor": 0,
  "metadata": {
    "colab": {
      "provenance": [],
      "authorship_tag": "ABX9TyMONlQsDC2Qx7xy+0CnY73a",
      "include_colab_link": true
    },
    "kernelspec": {
      "name": "python3",
      "display_name": "Python 3"
    },
    "language_info": {
      "name": "python"
    }
  },
  "cells": [
    {
      "cell_type": "markdown",
      "metadata": {
        "id": "view-in-github",
        "colab_type": "text"
      },
      "source": [
        "<a href=\"https://colab.research.google.com/github/SachinScaler/Oct24HypothesisTesting/blob/main/Advanced_Hypothesis_Testing_%7CLecture.ipynb\" target=\"_parent\"><img src=\"https://colab.research.google.com/assets/colab-badge.svg\" alt=\"Open In Colab\"/></a>"
      ]
    },
    {
      "cell_type": "markdown",
      "source": [
        "### Two Way Anova"
      ],
      "metadata": {
        "id": "PAcalbmmiWx4"
      }
    },
    {
      "cell_type": "code",
      "source": [
        "import pandas as pd\n",
        "import numpy as np"
      ],
      "metadata": {
        "id": "4KlMuEmCiXJD"
      },
      "execution_count": 1,
      "outputs": []
    },
    {
      "cell_type": "code",
      "source": [
        "df = pd.read_csv('https://raw.githubusercontent.com/SachinScaler/Oct24HypothesisTesting/refs/heads/main/beverage.csv')\n",
        "df"
      ],
      "metadata": {
        "colab": {
          "base_uri": "https://localhost:8080/",
          "height": 436
        },
        "id": "cs8CK6NeiXGM",
        "outputId": "1da32434-1610-4b2a-d827-6104db55bea7"
      },
      "execution_count": 4,
      "outputs": [
        {
          "output_type": "execute_result",
          "data": {
            "text/plain": [
              "   Flavour Location  Sales\n",
              "0   Orange     West    141\n",
              "1    Lemon     West    178\n",
              "2   Orange     West    170\n",
              "3   Orange     East     76\n",
              "4    Lemon     East    170\n",
              "..     ...      ...    ...\n",
              "95   Lemon    South    131\n",
              "96   Lemon     East    103\n",
              "97  Orange     West    117\n",
              "98   Lemon    South     82\n",
              "99   Lemon     East    191\n",
              "\n",
              "[100 rows x 3 columns]"
            ],
            "text/html": [
              "\n",
              "  <div id=\"df-f56b9785-14d8-4e65-b961-88d17ec89ee7\" class=\"colab-df-container\">\n",
              "    <div>\n",
              "<style scoped>\n",
              "    .dataframe tbody tr th:only-of-type {\n",
              "        vertical-align: middle;\n",
              "    }\n",
              "\n",
              "    .dataframe tbody tr th {\n",
              "        vertical-align: top;\n",
              "    }\n",
              "\n",
              "    .dataframe thead th {\n",
              "        text-align: right;\n",
              "    }\n",
              "</style>\n",
              "<table border=\"1\" class=\"dataframe\">\n",
              "  <thead>\n",
              "    <tr style=\"text-align: right;\">\n",
              "      <th></th>\n",
              "      <th>Flavour</th>\n",
              "      <th>Location</th>\n",
              "      <th>Sales</th>\n",
              "    </tr>\n",
              "  </thead>\n",
              "  <tbody>\n",
              "    <tr>\n",
              "      <th>0</th>\n",
              "      <td>Orange</td>\n",
              "      <td>West</td>\n",
              "      <td>141</td>\n",
              "    </tr>\n",
              "    <tr>\n",
              "      <th>1</th>\n",
              "      <td>Lemon</td>\n",
              "      <td>West</td>\n",
              "      <td>178</td>\n",
              "    </tr>\n",
              "    <tr>\n",
              "      <th>2</th>\n",
              "      <td>Orange</td>\n",
              "      <td>West</td>\n",
              "      <td>170</td>\n",
              "    </tr>\n",
              "    <tr>\n",
              "      <th>3</th>\n",
              "      <td>Orange</td>\n",
              "      <td>East</td>\n",
              "      <td>76</td>\n",
              "    </tr>\n",
              "    <tr>\n",
              "      <th>4</th>\n",
              "      <td>Lemon</td>\n",
              "      <td>East</td>\n",
              "      <td>170</td>\n",
              "    </tr>\n",
              "    <tr>\n",
              "      <th>...</th>\n",
              "      <td>...</td>\n",
              "      <td>...</td>\n",
              "      <td>...</td>\n",
              "    </tr>\n",
              "    <tr>\n",
              "      <th>95</th>\n",
              "      <td>Lemon</td>\n",
              "      <td>South</td>\n",
              "      <td>131</td>\n",
              "    </tr>\n",
              "    <tr>\n",
              "      <th>96</th>\n",
              "      <td>Lemon</td>\n",
              "      <td>East</td>\n",
              "      <td>103</td>\n",
              "    </tr>\n",
              "    <tr>\n",
              "      <th>97</th>\n",
              "      <td>Orange</td>\n",
              "      <td>West</td>\n",
              "      <td>117</td>\n",
              "    </tr>\n",
              "    <tr>\n",
              "      <th>98</th>\n",
              "      <td>Lemon</td>\n",
              "      <td>South</td>\n",
              "      <td>82</td>\n",
              "    </tr>\n",
              "    <tr>\n",
              "      <th>99</th>\n",
              "      <td>Lemon</td>\n",
              "      <td>East</td>\n",
              "      <td>191</td>\n",
              "    </tr>\n",
              "  </tbody>\n",
              "</table>\n",
              "<p>100 rows × 3 columns</p>\n",
              "</div>\n",
              "    <div class=\"colab-df-buttons\">\n",
              "\n",
              "  <div class=\"colab-df-container\">\n",
              "    <button class=\"colab-df-convert\" onclick=\"convertToInteractive('df-f56b9785-14d8-4e65-b961-88d17ec89ee7')\"\n",
              "            title=\"Convert this dataframe to an interactive table.\"\n",
              "            style=\"display:none;\">\n",
              "\n",
              "  <svg xmlns=\"http://www.w3.org/2000/svg\" height=\"24px\" viewBox=\"0 -960 960 960\">\n",
              "    <path d=\"M120-120v-720h720v720H120Zm60-500h600v-160H180v160Zm220 220h160v-160H400v160Zm0 220h160v-160H400v160ZM180-400h160v-160H180v160Zm440 0h160v-160H620v160ZM180-180h160v-160H180v160Zm440 0h160v-160H620v160Z\"/>\n",
              "  </svg>\n",
              "    </button>\n",
              "\n",
              "  <style>\n",
              "    .colab-df-container {\n",
              "      display:flex;\n",
              "      gap: 12px;\n",
              "    }\n",
              "\n",
              "    .colab-df-convert {\n",
              "      background-color: #E8F0FE;\n",
              "      border: none;\n",
              "      border-radius: 50%;\n",
              "      cursor: pointer;\n",
              "      display: none;\n",
              "      fill: #1967D2;\n",
              "      height: 32px;\n",
              "      padding: 0 0 0 0;\n",
              "      width: 32px;\n",
              "    }\n",
              "\n",
              "    .colab-df-convert:hover {\n",
              "      background-color: #E2EBFA;\n",
              "      box-shadow: 0px 1px 2px rgba(60, 64, 67, 0.3), 0px 1px 3px 1px rgba(60, 64, 67, 0.15);\n",
              "      fill: #174EA6;\n",
              "    }\n",
              "\n",
              "    .colab-df-buttons div {\n",
              "      margin-bottom: 4px;\n",
              "    }\n",
              "\n",
              "    [theme=dark] .colab-df-convert {\n",
              "      background-color: #3B4455;\n",
              "      fill: #D2E3FC;\n",
              "    }\n",
              "\n",
              "    [theme=dark] .colab-df-convert:hover {\n",
              "      background-color: #434B5C;\n",
              "      box-shadow: 0px 1px 3px 1px rgba(0, 0, 0, 0.15);\n",
              "      filter: drop-shadow(0px 1px 2px rgba(0, 0, 0, 0.3));\n",
              "      fill: #FFFFFF;\n",
              "    }\n",
              "  </style>\n",
              "\n",
              "    <script>\n",
              "      const buttonEl =\n",
              "        document.querySelector('#df-f56b9785-14d8-4e65-b961-88d17ec89ee7 button.colab-df-convert');\n",
              "      buttonEl.style.display =\n",
              "        google.colab.kernel.accessAllowed ? 'block' : 'none';\n",
              "\n",
              "      async function convertToInteractive(key) {\n",
              "        const element = document.querySelector('#df-f56b9785-14d8-4e65-b961-88d17ec89ee7');\n",
              "        const dataTable =\n",
              "          await google.colab.kernel.invokeFunction('convertToInteractive',\n",
              "                                                    [key], {});\n",
              "        if (!dataTable) return;\n",
              "\n",
              "        const docLinkHtml = 'Like what you see? Visit the ' +\n",
              "          '<a target=\"_blank\" href=https://colab.research.google.com/notebooks/data_table.ipynb>data table notebook</a>'\n",
              "          + ' to learn more about interactive tables.';\n",
              "        element.innerHTML = '';\n",
              "        dataTable['output_type'] = 'display_data';\n",
              "        await google.colab.output.renderOutput(dataTable, element);\n",
              "        const docLink = document.createElement('div');\n",
              "        docLink.innerHTML = docLinkHtml;\n",
              "        element.appendChild(docLink);\n",
              "      }\n",
              "    </script>\n",
              "  </div>\n",
              "\n",
              "\n",
              "<div id=\"df-1b931dea-69cf-45f3-b8e2-3da57188dd56\">\n",
              "  <button class=\"colab-df-quickchart\" onclick=\"quickchart('df-1b931dea-69cf-45f3-b8e2-3da57188dd56')\"\n",
              "            title=\"Suggest charts\"\n",
              "            style=\"display:none;\">\n",
              "\n",
              "<svg xmlns=\"http://www.w3.org/2000/svg\" height=\"24px\"viewBox=\"0 0 24 24\"\n",
              "     width=\"24px\">\n",
              "    <g>\n",
              "        <path d=\"M19 3H5c-1.1 0-2 .9-2 2v14c0 1.1.9 2 2 2h14c1.1 0 2-.9 2-2V5c0-1.1-.9-2-2-2zM9 17H7v-7h2v7zm4 0h-2V7h2v10zm4 0h-2v-4h2v4z\"/>\n",
              "    </g>\n",
              "</svg>\n",
              "  </button>\n",
              "\n",
              "<style>\n",
              "  .colab-df-quickchart {\n",
              "      --bg-color: #E8F0FE;\n",
              "      --fill-color: #1967D2;\n",
              "      --hover-bg-color: #E2EBFA;\n",
              "      --hover-fill-color: #174EA6;\n",
              "      --disabled-fill-color: #AAA;\n",
              "      --disabled-bg-color: #DDD;\n",
              "  }\n",
              "\n",
              "  [theme=dark] .colab-df-quickchart {\n",
              "      --bg-color: #3B4455;\n",
              "      --fill-color: #D2E3FC;\n",
              "      --hover-bg-color: #434B5C;\n",
              "      --hover-fill-color: #FFFFFF;\n",
              "      --disabled-bg-color: #3B4455;\n",
              "      --disabled-fill-color: #666;\n",
              "  }\n",
              "\n",
              "  .colab-df-quickchart {\n",
              "    background-color: var(--bg-color);\n",
              "    border: none;\n",
              "    border-radius: 50%;\n",
              "    cursor: pointer;\n",
              "    display: none;\n",
              "    fill: var(--fill-color);\n",
              "    height: 32px;\n",
              "    padding: 0;\n",
              "    width: 32px;\n",
              "  }\n",
              "\n",
              "  .colab-df-quickchart:hover {\n",
              "    background-color: var(--hover-bg-color);\n",
              "    box-shadow: 0 1px 2px rgba(60, 64, 67, 0.3), 0 1px 3px 1px rgba(60, 64, 67, 0.15);\n",
              "    fill: var(--button-hover-fill-color);\n",
              "  }\n",
              "\n",
              "  .colab-df-quickchart-complete:disabled,\n",
              "  .colab-df-quickchart-complete:disabled:hover {\n",
              "    background-color: var(--disabled-bg-color);\n",
              "    fill: var(--disabled-fill-color);\n",
              "    box-shadow: none;\n",
              "  }\n",
              "\n",
              "  .colab-df-spinner {\n",
              "    border: 2px solid var(--fill-color);\n",
              "    border-color: transparent;\n",
              "    border-bottom-color: var(--fill-color);\n",
              "    animation:\n",
              "      spin 1s steps(1) infinite;\n",
              "  }\n",
              "\n",
              "  @keyframes spin {\n",
              "    0% {\n",
              "      border-color: transparent;\n",
              "      border-bottom-color: var(--fill-color);\n",
              "      border-left-color: var(--fill-color);\n",
              "    }\n",
              "    20% {\n",
              "      border-color: transparent;\n",
              "      border-left-color: var(--fill-color);\n",
              "      border-top-color: var(--fill-color);\n",
              "    }\n",
              "    30% {\n",
              "      border-color: transparent;\n",
              "      border-left-color: var(--fill-color);\n",
              "      border-top-color: var(--fill-color);\n",
              "      border-right-color: var(--fill-color);\n",
              "    }\n",
              "    40% {\n",
              "      border-color: transparent;\n",
              "      border-right-color: var(--fill-color);\n",
              "      border-top-color: var(--fill-color);\n",
              "    }\n",
              "    60% {\n",
              "      border-color: transparent;\n",
              "      border-right-color: var(--fill-color);\n",
              "    }\n",
              "    80% {\n",
              "      border-color: transparent;\n",
              "      border-right-color: var(--fill-color);\n",
              "      border-bottom-color: var(--fill-color);\n",
              "    }\n",
              "    90% {\n",
              "      border-color: transparent;\n",
              "      border-bottom-color: var(--fill-color);\n",
              "    }\n",
              "  }\n",
              "</style>\n",
              "\n",
              "  <script>\n",
              "    async function quickchart(key) {\n",
              "      const quickchartButtonEl =\n",
              "        document.querySelector('#' + key + ' button');\n",
              "      quickchartButtonEl.disabled = true;  // To prevent multiple clicks.\n",
              "      quickchartButtonEl.classList.add('colab-df-spinner');\n",
              "      try {\n",
              "        const charts = await google.colab.kernel.invokeFunction(\n",
              "            'suggestCharts', [key], {});\n",
              "      } catch (error) {\n",
              "        console.error('Error during call to suggestCharts:', error);\n",
              "      }\n",
              "      quickchartButtonEl.classList.remove('colab-df-spinner');\n",
              "      quickchartButtonEl.classList.add('colab-df-quickchart-complete');\n",
              "    }\n",
              "    (() => {\n",
              "      let quickchartButtonEl =\n",
              "        document.querySelector('#df-1b931dea-69cf-45f3-b8e2-3da57188dd56 button');\n",
              "      quickchartButtonEl.style.display =\n",
              "        google.colab.kernel.accessAllowed ? 'block' : 'none';\n",
              "    })();\n",
              "  </script>\n",
              "</div>\n",
              "\n",
              "  <div id=\"id_4a37503d-bab0-446c-a516-bf07b7856fd6\">\n",
              "    <style>\n",
              "      .colab-df-generate {\n",
              "        background-color: #E8F0FE;\n",
              "        border: none;\n",
              "        border-radius: 50%;\n",
              "        cursor: pointer;\n",
              "        display: none;\n",
              "        fill: #1967D2;\n",
              "        height: 32px;\n",
              "        padding: 0 0 0 0;\n",
              "        width: 32px;\n",
              "      }\n",
              "\n",
              "      .colab-df-generate:hover {\n",
              "        background-color: #E2EBFA;\n",
              "        box-shadow: 0px 1px 2px rgba(60, 64, 67, 0.3), 0px 1px 3px 1px rgba(60, 64, 67, 0.15);\n",
              "        fill: #174EA6;\n",
              "      }\n",
              "\n",
              "      [theme=dark] .colab-df-generate {\n",
              "        background-color: #3B4455;\n",
              "        fill: #D2E3FC;\n",
              "      }\n",
              "\n",
              "      [theme=dark] .colab-df-generate:hover {\n",
              "        background-color: #434B5C;\n",
              "        box-shadow: 0px 1px 3px 1px rgba(0, 0, 0, 0.15);\n",
              "        filter: drop-shadow(0px 1px 2px rgba(0, 0, 0, 0.3));\n",
              "        fill: #FFFFFF;\n",
              "      }\n",
              "    </style>\n",
              "    <button class=\"colab-df-generate\" onclick=\"generateWithVariable('df')\"\n",
              "            title=\"Generate code using this dataframe.\"\n",
              "            style=\"display:none;\">\n",
              "\n",
              "  <svg xmlns=\"http://www.w3.org/2000/svg\" height=\"24px\"viewBox=\"0 0 24 24\"\n",
              "       width=\"24px\">\n",
              "    <path d=\"M7,19H8.4L18.45,9,17,7.55,7,17.6ZM5,21V16.75L18.45,3.32a2,2,0,0,1,2.83,0l1.4,1.43a1.91,1.91,0,0,1,.58,1.4,1.91,1.91,0,0,1-.58,1.4L9.25,21ZM18.45,9,17,7.55Zm-12,3A5.31,5.31,0,0,0,4.9,8.1,5.31,5.31,0,0,0,1,6.5,5.31,5.31,0,0,0,4.9,4.9,5.31,5.31,0,0,0,6.5,1,5.31,5.31,0,0,0,8.1,4.9,5.31,5.31,0,0,0,12,6.5,5.46,5.46,0,0,0,6.5,12Z\"/>\n",
              "  </svg>\n",
              "    </button>\n",
              "    <script>\n",
              "      (() => {\n",
              "      const buttonEl =\n",
              "        document.querySelector('#id_4a37503d-bab0-446c-a516-bf07b7856fd6 button.colab-df-generate');\n",
              "      buttonEl.style.display =\n",
              "        google.colab.kernel.accessAllowed ? 'block' : 'none';\n",
              "\n",
              "      buttonEl.onclick = () => {\n",
              "        google.colab.notebook.generateWithVariable('df');\n",
              "      }\n",
              "      })();\n",
              "    </script>\n",
              "  </div>\n",
              "\n",
              "    </div>\n",
              "  </div>\n"
            ],
            "application/vnd.google.colaboratory.intrinsic+json": {
              "type": "dataframe",
              "variable_name": "df",
              "summary": "{\n  \"name\": \"df\",\n  \"rows\": 100,\n  \"fields\": [\n    {\n      \"column\": \"Flavour\",\n      \"properties\": {\n        \"dtype\": \"category\",\n        \"num_unique_values\": 3,\n        \"samples\": [\n          \"Orange\",\n          \"Lemon\",\n          \"Cola\"\n        ],\n        \"semantic_type\": \"\",\n        \"description\": \"\"\n      }\n    },\n    {\n      \"column\": \"Location\",\n      \"properties\": {\n        \"dtype\": \"category\",\n        \"num_unique_values\": 4,\n        \"samples\": [\n          \"East\",\n          \"South\",\n          \"West\"\n        ],\n        \"semantic_type\": \"\",\n        \"description\": \"\"\n      }\n    },\n    {\n      \"column\": \"Sales\",\n      \"properties\": {\n        \"dtype\": \"number\",\n        \"std\": 42,\n        \"min\": 51,\n        \"max\": 197,\n        \"num_unique_values\": 62,\n        \"samples\": [\n          109,\n          124,\n          141\n        ],\n        \"semantic_type\": \"\",\n        \"description\": \"\"\n      }\n    }\n  ]\n}"
            }
          },
          "metadata": {},
          "execution_count": 4
        }
      ]
    },
    {
      "cell_type": "code",
      "source": [
        "df['Flavour'].unique()"
      ],
      "metadata": {
        "colab": {
          "base_uri": "https://localhost:8080/"
        },
        "id": "ln5ZMC-tiXDE",
        "outputId": "bc294f62-a768-4d24-f6ee-4006eea8ff37"
      },
      "execution_count": 5,
      "outputs": [
        {
          "output_type": "execute_result",
          "data": {
            "text/plain": [
              "array(['Orange', 'Lemon', 'Cola'], dtype=object)"
            ]
          },
          "metadata": {},
          "execution_count": 5
        }
      ]
    },
    {
      "cell_type": "code",
      "source": [
        "df['Location'].unique()"
      ],
      "metadata": {
        "colab": {
          "base_uri": "https://localhost:8080/"
        },
        "id": "MucSjKX3jBUi",
        "outputId": "70030f9c-1bc8-4b71-f27e-7fb0abb2d6dd"
      },
      "execution_count": 6,
      "outputs": [
        {
          "output_type": "execute_result",
          "data": {
            "text/plain": [
              "array(['West', 'East', 'North', 'South'], dtype=object)"
            ]
          },
          "metadata": {},
          "execution_count": 6
        }
      ]
    },
    {
      "cell_type": "markdown",
      "source": [
        "#### We need to install a new package for 2 way anova:"
      ],
      "metadata": {
        "id": "xEljMSeDi6KN"
      }
    },
    {
      "cell_type": "code",
      "execution_count": 7,
      "metadata": {
        "colab": {
          "base_uri": "https://localhost:8080/"
        },
        "id": "eb2n157EiOs9",
        "outputId": "6bc411ce-884f-4215-a38f-1ebc39d510bf"
      },
      "outputs": [
        {
          "output_type": "stream",
          "name": "stdout",
          "text": [
            "Collecting pingouin\n",
            "  Downloading pingouin-0.5.5-py3-none-any.whl.metadata (19 kB)\n",
            "Requirement already satisfied: matplotlib in /usr/local/lib/python3.10/dist-packages (from pingouin) (3.8.0)\n",
            "Requirement already satisfied: numpy in /usr/local/lib/python3.10/dist-packages (from pingouin) (1.26.4)\n",
            "Requirement already satisfied: pandas>=1.5 in /usr/local/lib/python3.10/dist-packages (from pingouin) (2.2.2)\n",
            "Collecting pandas-flavor (from pingouin)\n",
            "  Downloading pandas_flavor-0.6.0-py3-none-any.whl.metadata (6.3 kB)\n",
            "Requirement already satisfied: scikit-learn>=1.2 in /usr/local/lib/python3.10/dist-packages (from pingouin) (1.5.2)\n",
            "Requirement already satisfied: scipy in /usr/local/lib/python3.10/dist-packages (from pingouin) (1.13.1)\n",
            "Requirement already satisfied: seaborn in /usr/local/lib/python3.10/dist-packages (from pingouin) (0.13.2)\n",
            "Requirement already satisfied: statsmodels in /usr/local/lib/python3.10/dist-packages (from pingouin) (0.14.4)\n",
            "Requirement already satisfied: tabulate in /usr/local/lib/python3.10/dist-packages (from pingouin) (0.9.0)\n",
            "Requirement already satisfied: python-dateutil>=2.8.2 in /usr/local/lib/python3.10/dist-packages (from pandas>=1.5->pingouin) (2.8.2)\n",
            "Requirement already satisfied: pytz>=2020.1 in /usr/local/lib/python3.10/dist-packages (from pandas>=1.5->pingouin) (2024.2)\n",
            "Requirement already satisfied: tzdata>=2022.7 in /usr/local/lib/python3.10/dist-packages (from pandas>=1.5->pingouin) (2024.2)\n",
            "Requirement already satisfied: joblib>=1.2.0 in /usr/local/lib/python3.10/dist-packages (from scikit-learn>=1.2->pingouin) (1.4.2)\n",
            "Requirement already satisfied: threadpoolctl>=3.1.0 in /usr/local/lib/python3.10/dist-packages (from scikit-learn>=1.2->pingouin) (3.5.0)\n",
            "Requirement already satisfied: contourpy>=1.0.1 in /usr/local/lib/python3.10/dist-packages (from matplotlib->pingouin) (1.3.0)\n",
            "Requirement already satisfied: cycler>=0.10 in /usr/local/lib/python3.10/dist-packages (from matplotlib->pingouin) (0.12.1)\n",
            "Requirement already satisfied: fonttools>=4.22.0 in /usr/local/lib/python3.10/dist-packages (from matplotlib->pingouin) (4.54.1)\n",
            "Requirement already satisfied: kiwisolver>=1.0.1 in /usr/local/lib/python3.10/dist-packages (from matplotlib->pingouin) (1.4.7)\n",
            "Requirement already satisfied: packaging>=20.0 in /usr/local/lib/python3.10/dist-packages (from matplotlib->pingouin) (24.1)\n",
            "Requirement already satisfied: pillow>=6.2.0 in /usr/local/lib/python3.10/dist-packages (from matplotlib->pingouin) (10.4.0)\n",
            "Requirement already satisfied: pyparsing>=2.3.1 in /usr/local/lib/python3.10/dist-packages (from matplotlib->pingouin) (3.2.0)\n",
            "Requirement already satisfied: xarray in /usr/local/lib/python3.10/dist-packages (from pandas-flavor->pingouin) (2024.10.0)\n",
            "Requirement already satisfied: patsy>=0.5.6 in /usr/local/lib/python3.10/dist-packages (from statsmodels->pingouin) (0.5.6)\n",
            "Requirement already satisfied: six in /usr/local/lib/python3.10/dist-packages (from patsy>=0.5.6->statsmodels->pingouin) (1.16.0)\n",
            "Downloading pingouin-0.5.5-py3-none-any.whl (204 kB)\n",
            "\u001b[2K   \u001b[90m━━━━━━━━━━━━━━━━━━━━━━━━━━━━━━━━━━━━━━━━\u001b[0m \u001b[32m204.4/204.4 kB\u001b[0m \u001b[31m4.6 MB/s\u001b[0m eta \u001b[36m0:00:00\u001b[0m\n",
            "\u001b[?25hDownloading pandas_flavor-0.6.0-py3-none-any.whl (7.2 kB)\n",
            "Installing collected packages: pandas-flavor, pingouin\n",
            "Successfully installed pandas-flavor-0.6.0 pingouin-0.5.5\n"
          ]
        }
      ],
      "source": [
        "!pip install pingouin"
      ]
    },
    {
      "cell_type": "code",
      "source": [
        "df.head()"
      ],
      "metadata": {
        "colab": {
          "base_uri": "https://localhost:8080/",
          "height": 223
        },
        "id": "d7JeT3V9WY_V",
        "outputId": "54a4aed1-ac03-4daa-fa24-42cc498c25f8"
      },
      "execution_count": 8,
      "outputs": [
        {
          "output_type": "execute_result",
          "data": {
            "text/plain": [
              "  Flavour Location  Sales\n",
              "0  Orange     West    141\n",
              "1   Lemon     West    178\n",
              "2  Orange     West    170\n",
              "3  Orange     East     76\n",
              "4   Lemon     East    170"
            ],
            "text/html": [
              "\n",
              "  <div id=\"df-25740488-2d67-4124-a1ab-21d725a1fbad\" class=\"colab-df-container\">\n",
              "    <div>\n",
              "<style scoped>\n",
              "    .dataframe tbody tr th:only-of-type {\n",
              "        vertical-align: middle;\n",
              "    }\n",
              "\n",
              "    .dataframe tbody tr th {\n",
              "        vertical-align: top;\n",
              "    }\n",
              "\n",
              "    .dataframe thead th {\n",
              "        text-align: right;\n",
              "    }\n",
              "</style>\n",
              "<table border=\"1\" class=\"dataframe\">\n",
              "  <thead>\n",
              "    <tr style=\"text-align: right;\">\n",
              "      <th></th>\n",
              "      <th>Flavour</th>\n",
              "      <th>Location</th>\n",
              "      <th>Sales</th>\n",
              "    </tr>\n",
              "  </thead>\n",
              "  <tbody>\n",
              "    <tr>\n",
              "      <th>0</th>\n",
              "      <td>Orange</td>\n",
              "      <td>West</td>\n",
              "      <td>141</td>\n",
              "    </tr>\n",
              "    <tr>\n",
              "      <th>1</th>\n",
              "      <td>Lemon</td>\n",
              "      <td>West</td>\n",
              "      <td>178</td>\n",
              "    </tr>\n",
              "    <tr>\n",
              "      <th>2</th>\n",
              "      <td>Orange</td>\n",
              "      <td>West</td>\n",
              "      <td>170</td>\n",
              "    </tr>\n",
              "    <tr>\n",
              "      <th>3</th>\n",
              "      <td>Orange</td>\n",
              "      <td>East</td>\n",
              "      <td>76</td>\n",
              "    </tr>\n",
              "    <tr>\n",
              "      <th>4</th>\n",
              "      <td>Lemon</td>\n",
              "      <td>East</td>\n",
              "      <td>170</td>\n",
              "    </tr>\n",
              "  </tbody>\n",
              "</table>\n",
              "</div>\n",
              "    <div class=\"colab-df-buttons\">\n",
              "\n",
              "  <div class=\"colab-df-container\">\n",
              "    <button class=\"colab-df-convert\" onclick=\"convertToInteractive('df-25740488-2d67-4124-a1ab-21d725a1fbad')\"\n",
              "            title=\"Convert this dataframe to an interactive table.\"\n",
              "            style=\"display:none;\">\n",
              "\n",
              "  <svg xmlns=\"http://www.w3.org/2000/svg\" height=\"24px\" viewBox=\"0 -960 960 960\">\n",
              "    <path d=\"M120-120v-720h720v720H120Zm60-500h600v-160H180v160Zm220 220h160v-160H400v160Zm0 220h160v-160H400v160ZM180-400h160v-160H180v160Zm440 0h160v-160H620v160ZM180-180h160v-160H180v160Zm440 0h160v-160H620v160Z\"/>\n",
              "  </svg>\n",
              "    </button>\n",
              "\n",
              "  <style>\n",
              "    .colab-df-container {\n",
              "      display:flex;\n",
              "      gap: 12px;\n",
              "    }\n",
              "\n",
              "    .colab-df-convert {\n",
              "      background-color: #E8F0FE;\n",
              "      border: none;\n",
              "      border-radius: 50%;\n",
              "      cursor: pointer;\n",
              "      display: none;\n",
              "      fill: #1967D2;\n",
              "      height: 32px;\n",
              "      padding: 0 0 0 0;\n",
              "      width: 32px;\n",
              "    }\n",
              "\n",
              "    .colab-df-convert:hover {\n",
              "      background-color: #E2EBFA;\n",
              "      box-shadow: 0px 1px 2px rgba(60, 64, 67, 0.3), 0px 1px 3px 1px rgba(60, 64, 67, 0.15);\n",
              "      fill: #174EA6;\n",
              "    }\n",
              "\n",
              "    .colab-df-buttons div {\n",
              "      margin-bottom: 4px;\n",
              "    }\n",
              "\n",
              "    [theme=dark] .colab-df-convert {\n",
              "      background-color: #3B4455;\n",
              "      fill: #D2E3FC;\n",
              "    }\n",
              "\n",
              "    [theme=dark] .colab-df-convert:hover {\n",
              "      background-color: #434B5C;\n",
              "      box-shadow: 0px 1px 3px 1px rgba(0, 0, 0, 0.15);\n",
              "      filter: drop-shadow(0px 1px 2px rgba(0, 0, 0, 0.3));\n",
              "      fill: #FFFFFF;\n",
              "    }\n",
              "  </style>\n",
              "\n",
              "    <script>\n",
              "      const buttonEl =\n",
              "        document.querySelector('#df-25740488-2d67-4124-a1ab-21d725a1fbad button.colab-df-convert');\n",
              "      buttonEl.style.display =\n",
              "        google.colab.kernel.accessAllowed ? 'block' : 'none';\n",
              "\n",
              "      async function convertToInteractive(key) {\n",
              "        const element = document.querySelector('#df-25740488-2d67-4124-a1ab-21d725a1fbad');\n",
              "        const dataTable =\n",
              "          await google.colab.kernel.invokeFunction('convertToInteractive',\n",
              "                                                    [key], {});\n",
              "        if (!dataTable) return;\n",
              "\n",
              "        const docLinkHtml = 'Like what you see? Visit the ' +\n",
              "          '<a target=\"_blank\" href=https://colab.research.google.com/notebooks/data_table.ipynb>data table notebook</a>'\n",
              "          + ' to learn more about interactive tables.';\n",
              "        element.innerHTML = '';\n",
              "        dataTable['output_type'] = 'display_data';\n",
              "        await google.colab.output.renderOutput(dataTable, element);\n",
              "        const docLink = document.createElement('div');\n",
              "        docLink.innerHTML = docLinkHtml;\n",
              "        element.appendChild(docLink);\n",
              "      }\n",
              "    </script>\n",
              "  </div>\n",
              "\n",
              "\n",
              "<div id=\"df-77268e1e-cdc6-4369-ae79-1af195f1ea61\">\n",
              "  <button class=\"colab-df-quickchart\" onclick=\"quickchart('df-77268e1e-cdc6-4369-ae79-1af195f1ea61')\"\n",
              "            title=\"Suggest charts\"\n",
              "            style=\"display:none;\">\n",
              "\n",
              "<svg xmlns=\"http://www.w3.org/2000/svg\" height=\"24px\"viewBox=\"0 0 24 24\"\n",
              "     width=\"24px\">\n",
              "    <g>\n",
              "        <path d=\"M19 3H5c-1.1 0-2 .9-2 2v14c0 1.1.9 2 2 2h14c1.1 0 2-.9 2-2V5c0-1.1-.9-2-2-2zM9 17H7v-7h2v7zm4 0h-2V7h2v10zm4 0h-2v-4h2v4z\"/>\n",
              "    </g>\n",
              "</svg>\n",
              "  </button>\n",
              "\n",
              "<style>\n",
              "  .colab-df-quickchart {\n",
              "      --bg-color: #E8F0FE;\n",
              "      --fill-color: #1967D2;\n",
              "      --hover-bg-color: #E2EBFA;\n",
              "      --hover-fill-color: #174EA6;\n",
              "      --disabled-fill-color: #AAA;\n",
              "      --disabled-bg-color: #DDD;\n",
              "  }\n",
              "\n",
              "  [theme=dark] .colab-df-quickchart {\n",
              "      --bg-color: #3B4455;\n",
              "      --fill-color: #D2E3FC;\n",
              "      --hover-bg-color: #434B5C;\n",
              "      --hover-fill-color: #FFFFFF;\n",
              "      --disabled-bg-color: #3B4455;\n",
              "      --disabled-fill-color: #666;\n",
              "  }\n",
              "\n",
              "  .colab-df-quickchart {\n",
              "    background-color: var(--bg-color);\n",
              "    border: none;\n",
              "    border-radius: 50%;\n",
              "    cursor: pointer;\n",
              "    display: none;\n",
              "    fill: var(--fill-color);\n",
              "    height: 32px;\n",
              "    padding: 0;\n",
              "    width: 32px;\n",
              "  }\n",
              "\n",
              "  .colab-df-quickchart:hover {\n",
              "    background-color: var(--hover-bg-color);\n",
              "    box-shadow: 0 1px 2px rgba(60, 64, 67, 0.3), 0 1px 3px 1px rgba(60, 64, 67, 0.15);\n",
              "    fill: var(--button-hover-fill-color);\n",
              "  }\n",
              "\n",
              "  .colab-df-quickchart-complete:disabled,\n",
              "  .colab-df-quickchart-complete:disabled:hover {\n",
              "    background-color: var(--disabled-bg-color);\n",
              "    fill: var(--disabled-fill-color);\n",
              "    box-shadow: none;\n",
              "  }\n",
              "\n",
              "  .colab-df-spinner {\n",
              "    border: 2px solid var(--fill-color);\n",
              "    border-color: transparent;\n",
              "    border-bottom-color: var(--fill-color);\n",
              "    animation:\n",
              "      spin 1s steps(1) infinite;\n",
              "  }\n",
              "\n",
              "  @keyframes spin {\n",
              "    0% {\n",
              "      border-color: transparent;\n",
              "      border-bottom-color: var(--fill-color);\n",
              "      border-left-color: var(--fill-color);\n",
              "    }\n",
              "    20% {\n",
              "      border-color: transparent;\n",
              "      border-left-color: var(--fill-color);\n",
              "      border-top-color: var(--fill-color);\n",
              "    }\n",
              "    30% {\n",
              "      border-color: transparent;\n",
              "      border-left-color: var(--fill-color);\n",
              "      border-top-color: var(--fill-color);\n",
              "      border-right-color: var(--fill-color);\n",
              "    }\n",
              "    40% {\n",
              "      border-color: transparent;\n",
              "      border-right-color: var(--fill-color);\n",
              "      border-top-color: var(--fill-color);\n",
              "    }\n",
              "    60% {\n",
              "      border-color: transparent;\n",
              "      border-right-color: var(--fill-color);\n",
              "    }\n",
              "    80% {\n",
              "      border-color: transparent;\n",
              "      border-right-color: var(--fill-color);\n",
              "      border-bottom-color: var(--fill-color);\n",
              "    }\n",
              "    90% {\n",
              "      border-color: transparent;\n",
              "      border-bottom-color: var(--fill-color);\n",
              "    }\n",
              "  }\n",
              "</style>\n",
              "\n",
              "  <script>\n",
              "    async function quickchart(key) {\n",
              "      const quickchartButtonEl =\n",
              "        document.querySelector('#' + key + ' button');\n",
              "      quickchartButtonEl.disabled = true;  // To prevent multiple clicks.\n",
              "      quickchartButtonEl.classList.add('colab-df-spinner');\n",
              "      try {\n",
              "        const charts = await google.colab.kernel.invokeFunction(\n",
              "            'suggestCharts', [key], {});\n",
              "      } catch (error) {\n",
              "        console.error('Error during call to suggestCharts:', error);\n",
              "      }\n",
              "      quickchartButtonEl.classList.remove('colab-df-spinner');\n",
              "      quickchartButtonEl.classList.add('colab-df-quickchart-complete');\n",
              "    }\n",
              "    (() => {\n",
              "      let quickchartButtonEl =\n",
              "        document.querySelector('#df-77268e1e-cdc6-4369-ae79-1af195f1ea61 button');\n",
              "      quickchartButtonEl.style.display =\n",
              "        google.colab.kernel.accessAllowed ? 'block' : 'none';\n",
              "    })();\n",
              "  </script>\n",
              "</div>\n",
              "\n",
              "    </div>\n",
              "  </div>\n"
            ],
            "application/vnd.google.colaboratory.intrinsic+json": {
              "type": "dataframe",
              "variable_name": "df",
              "summary": "{\n  \"name\": \"df\",\n  \"rows\": 100,\n  \"fields\": [\n    {\n      \"column\": \"Flavour\",\n      \"properties\": {\n        \"dtype\": \"category\",\n        \"num_unique_values\": 3,\n        \"samples\": [\n          \"Orange\",\n          \"Lemon\",\n          \"Cola\"\n        ],\n        \"semantic_type\": \"\",\n        \"description\": \"\"\n      }\n    },\n    {\n      \"column\": \"Location\",\n      \"properties\": {\n        \"dtype\": \"category\",\n        \"num_unique_values\": 4,\n        \"samples\": [\n          \"East\",\n          \"South\",\n          \"West\"\n        ],\n        \"semantic_type\": \"\",\n        \"description\": \"\"\n      }\n    },\n    {\n      \"column\": \"Sales\",\n      \"properties\": {\n        \"dtype\": \"number\",\n        \"std\": 42,\n        \"min\": 51,\n        \"max\": 197,\n        \"num_unique_values\": 62,\n        \"samples\": [\n          109,\n          124,\n          141\n        ],\n        \"semantic_type\": \"\",\n        \"description\": \"\"\n      }\n    }\n  ]\n}"
            }
          },
          "metadata": {},
          "execution_count": 8
        }
      ]
    },
    {
      "cell_type": "code",
      "source": [
        "import pingouin as pg\n",
        "\n",
        "# perform two-way ANOVA\n",
        "# dv = Name of column containing the dependent variable\n",
        "# between = Name of column(s) in data containing the between-subject factor(s). (Independent Variables)\n",
        "\n",
        "model = pg.anova(dv='Sales', between=['Location', 'Flavour'], data=df)\n",
        "\n",
        "# Display the results\n",
        "print(round(model,4))"
      ],
      "metadata": {
        "colab": {
          "base_uri": "https://localhost:8080/"
        },
        "id": "eIVTE2ZBjGcL",
        "outputId": "a4be3549-8ffe-45ee-e258-908d8db348d8"
      },
      "execution_count": 9,
      "outputs": [
        {
          "output_type": "stream",
          "name": "stdout",
          "text": [
            "               Source           SS    DF         MS       F   p-unc     np2\n",
            "0            Location    2059.2739   3.0   686.4246  0.3905  0.7601  0.0131\n",
            "1             Flavour    6919.5590   2.0  3459.7795  1.9685  0.1458  0.0428\n",
            "2  Location * Flavour   11802.2578   6.0  1967.0430  1.1192  0.3578  0.0709\n",
            "3            Residual  154669.0163  88.0  1757.6025     NaN     NaN     NaN\n"
          ]
        }
      ]
    },
    {
      "cell_type": "markdown",
      "source": [
        "\n",
        "<font color='violet'>Brief explanation of each term represents:</font>\n",
        "\n",
        "1. <font color='orange'>**SS (Sum of Squares):**</font> Represents the total variation in the response variable (Sales) explained by each source (Location, Flavour, Interaction, or Residual).\n",
        "      - Example: Tells you how much the variation in Sales can be attributed to differences in Flavour compared to the overall average.\n",
        "2. <font color='orange'>**DF (Degrees of Freedom):**</font> It represents the number of values in the final calculation of a statistic that are free to vary.\n",
        "      - In ANOVA, it's associated with the factor being tested. For example, \"df\" for Flavour is the number of levels of Flavour minus 1.\n",
        "3. <font color='orange'>**MS (Mean Squares):**</font> Calculated as SS divided by DF, it represents the average variation in Sales explained by each source, assuming equal variances across groups.\n",
        "4. <font color='orange'>**F (F-Statistic):**</font> It's a measure of the ratio of the variance between groups (explained variance) to the variance within groups (unexplained variance).\n",
        "      - A high F-value indicates a significant difference between groups, while a low F-value suggests that the groups are similar.\n",
        "5. <font color='orange'>**p-unc (p-value):**</font> This is the probability associated with the F-statistic. It indicates the likelihood that the observed differences in group means occurred by chance.\n",
        "      - A low p-value (typically less than 0.05) suggests that the factor has a significant effect, while a high p-value suggests a lack of significance.\n",
        "6. <font color='orange'>**np2 (partial eta-squared):**</font> Represents the proportion of variance in Sales explained by a specific source (e.g., Flavour) relative to the total variance. Values closer to 1 indicate a larger effect size.\n",
        "      - Example: allows you to estimate the proportion of variance in Sales that can be explained by the difference between Orange and Lemon flavours.\n",
        "7. <font color='orange'>**Residual**:</font> This represents the variation in the data that is not accounted for by the factors (Flavour, Location, and their interaction).\n",
        "      - It is the unexplained or leftover variability after considering the effects of the specified factors.\n",
        "      - We will learn more about this in future modules.\n"
      ],
      "metadata": {
        "id": "Uu4ixnEmjSNh"
      }
    },
    {
      "cell_type": "markdown",
      "source": [
        "### Conclusion of Test\n",
        "We defined $α = 0.05$ for confidence level 95%\n",
        "\n",
        "The above table shows the summary of results from our Two-Way ANOVA analysis.\n",
        "\n",
        "<font color='violet'>1. **Flavour:**</font>\n",
        "   - `p-unc`: The p-value is 0.1458, which is greater than the significance level of 0.05. As a result, **you do not have enough evidence to reject the null hypothesis**, suggesting that there is no significant effect of flavor on sales.\n",
        "\n",
        "<font color='violet'>2. **Location:**</font>\n",
        "   - `p-unc`: The p-value is 0.7601, which is greater than 0.05. Therefore, **you do not have enough evidence to reject the null hypothesis**, suggesting that there is no significant effect of location on sales.\n",
        "\n",
        "<font color='violet'>3. **Flavour:Location (Interaction Effect):**</font>\n",
        "   - `p-unc`: The p-value is 0.3578, which is greater than 0.05. This suggests that **there is no significant interaction in the effect between flavour and location on sales.**\n",
        "\n",
        "Overall, the data suggests that neither the choice of flavour, the location of sale, nor their interaction significantly affect the sales of the soft drinks.\n",
        "\n"
      ],
      "metadata": {
        "id": "w0s8-T8Aj9mG"
      }
    },
    {
      "cell_type": "markdown",
      "source": [
        "### HW: POST READ Interaction Plot\n",
        "\n",
        "Let's verify that the interaction of flavour and location is not significantly affect the sales of the soft drinks.\n",
        "\n",
        "We will verify this using interaction plot of statsmodels.\n"
      ],
      "metadata": {
        "id": "XzINBSOUj1_T"
      }
    },
    {
      "cell_type": "code",
      "source": [
        "from statsmodels.graphics.factorplots import interaction_plot\n",
        "import matplotlib.pyplot as plt\n",
        "\n",
        "fig = interaction_plot(df.Location, df.Flavour, df.Sales, colors=['red','blue', 'black'], markers=['o', 's', 'D'], ms=10)\n",
        "\n",
        "# Add axis labels and a title\n",
        "plt.xlabel(\"Location\")\n",
        "plt.ylabel(\"Sales\")\n",
        "plt.title(\"Interaction Plot: Sales by Location and Flavour\")\n",
        "\n",
        "# Show the plot\n",
        "plt.show()\n"
      ],
      "metadata": {
        "colab": {
          "base_uri": "https://localhost:8080/",
          "height": 492
        },
        "id": "6IveKcd0jGeg",
        "outputId": "b5a54c8b-fd15-4d3f-8295-afe72a07a2ae"
      },
      "execution_count": 10,
      "outputs": [
        {
          "output_type": "display_data",
          "data": {
            "text/plain": [
              "<Figure size 640x480 with 1 Axes>"
            ],
            "image/png": "[encoded data removed]"
          },
          "metadata": {}
        }
      ]
    },
    {
      "cell_type": "markdown",
      "source": [
        "\n",
        "We can observe that:\n",
        "\n",
        "**Cola (Red, Oval Marker):**\n",
        "- Sales start from around 130 in the east, increase to approximately 132 in the north, peak at 152 in the south, and decrease to around 110 in the west.\n",
        "\n",
        "**Lemon (Blue, Square Marker):**\n",
        "- Sales start from around 147 in the east, increase to approximately 155 in the north, decrease to around 140 in the south, and peak at 165 in the west.\n",
        "\n",
        "\n",
        "**Orange (Black, Diamond Marker):**\n",
        "- Sales start from around 132 in the east, decrease to approximately 129 in the north, peak at 166 in the south, and decrease to around 145 in the west.\n",
        "\n",
        "<br>\n",
        "\n",
        "**Observations:**\n",
        "\n",
        "- For each flavor, the sales pattern varies across different locations.\n",
        "- There is no consistent pattern across all flavors and locations.\n",
        "- The lines representing different flavors are not entirely parallel, suggesting some variability in the effect of location on sales for each flavor.\n",
        "\n",
        "**Interpretation:**\n",
        "- The observed patterns in the interaction plot align with the ANOVA result, where the p-value for the interaction effect was not significant (0.357804).\n",
        "- The non-significant p-value suggests that the observed variations in sales across different flavors and locations may occur due to random chance, and there is no strong evidence for a significant interaction effect.\n",
        "\n",
        "**Conclusion:**\n",
        "The interaction plot supports the ANOVA result by showing variable patterns across flavors and locations, which is consistent with a non-significant interaction effect.</font>"
      ],
      "metadata": {
        "id": "N5mO0Z9okVpG"
      }
    },
    {
      "cell_type": "markdown",
      "source": [
        "### KS Test:\n",
        "Non Parametric Test for comparing two Distributions\n",
        "https://en.wikipedia.org/wiki/Kolmogorov%E2%80%93Smirnov_test\n"
      ],
      "metadata": {
        "id": "xg81nYHOiPj8"
      }
    },
    {
      "cell_type": "code",
      "source": [
        "from scipy import stats\n",
        "import numpy as np\n",
        "import matplotlib.pyplot as plt"
      ],
      "metadata": {
        "id": "tK75dlHZiPPc"
      },
      "execution_count": 11,
      "outputs": []
    },
    {
      "cell_type": "markdown",
      "source": [
        "**Null Hypothesis (H0):** The distribution of X is the same as the distribution of Y.\n",
        "\n",
        "**Alternative Hypothesis (H1):** The distribution of X is different from the distribution of Y."
      ],
      "metadata": {
        "id": "tBS2HtsZkmL8"
      }
    },
    {
      "cell_type": "markdown",
      "source": [
        "#### recovery times of patients who took medicine-1\n"
      ],
      "metadata": {
        "id": "SB85W8TIlJaX"
      }
    },
    {
      "cell_type": "code",
      "source": [
        "r1 = [8.82420842, 7.47774471, 7.55712098, 7.98131439, 6.82771606,\n",
        "       7.48566433, 9.15385732, 5.84040502, 8.26124313, 8.4728876 ,\n",
        "       6.82582186, 7.00490974, 8.43423058, 6.72099932, 6.97495982,\n",
        "       5.93748053, 5.40707847, 6.16385557, 6.71421056, 4.42396183,\n",
        "       6.87285228, 8.00313581, 6.69035041, 7.83622942, 8.70984957,\n",
        "       5.56284584, 9.08093437, 4.98165193, 7.67769408, 6.04738478,\n",
        "       7.64921582, 7.31051639, 6.74463303, 7.27356973, 8.16787232,\n",
        "       6.90990965, 7.06439167, 6.62921957, 6.08283539, 6.2458137 ,\n",
        "       8.65173634, 5.76080646, 6.20573219, 8.91561004, 6.22560201,\n",
        "       5.67542104, 6.97412435, 8.31354697, 8.14172701, 8.26099345,\n",
        "       7.87612791, 6.24835109, 9.95324783, 6.59504627, 6.17365145,\n",
        "       6.05676895, 7.23030223, 7.71311809, 7.37163804, 5.69798738,\n",
        "       5.71056902, 7.94556876, 7.47234105, 6.85346234, 4.77892053,\n",
        "       6.92631063, 6.10681151, 7.06277198, 7.18023164, 7.78285327,\n",
        "       7.85500885, 6.54349161, 8.25949958, 6.44289198, 7.16705977,\n",
        "       6.03517015, 7.61274786, 7.032845  , 6.78161745, 7.07917968,\n",
        "       6.21549342, 5.34267439, 6.73039933, 7.70562561, 8.15117049,\n",
        "       6.72564324, 6.68220904, 8.50359274, 7.52912703, 7.34572493,\n",
        "       5.95734283, 6.58259396, 6.49394335, 8.68069592, 8.60547125,\n",
        "       6.8905056 , 7.72575925, 6.84801609, 7.96999724, 7.10420915]"
      ],
      "metadata": {
        "id": "-1DFaUgviQJS"
      },
      "execution_count": 12,
      "outputs": []
    },
    {
      "cell_type": "markdown",
      "source": [
        "#### recovery times of patietnts who took medicine-2\n"
      ],
      "metadata": {
        "id": "ue92vRFdlHZg"
      }
    },
    {
      "cell_type": "code",
      "source": [
        "r2 = [ 9.56597358,  7.49291458,  8.73841824,  7.63523452,  4.12559277,\n",
        "        7.3679259 ,  9.87873565,  6.14516559,  8.19923821,  7.30169992,\n",
        "       10.24606417,  6.83814477,  7.01611267,  6.15716049,  8.29590714,\n",
        "       12.3333305 ,  8.22144016,  6.06830071,  3.75820649,  6.69220157,\n",
        "       10.08721618,  9.70580422,  7.31050006, 11.40145721,  5.64818498,\n",
        "        7.38914449,  8.43740074,  6.3451435 ,  7.05694361,  8.1997151 ,\n",
        "        9.03059061,  7.76904679,  6.92375578,  5.78318543,  8.99027781,\n",
        "        7.56186529,  5.27095372,  8.32896688, 11.52935757,  7.08119961,\n",
        "        9.48825066,  9.14072759,  7.30357663,  8.62183754, 10.40999814,\n",
        "        8.70096763,  7.04645384,  6.378799  , 10.5098363 ,  7.36078888,\n",
        "        7.33403615,  8.07396248,  6.18309499,  7.24668404,  9.03430611,\n",
        "        8.99016584,  6.78606416,  8.436418  ,  6.85877947, 10.10405772,\n",
        "        6.74943076,  7.57812376,  7.12920671,  9.38065269,  9.57139966,\n",
        "        6.4484012 ,  6.93877043,  9.22141667,  8.34815638,  7.73980671,\n",
        "        7.17840767,  9.27913457,  6.49963224,  9.92287292,  7.63978639,\n",
        "        9.53931977,  9.02602273,  6.79374185,  8.59715131,  8.37747338,\n",
        "        8.78161815,  6.78716383,  8.28473394,  8.20283798, 12.50518811,\n",
        "       10.19772574,  8.93758457,  8.9540311 ,  8.28927558,  6.28935098,\n",
        "        7.69447559,  9.66777701, 10.33898342,  8.71199578,  5.12781581,\n",
        "        9.70954569,  9.13685031,  7.28989718,  8.0868909 ,  7.42937556,\n",
        "        7.31356749,  9.92345816,  8.60211814,  9.33228465,  8.14132658,\n",
        "        6.17871495, 10.28358242,  7.31898597,  7.95085527,  6.20331719,\n",
        "        9.19119762,  6.98600628,  7.05314883, 10.57921482,  6.83637574,\n",
        "        7.86199283,  8.23350975,  5.87625665,  7.78945364,  8.83612492]"
      ],
      "metadata": {
        "id": "Ybr2xkd1lETg"
      },
      "execution_count": 13,
      "outputs": []
    },
    {
      "cell_type": "code",
      "source": [
        "d1 = np.array(r1)\n",
        "d2 = np.array(r2)\n",
        "n1 = len(d1)\n",
        "n2 = len(d2)\n",
        "n1, n2"
      ],
      "metadata": {
        "colab": {
          "base_uri": "https://localhost:8080/"
        },
        "id": "cXCQmytylLo7",
        "outputId": "046ba908-c836-4c64-adaa-a00cb6379ca8"
      },
      "execution_count": 14,
      "outputs": [
        {
          "output_type": "execute_result",
          "data": {
            "text/plain": [
              "(100, 120)"
            ]
          },
          "metadata": {},
          "execution_count": 14
        }
      ]
    },
    {
      "cell_type": "code",
      "source": [
        "d1.mean(), d2.mean()"
      ],
      "metadata": {
        "colab": {
          "base_uri": "https://localhost:8080/"
        },
        "id": "KARmRxpZhce1",
        "outputId": "7828a12b-29eb-4331-e413-1dbd6dfbcddf"
      },
      "execution_count": 15,
      "outputs": [
        {
          "output_type": "execute_result",
          "data": {
            "text/plain": [
              "(7.1049166262, 8.073423327583333)"
            ]
          },
          "metadata": {},
          "execution_count": 15
        }
      ]
    },
    {
      "cell_type": "code",
      "source": [
        "from scipy import stats\n",
        "\n",
        "\n",
        "statistic, p_value =  stats.kstest(d1, d2)\n",
        "print(\"KS Statistic:\", statistic)\n",
        "print(\"P-value:\", p_value)"
      ],
      "metadata": {
        "colab": {
          "base_uri": "https://localhost:8080/"
        },
        "id": "OfwbU6wwlOAY",
        "outputId": "6b9bd128-c017-493e-aef7-9dd9cb384a6f"
      },
      "execution_count": 16,
      "outputs": [
        {
          "output_type": "stream",
          "name": "stdout",
          "text": [
            "KS Statistic: 0.3233333333333333\n",
            "P-value: 1.516338798228849e-05\n"
          ]
        }
      ]
    },
    {
      "cell_type": "code",
      "source": [
        "# Check if the p-value is greater than 0.01\n",
        "if p_value > 0.01:\n",
        "    print(\"The p-value is greater than 0.01,two samples have the same distribution.\")\n",
        "else:\n",
        "    print(\"The p-value is less than or equal to 0.01, two samples have different distributions.\")"
      ],
      "metadata": {
        "colab": {
          "base_uri": "https://localhost:8080/"
        },
        "id": "nUPEvzyklQqt",
        "outputId": "6da418b0-e83c-4c81-ff57-2978395aa547"
      },
      "execution_count": 17,
      "outputs": [
        {
          "output_type": "stream",
          "name": "stdout",
          "text": [
            "The p-value is less than or equal to 0.01, two samples have different distributions.\n"
          ]
        }
      ]
    },
    {
      "cell_type": "code",
      "source": [
        "plt.grid()\n",
        "a = plt.hist(d1, bins=100, cumulative=True, label='CDF', density=True, histtype='step')\n",
        "b = plt.hist(d2, bins=100, cumulative=True, label='CDF', density=True, histtype='step')\n",
        "plt.show()"
      ],
      "metadata": {
        "colab": {
          "base_uri": "https://localhost:8080/",
          "height": 450
        },
        "id": "bGX6M4bslTK9",
        "outputId": "491db1b4-7d70-4a0b-f94d-b48384b053c0"
      },
      "execution_count": 18,
      "outputs": [
        {
          "output_type": "display_data",
          "data": {
            "text/plain": [
              "<Figure size 640x480 with 1 Axes>"
            ],
            "image/png": "[encoded data removed]"
          },
          "metadata": {}
        }
      ]
    },
    {
      "cell_type": "code",
      "source": [],
      "metadata": {
        "id": "VAAlf-oLlc_I"
      },
      "execution_count": null,
      "outputs": []
    },
    {
      "cell_type": "markdown",
      "source": [
        "### HW: Youtube Watch Time.\n",
        "\n",
        "\n",
        "<font color='violet'>Let's say you are a data scientist at YouTube and you may want to analyze user watch time based on the number of ads in the ad break.</font>\n",
        "\n",
        "- Should YouTube just roll out this 2 ads per ad break feature to all its users, thinking it will generate more revenue?\n",
        "- Or should it just stick to 1 ad per ad break thinking the watch time of users will drop?\n",
        "  - Well, we obviously can't rely just on gut feeling.\n",
        "\n",
        "We have to test the feature on some people before we roll it out to the masses\n",
        "- Whenever we want to test the consequences of a new feature\n",
        "- We usually perform tests on two groups"
      ],
      "metadata": {
        "id": "VANqFmWDmHXC"
      }
    },
    {
      "cell_type": "markdown",
      "source": [
        "\n",
        "<font color='violet'>1. Treatment Group</font>\n",
        "  - To which we introduce the new feature\n",
        "  - Treat them with a new feature\n",
        "\n",
        "<font color='violet'>2. Control Group</font>\n",
        "  - To which we do NOT introduce the new feature\n",
        "  - No new treatment\n",
        "\n",
        "Everything else between the Treatment and Control groups remains SAME like the Day and Time of the experiment ... etc etc\n",
        "- Just the new feature is introduced to the Treatment Group and NOT to the Control Group\n",
        "\n",
        "In general, it's called **\"A/B Testing\"** Experiment.\n"
      ],
      "metadata": {
        "id": "98r4NW31mfU1"
      }
    },
    {
      "cell_type": "code",
      "source": [
        "ab_test_data = pd.read_csv(\"https://raw.githubusercontent.com/SachinScaler/Oct24HypothesisTesting/refs/heads/main/ab_test_yt_data.csv\")\n",
        "\n",
        "ab_test_data.head(10)"
      ],
      "metadata": {
        "colab": {
          "base_uri": "https://localhost:8080/",
          "height": 377
        },
        "id": "Ny42sDbWnBBV",
        "outputId": "1dd249ae-b29b-4658-ca51-ed3b7fa99bf2"
      },
      "execution_count": 19,
      "outputs": [
        {
          "output_type": "execute_result",
          "data": {
            "text/plain": [
              "         date  customer_id  premium  watch_time_hrs customer_segmnt\n",
              "0  2018-09-11          402        0        7.173618         control\n",
              "1  2018-02-28          227        0        0.836170         control\n",
              "2  2018-10-18          812        1        4.402078       treatment\n",
              "3  2018-05-22           43        0        3.982454         control\n",
              "4  2018-07-18          307        0        7.513302         control\n",
              "5  2018-09-10          238        0        1.456961         control\n",
              "6  2018-02-21          691        1        3.800375       treatment\n",
              "7  2018-04-27          199        0        4.574446         control\n",
              "8  2018-05-28          105        0        3.425942         control\n",
              "9  2018-09-24          604        0        3.959896       treatment"
            ],
            "text/html": [
              "\n",
              "  <div id=\"df-42d517fa-97b5-4ed0-bbe2-ce93dab7fd2e\" class=\"colab-df-container\">\n",
              "    <div>\n",
              "<style scoped>\n",
              "    .dataframe tbody tr th:only-of-type {\n",
              "        vertical-align: middle;\n",
              "    }\n",
              "\n",
              "    .dataframe tbody tr th {\n",
              "        vertical-align: top;\n",
              "    }\n",
              "\n",
              "    .dataframe thead th {\n",
              "        text-align: right;\n",
              "    }\n",
              "</style>\n",
              "<table border=\"1\" class=\"dataframe\">\n",
              "  <thead>\n",
              "    <tr style=\"text-align: right;\">\n",
              "      <th></th>\n",
              "      <th>date</th>\n",
              "      <th>customer_id</th>\n",
              "      <th>premium</th>\n",
              "      <th>watch_time_hrs</th>\n",
              "      <th>customer_segmnt</th>\n",
              "    </tr>\n",
              "  </thead>\n",
              "  <tbody>\n",
              "    <tr>\n",
              "      <th>0</th>\n",
              "      <td>2018-09-11</td>\n",
              "      <td>402</td>\n",
              "      <td>0</td>\n",
              "      <td>7.173618</td>\n",
              "      <td>control</td>\n",
              "    </tr>\n",
              "    <tr>\n",
              "      <th>1</th>\n",
              "      <td>2018-02-28</td>\n",
              "      <td>227</td>\n",
              "      <td>0</td>\n",
              "      <td>0.836170</td>\n",
              "      <td>control</td>\n",
              "    </tr>\n",
              "    <tr>\n",
              "      <th>2</th>\n",
              "      <td>2018-10-18</td>\n",
              "      <td>812</td>\n",
              "      <td>1</td>\n",
              "      <td>4.402078</td>\n",
              "      <td>treatment</td>\n",
              "    </tr>\n",
              "    <tr>\n",
              "      <th>3</th>\n",
              "      <td>2018-05-22</td>\n",
              "      <td>43</td>\n",
              "      <td>0</td>\n",
              "      <td>3.982454</td>\n",
              "      <td>control</td>\n",
              "    </tr>\n",
              "    <tr>\n",
              "      <th>4</th>\n",
              "      <td>2018-07-18</td>\n",
              "      <td>307</td>\n",
              "      <td>0</td>\n",
              "      <td>7.513302</td>\n",
              "      <td>control</td>\n",
              "    </tr>\n",
              "    <tr>\n",
              "      <th>5</th>\n",
              "      <td>2018-09-10</td>\n",
              "      <td>238</td>\n",
              "      <td>0</td>\n",
              "      <td>1.456961</td>\n",
              "      <td>control</td>\n",
              "    </tr>\n",
              "    <tr>\n",
              "      <th>6</th>\n",
              "      <td>2018-02-21</td>\n",
              "      <td>691</td>\n",
              "      <td>1</td>\n",
              "      <td>3.800375</td>\n",
              "      <td>treatment</td>\n",
              "    </tr>\n",
              "    <tr>\n",
              "      <th>7</th>\n",
              "      <td>2018-04-27</td>\n",
              "      <td>199</td>\n",
              "      <td>0</td>\n",
              "      <td>4.574446</td>\n",
              "      <td>control</td>\n",
              "    </tr>\n",
              "    <tr>\n",
              "      <th>8</th>\n",
              "      <td>2018-05-28</td>\n",
              "      <td>105</td>\n",
              "      <td>0</td>\n",
              "      <td>3.425942</td>\n",
              "      <td>control</td>\n",
              "    </tr>\n",
              "    <tr>\n",
              "      <th>9</th>\n",
              "      <td>2018-09-24</td>\n",
              "      <td>604</td>\n",
              "      <td>0</td>\n",
              "      <td>3.959896</td>\n",
              "      <td>treatment</td>\n",
              "    </tr>\n",
              "  </tbody>\n",
              "</table>\n",
              "</div>\n",
              "    <div class=\"colab-df-buttons\">\n",
              "\n",
              "  <div class=\"colab-df-container\">\n",
              "    <button class=\"colab-df-convert\" onclick=\"convertToInteractive('df-42d517fa-97b5-4ed0-bbe2-ce93dab7fd2e')\"\n",
              "            title=\"Convert this dataframe to an interactive table.\"\n",
              "            style=\"display:none;\">\n",
              "\n",
              "  <svg xmlns=\"http://www.w3.org/2000/svg\" height=\"24px\" viewBox=\"0 -960 960 960\">\n",
              "    <path d=\"M120-120v-720h720v720H120Zm60-500h600v-160H180v160Zm220 220h160v-160H400v160Zm0 220h160v-160H400v160ZM180-400h160v-160H180v160Zm440 0h160v-160H620v160ZM180-180h160v-160H180v160Zm440 0h160v-160H620v160Z\"/>\n",
              "  </svg>\n",
              "    </button>\n",
              "\n",
              "  <style>\n",
              "    .colab-df-container {\n",
              "      display:flex;\n",
              "      gap: 12px;\n",
              "    }\n",
              "\n",
              "    .colab-df-convert {\n",
              "      background-color: #E8F0FE;\n",
              "      border: none;\n",
              "      border-radius: 50%;\n",
              "      cursor: pointer;\n",
              "      display: none;\n",
              "      fill: #1967D2;\n",
              "      height: 32px;\n",
              "      padding: 0 0 0 0;\n",
              "      width: 32px;\n",
              "    }\n",
              "\n",
              "    .colab-df-convert:hover {\n",
              "      background-color: #E2EBFA;\n",
              "      box-shadow: 0px 1px 2px rgba(60, 64, 67, 0.3), 0px 1px 3px 1px rgba(60, 64, 67, 0.15);\n",
              "      fill: #174EA6;\n",
              "    }\n",
              "\n",
              "    .colab-df-buttons div {\n",
              "      margin-bottom: 4px;\n",
              "    }\n",
              "\n",
              "    [theme=dark] .colab-df-convert {\n",
              "      background-color: #3B4455;\n",
              "      fill: #D2E3FC;\n",
              "    }\n",
              "\n",
              "    [theme=dark] .colab-df-convert:hover {\n",
              "      background-color: #434B5C;\n",
              "      box-shadow: 0px 1px 3px 1px rgba(0, 0, 0, 0.15);\n",
              "      filter: drop-shadow(0px 1px 2px rgba(0, 0, 0, 0.3));\n",
              "      fill: #FFFFFF;\n",
              "    }\n",
              "  </style>\n",
              "\n",
              "    <script>\n",
              "      const buttonEl =\n",
              "        document.querySelector('#df-42d517fa-97b5-4ed0-bbe2-ce93dab7fd2e button.colab-df-convert');\n",
              "      buttonEl.style.display =\n",
              "        google.colab.kernel.accessAllowed ? 'block' : 'none';\n",
              "\n",
              "      async function convertToInteractive(key) {\n",
              "        const element = document.querySelector('#df-42d517fa-97b5-4ed0-bbe2-ce93dab7fd2e');\n",
              "        const dataTable =\n",
              "          await google.colab.kernel.invokeFunction('convertToInteractive',\n",
              "                                                    [key], {});\n",
              "        if (!dataTable) return;\n",
              "\n",
              "        const docLinkHtml = 'Like what you see? Visit the ' +\n",
              "          '<a target=\"_blank\" href=https://colab.research.google.com/notebooks/data_table.ipynb>data table notebook</a>'\n",
              "          + ' to learn more about interactive tables.';\n",
              "        element.innerHTML = '';\n",
              "        dataTable['output_type'] = 'display_data';\n",
              "        await google.colab.output.renderOutput(dataTable, element);\n",
              "        const docLink = document.createElement('div');\n",
              "        docLink.innerHTML = docLinkHtml;\n",
              "        element.appendChild(docLink);\n",
              "      }\n",
              "    </script>\n",
              "  </div>\n",
              "\n",
              "\n",
              "<div id=\"df-f626b788-5868-46ca-8e3e-a2fe6198482b\">\n",
              "  <button class=\"colab-df-quickchart\" onclick=\"quickchart('df-f626b788-5868-46ca-8e3e-a2fe6198482b')\"\n",
              "            title=\"Suggest charts\"\n",
              "            style=\"display:none;\">\n",
              "\n",
              "<svg xmlns=\"http://www.w3.org/2000/svg\" height=\"24px\"viewBox=\"0 0 24 24\"\n",
              "     width=\"24px\">\n",
              "    <g>\n",
              "        <path d=\"M19 3H5c-1.1 0-2 .9-2 2v14c0 1.1.9 2 2 2h14c1.1 0 2-.9 2-2V5c0-1.1-.9-2-2-2zM9 17H7v-7h2v7zm4 0h-2V7h2v10zm4 0h-2v-4h2v4z\"/>\n",
              "    </g>\n",
              "</svg>\n",
              "  </button>\n",
              "\n",
              "<style>\n",
              "  .colab-df-quickchart {\n",
              "      --bg-color: #E8F0FE;\n",
              "      --fill-color: #1967D2;\n",
              "      --hover-bg-color: #E2EBFA;\n",
              "      --hover-fill-color: #174EA6;\n",
              "      --disabled-fill-color: #AAA;\n",
              "      --disabled-bg-color: #DDD;\n",
              "  }\n",
              "\n",
              "  [theme=dark] .colab-df-quickchart {\n",
              "      --bg-color: #3B4455;\n",
              "      --fill-color: #D2E3FC;\n",
              "      --hover-bg-color: #434B5C;\n",
              "      --hover-fill-color: #FFFFFF;\n",
              "      --disabled-bg-color: #3B4455;\n",
              "      --disabled-fill-color: #666;\n",
              "  }\n",
              "\n",
              "  .colab-df-quickchart {\n",
              "    background-color: var(--bg-color);\n",
              "    border: none;\n",
              "    border-radius: 50%;\n",
              "    cursor: pointer;\n",
              "    display: none;\n",
              "    fill: var(--fill-color);\n",
              "    height: 32px;\n",
              "    padding: 0;\n",
              "    width: 32px;\n",
              "  }\n",
              "\n",
              "  .colab-df-quickchart:hover {\n",
              "    background-color: var(--hover-bg-color);\n",
              "    box-shadow: 0 1px 2px rgba(60, 64, 67, 0.3), 0 1px 3px 1px rgba(60, 64, 67, 0.15);\n",
              "    fill: var(--button-hover-fill-color);\n",
              "  }\n",
              "\n",
              "  .colab-df-quickchart-complete:disabled,\n",
              "  .colab-df-quickchart-complete:disabled:hover {\n",
              "    background-color: var(--disabled-bg-color);\n",
              "    fill: var(--disabled-fill-color);\n",
              "    box-shadow: none;\n",
              "  }\n",
              "\n",
              "  .colab-df-spinner {\n",
              "    border: 2px solid var(--fill-color);\n",
              "    border-color: transparent;\n",
              "    border-bottom-color: var(--fill-color);\n",
              "    animation:\n",
              "      spin 1s steps(1) infinite;\n",
              "  }\n",
              "\n",
              "  @keyframes spin {\n",
              "    0% {\n",
              "      border-color: transparent;\n",
              "      border-bottom-color: var(--fill-color);\n",
              "      border-left-color: var(--fill-color);\n",
              "    }\n",
              "    20% {\n",
              "      border-color: transparent;\n",
              "      border-left-color: var(--fill-color);\n",
              "      border-top-color: var(--fill-color);\n",
              "    }\n",
              "    30% {\n",
              "      border-color: transparent;\n",
              "      border-left-color: var(--fill-color);\n",
              "      border-top-color: var(--fill-color);\n",
              "      border-right-color: var(--fill-color);\n",
              "    }\n",
              "    40% {\n",
              "      border-color: transparent;\n",
              "      border-right-color: var(--fill-color);\n",
              "      border-top-color: var(--fill-color);\n",
              "    }\n",
              "    60% {\n",
              "      border-color: transparent;\n",
              "      border-right-color: var(--fill-color);\n",
              "    }\n",
              "    80% {\n",
              "      border-color: transparent;\n",
              "      border-right-color: var(--fill-color);\n",
              "      border-bottom-color: var(--fill-color);\n",
              "    }\n",
              "    90% {\n",
              "      border-color: transparent;\n",
              "      border-bottom-color: var(--fill-color);\n",
              "    }\n",
              "  }\n",
              "</style>\n",
              "\n",
              "  <script>\n",
              "    async function quickchart(key) {\n",
              "      const quickchartButtonEl =\n",
              "        document.querySelector('#' + key + ' button');\n",
              "      quickchartButtonEl.disabled = true;  // To prevent multiple clicks.\n",
              "      quickchartButtonEl.classList.add('colab-df-spinner');\n",
              "      try {\n",
              "        const charts = await google.colab.kernel.invokeFunction(\n",
              "            'suggestCharts', [key], {});\n",
              "      } catch (error) {\n",
              "        console.error('Error during call to suggestCharts:', error);\n",
              "      }\n",
              "      quickchartButtonEl.classList.remove('colab-df-spinner');\n",
              "      quickchartButtonEl.classList.add('colab-df-quickchart-complete');\n",
              "    }\n",
              "    (() => {\n",
              "      let quickchartButtonEl =\n",
              "        document.querySelector('#df-f626b788-5868-46ca-8e3e-a2fe6198482b button');\n",
              "      quickchartButtonEl.style.display =\n",
              "        google.colab.kernel.accessAllowed ? 'block' : 'none';\n",
              "    })();\n",
              "  </script>\n",
              "</div>\n",
              "\n",
              "    </div>\n",
              "  </div>\n"
            ],
            "application/vnd.google.colaboratory.intrinsic+json": {
              "type": "dataframe",
              "variable_name": "ab_test_data",
              "summary": "{\n  \"name\": \"ab_test_data\",\n  \"rows\": 19960,\n  \"fields\": [\n    {\n      \"column\": \"date\",\n      \"properties\": {\n        \"dtype\": \"object\",\n        \"num_unique_values\": 365,\n        \"samples\": [\n          \"2018-09-22\",\n          \"2018-03-23\",\n          \"2018-12-09\"\n        ],\n        \"semantic_type\": \"\",\n        \"description\": \"\"\n      }\n    },\n    {\n      \"column\": \"customer_id\",\n      \"properties\": {\n        \"dtype\": \"number\",\n        \"std\": 288,\n        \"min\": 0,\n        \"max\": 999,\n        \"num_unique_values\": 999,\n        \"samples\": [\n          940,\n          976,\n          230\n        ],\n        \"semantic_type\": \"\",\n        \"description\": \"\"\n      }\n    },\n    {\n      \"column\": \"premium\",\n      \"properties\": {\n        \"dtype\": \"number\",\n        \"std\": 0,\n        \"min\": 0,\n        \"max\": 1,\n        \"num_unique_values\": 2,\n        \"samples\": [\n          1,\n          0\n        ],\n        \"semantic_type\": \"\",\n        \"description\": \"\"\n      }\n    },\n    {\n      \"column\": \"watch_time_hrs\",\n      \"properties\": {\n        \"dtype\": \"number\",\n        \"std\": 2.4749427624837885,\n        \"min\": 0.1602677186750329,\n        \"max\": 21.35611883131489,\n        \"num_unique_values\": 19960,\n        \"samples\": [\n          2.387314665869825,\n          4.141617832585812\n        ],\n        \"semantic_type\": \"\",\n        \"description\": \"\"\n      }\n    },\n    {\n      \"column\": \"customer_segmnt\",\n      \"properties\": {\n        \"dtype\": \"category\",\n        \"num_unique_values\": 2,\n        \"samples\": [\n          \"treatment\",\n          \"control\"\n        ],\n        \"semantic_type\": \"\",\n        \"description\": \"\"\n      }\n    }\n  ]\n}"
            }
          },
          "metadata": {},
          "execution_count": 19
        }
      ]
    },
    {
      "cell_type": "code",
      "source": [
        "ab_test_data['customer_segmnt'].value_counts()"
      ],
      "metadata": {
        "colab": {
          "base_uri": "https://localhost:8080/",
          "height": 195
        },
        "id": "nTir0oggigEa",
        "outputId": "78519553-576b-4fde-80f1-41bcbaf177aa"
      },
      "execution_count": 20,
      "outputs": [
        {
          "output_type": "execute_result",
          "data": {
            "text/plain": [
              "customer_segmnt\n",
              "treatment    9987\n",
              "control      9973\n",
              "Name: count, dtype: int64"
            ],
            "text/html": [
              "<div>\n",
              "<style scoped>\n",
              "    .dataframe tbody tr th:only-of-type {\n",
              "        vertical-align: middle;\n",
              "    }\n",
              "\n",
              "    .dataframe tbody tr th {\n",
              "        vertical-align: top;\n",
              "    }\n",
              "\n",
              "    .dataframe thead th {\n",
              "        text-align: right;\n",
              "    }\n",
              "</style>\n",
              "<table border=\"1\" class=\"dataframe\">\n",
              "  <thead>\n",
              "    <tr style=\"text-align: right;\">\n",
              "      <th></th>\n",
              "      <th>count</th>\n",
              "    </tr>\n",
              "    <tr>\n",
              "      <th>customer_segmnt</th>\n",
              "      <th></th>\n",
              "    </tr>\n",
              "  </thead>\n",
              "  <tbody>\n",
              "    <tr>\n",
              "      <th>treatment</th>\n",
              "      <td>9987</td>\n",
              "    </tr>\n",
              "    <tr>\n",
              "      <th>control</th>\n",
              "      <td>9973</td>\n",
              "    </tr>\n",
              "  </tbody>\n",
              "</table>\n",
              "</div><br><label><b>dtype:</b> int64</label>"
            ]
          },
          "metadata": {},
          "execution_count": 20
        }
      ]
    },
    {
      "cell_type": "code",
      "source": [
        "ab_test_data.info()"
      ],
      "metadata": {
        "id": "oRtwYi5KnfTZ"
      },
      "execution_count": null,
      "outputs": []
    },
    {
      "cell_type": "markdown",
      "source": [
        "our A/B Test Data has:\n",
        "\n",
        "- Date on which observation was taken\n",
        "- Customer ID for each user\n",
        "- premium - It tells whether a customer has a premium subscription (ad-free) to YouTube or NOT.\n",
        "  - 0 means the customer has NOT purchased a premium subscription\n",
        "  - 1 means the customer has purchased a premium subscription\n",
        "  - We will not use this attribute for our Hypothesis Testing today\n",
        "- **Watch time** of each user in **hours**\n",
        "- Whether the user was in **Treatment Group or Control Group**\n",
        "\n",
        "Keep in mind that:\n",
        "\n",
        "- Users belonging to the **Treatment Group** are shown **2 ads** per ad break\n",
        "- Users in the **Control Group** are shown **1 ad** per ad break\n",
        "- We have data of total 19,960 users"
      ],
      "metadata": {
        "id": "g-7OWX3rnAeN"
      }
    },
    {
      "cell_type": "markdown",
      "source": [
        "\n",
        "<font color='violet'>Whether YouTube should roll out the new feature of 2 ads per ad break?\n",
        "Or should it just stick to showing 1 ad per ad break?</font>\n",
        "\n",
        "<font color='violet'>What are our Null and Alternate Hypotheses?</font>\n",
        "\n",
        "- Null Hypothesis ($H_0$): Mean Watch Time of Users given 2 ads = Mean Watch Time of Users given 1 ad per ad break\n",
        "- Alternative Hypothesis ($H_1$): Mean Watch Time of Users given 2 ads <> Mean Watch Time of Users given 1 ad per ad break"
      ],
      "metadata": {
        "id": "3jW94zVlmnjY"
      }
    },
    {
      "cell_type": "markdown",
      "source": [
        "**Question:** Check the p-value against alpha of 0.05\n",
        "\n",
        "and tell if can we Reject the Null Hypothesis and go with the Alternate Hypothesis.\n",
        "\n"
      ],
      "metadata": {
        "id": "tCFf0JuXnoDD"
      }
    },
    {
      "cell_type": "markdown",
      "source": [
        "## Resume: 8:35"
      ],
      "metadata": {
        "id": "779puV2ojFCv"
      }
    },
    {
      "cell_type": "code",
      "source": [
        "import seaborn as sns\n",
        "\n",
        "sns.histplot(ab_test_data['watch_time_hrs'], bins = 100)"
      ],
      "metadata": {
        "id": "ShpI8xPsmJuP",
        "colab": {
          "base_uri": "https://localhost:8080/",
          "height": 491
        },
        "outputId": "a6f629a1-3531-4144-b75c-fc5f40ab3933"
      },
      "execution_count": 21,
      "outputs": [
        {
          "output_type": "execute_result",
          "data": {
            "text/plain": [
              "<Axes: xlabel='watch_time_hrs', ylabel='Count'>"
            ]
          },
          "metadata": {},
          "execution_count": 21
        },
        {
          "output_type": "display_data",
          "data": {
            "text/plain": [
              "<Figure size 640x480 with 1 Axes>"
            ],
            "image/png": "[encoded data removed]"
          },
          "metadata": {}
        }
      ]
    },
    {
      "cell_type": "markdown",
      "source": [
        "- can you try to convert this into normal"
      ],
      "metadata": {
        "id": "zqZuY1a7n8Ap"
      }
    },
    {
      "cell_type": "code",
      "source": [
        "sns.histplot(np.log(ab_test_data['watch_time_hrs']), bins = 100)"
      ],
      "metadata": {
        "colab": {
          "base_uri": "https://localhost:8080/",
          "height": 487
        },
        "id": "0Ih3bUj-oB-y",
        "outputId": "f37487aa-09a6-4c55-d126-e20a66fe4764"
      },
      "execution_count": 22,
      "outputs": [
        {
          "output_type": "execute_result",
          "data": {
            "text/plain": [
              "<Axes: xlabel='watch_time_hrs', ylabel='Count'>"
            ]
          },
          "metadata": {},
          "execution_count": 22
        },
        {
          "output_type": "display_data",
          "data": {
            "text/plain": [
              "<Figure size 640x480 with 1 Axes>"
            ],
            "image/png": "[encoded data removed]"
          },
          "metadata": {}
        }
      ]
    },
    {
      "cell_type": "code",
      "source": [
        "ab_test_data.groupby(\"customer_segmnt\")[\"watch_time_hrs\"].mean()"
      ],
      "metadata": {
        "colab": {
          "base_uri": "https://localhost:8080/",
          "height": 195
        },
        "id": "4qqY_DpgoB77",
        "outputId": "9188b4be-67e9-41a9-da04-8692b263dafa"
      },
      "execution_count": 24,
      "outputs": [
        {
          "output_type": "execute_result",
          "data": {
            "text/plain": [
              "customer_segmnt\n",
              "control      3.609960\n",
              "treatment    3.054294\n",
              "Name: watch_time_hrs, dtype: float64"
            ],
            "text/html": [
              "<div>\n",
              "<style scoped>\n",
              "    .dataframe tbody tr th:only-of-type {\n",
              "        vertical-align: middle;\n",
              "    }\n",
              "\n",
              "    .dataframe tbody tr th {\n",
              "        vertical-align: top;\n",
              "    }\n",
              "\n",
              "    .dataframe thead th {\n",
              "        text-align: right;\n",
              "    }\n",
              "</style>\n",
              "<table border=\"1\" class=\"dataframe\">\n",
              "  <thead>\n",
              "    <tr style=\"text-align: right;\">\n",
              "      <th></th>\n",
              "      <th>watch_time_hrs</th>\n",
              "    </tr>\n",
              "    <tr>\n",
              "      <th>customer_segmnt</th>\n",
              "      <th></th>\n",
              "    </tr>\n",
              "  </thead>\n",
              "  <tbody>\n",
              "    <tr>\n",
              "      <th>control</th>\n",
              "      <td>3.609960</td>\n",
              "    </tr>\n",
              "    <tr>\n",
              "      <th>treatment</th>\n",
              "      <td>3.054294</td>\n",
              "    </tr>\n",
              "  </tbody>\n",
              "</table>\n",
              "</div><br><label><b>dtype:</b> float64</label>"
            ]
          },
          "metadata": {},
          "execution_count": 24
        }
      ]
    },
    {
      "cell_type": "code",
      "source": [
        "a = ab_test_data[ab_test_data['customer_segmnt'] == 'control']['watch_time_hrs']\n",
        "b = ab_test_data[ab_test_data['customer_segmnt'] == 'treatment']['watch_time_hrs']"
      ],
      "metadata": {
        "id": "U3JWtZT9oh0T"
      },
      "execution_count": 25,
      "outputs": []
    },
    {
      "cell_type": "code",
      "source": [
        "from scipy.stats import ttest_ind\n",
        "\n",
        "stats, p_val = ttest_ind(a, b)\n",
        "print(\"stats\", stats)\n",
        "print(\"p_val\", p_val)"
      ],
      "metadata": {
        "colab": {
          "base_uri": "https://localhost:8080/"
        },
        "id": "lVvrzk6DoB5C",
        "outputId": "d8fa7c5a-9859-4f69-c87d-c03d5f8a9c30"
      },
      "execution_count": 26,
      "outputs": [
        {
          "output_type": "stream",
          "name": "stdout",
          "text": [
            "stats 15.96034913022092\n",
            "p_val 5.438408586231319e-57\n"
          ]
        }
      ]
    },
    {
      "cell_type": "markdown",
      "source": [
        "Conclusion:\n",
        "- p_val < 0.05\n",
        "- reject H0\n",
        "- There is significant difference among watch time"
      ],
      "metadata": {
        "id": "0MZNB77mpAIG"
      }
    },
    {
      "cell_type": "markdown",
      "source": [
        "\n",
        "### <font color='sky blue'>Parametric vs Non-parametric </font>\n",
        "\n",
        "#### <font color='violet'>Parametric Hypothesis Testing:</font>\n",
        "\n",
        "<font color='orange'>Assumptions:</font>\n",
        "\n",
        "- Make specific assumptions about the underlying population distribution, often assuming normality (bell-shaped curve).\n",
        "- Generally more powerful (better at detecting true effects) when assumptions are met.\n",
        "- More powerful when assumptions are met, especially with large sample sizes\n",
        "\n",
        "#### <font color='violet'>Non-Parametric Hypothesis Testing:</font>\n",
        "\n",
        "<font color='orange'>Assumptions:</font>\n",
        "\n",
        "- Make fewer or no assumptions about population distribution.\n",
        "- Useful when parametric assumptions are violated or for non-normally distributed data.\n",
        "- Non-parametric tests are generally less powerful but more robust than parametric tests when data conforms to parametric assumptions.\n",
        "\n",
        "Let's see for each test we have learned till now, indicating whether it is parametric or non-parametric and the reasons why:\n",
        "\n",
        "<img src=\"https://d2beiqkhq929f0.cloudfront.net/public_assets/assets/000/068/290/original/Screen_Shot_2024-03-18_at_15.11.25_PM.png?1710754908\" width=\"800\" height=\"450\"> <br />\n",
        "\n"
      ],
      "metadata": {
        "id": "rPesYh6Nn3-D"
      }
    },
    {
      "cell_type": "code",
      "source": [],
      "metadata": {
        "id": "oPKtN9-Vn4RR"
      },
      "execution_count": null,
      "outputs": []
    }
  ]
}